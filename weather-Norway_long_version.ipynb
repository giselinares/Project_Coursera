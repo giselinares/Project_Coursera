{
 "cells": [
  {
   "cell_type": "markdown",
   "metadata": {},
   "source": [
    "# Weather in Norway\n",
    "This code retrieves, parse_dlys and plots weather data for climate change analysis by comparing the years with minimum and maximum temperature from different weather stations in Norway "
   ]
  },
  {
   "cell_type": "code",
   "execution_count": 86,
   "metadata": {},
   "outputs": [],
   "source": [
    "%matplotlib inline\n",
    "import numpy as np\n",
    "import matplotlib.pyplot as pp\n",
    "import seaborn\n",
    "import urllib.request"
   ]
  },
  {
   "cell_type": "markdown",
   "metadata": {},
   "source": [
    "### 1. Getting data from FTP using request"
   ]
  },
  {
   "cell_type": "markdown",
   "metadata": {},
   "source": [
    "Using request library to retrieve data from U.S. NOAA Climate Data Online service and specifically from URLs \n",
    "https://www1.ncdc.noaa.gov/pub/data/ghcn/daily/"
   ]
  },
  {
   "cell_type": "markdown",
   "metadata": {},
   "source": [
    " - Retrieving metada with information about DAILY GLOBAL HISTORICAL CLIMATOLOGY NETWORK (GHCN-DAILY), how to download the data, contents and formats of data files\n",
    " - Retrieving stations.txt that contains list of stations and their metadata (e.g., coordinates)\n",
    " - Retrieving .dly files which is the data Global Surface Network (GSN)\n",
    " - Retrieving ghcnd-countries.txt with country codes"
   ]
  },
  {
   "cell_type": "code",
   "execution_count": 90,
   "metadata": {},
   "outputs": [
    {
     "data": {
      "text/plain": [
       "('readme.txt', <email.message.Message at 0x7fd7fe69c2b0>)"
      ]
     },
     "execution_count": 90,
     "metadata": {},
     "output_type": "execute_result"
    }
   ],
   "source": [
    "urllib.request.urlretrieve('ftp://ftp.ncdc.noaa.gov/pub/data/ghcn/daily/readme.txt','readme.txt')\n",
    "urllib.request.urlretrieve('ftp://ftp.ncdc.noaa.gov/pub/data/ghcn/daily/ghcnd-stations.txt','stations.txt')\n",
    "urllib.request.urlretrieve('ftp://ftp.ncdc.noaa.gov/pub/data/ghcn/daily/ghcnd_gsn.tar.gz','ghcnd_gsn.tar.gz')\n",
    "urllib.request.urlretrieve('ftp://ftp.ncdc.noaa.gov/pub/data/ghcn/daily/ghcnd-countries.txt','ghcnd-countries.txt')"
   ]
  },
  {
   "cell_type": "markdown",
   "metadata": {},
   "source": [
    "- Unzipping the data"
   ]
  },
  {
   "cell_type": "code",
   "execution_count": 92,
   "metadata": {},
   "outputs": [
    {
     "name": "stdout",
     "output_type": "stream",
     "text": [
      "ghcnd_gsn/\n",
      "ghcnd_gsn/AE000041196.dly\n",
      "ghcnd_gsn/AF000040930.dly\n",
      "ghcnd_gsn/AG000060390.dly\n",
      "ghcnd_gsn/AG000060590.dly\n",
      "ghcnd_gsn/AG000060611.dly\n",
      "ghcnd_gsn/AG000060680.dly\n",
      "ghcnd_gsn/AJ000037989.dly\n",
      "ghcnd_gsn/ALM00013615.dly\n",
      "ghcnd_gsn/AM000037781.dly\n",
      "ghcnd_gsn/AO000066160.dly\n",
      "ghcnd_gsn/AO000066270.dly\n",
      "ghcnd_gsn/AO000066390.dly\n",
      "ghcnd_gsn/AO000066410.dly\n",
      "ghcnd_gsn/AO000066422.dly\n",
      "ghcnd_gsn/AO000066447.dly\n",
      "ghcnd_gsn/AQW00061705.dly\n",
      "ghcnd_gsn/AR000087007.dly\n",
      "ghcnd_gsn/AR000087065.dly\n",
      "ghcnd_gsn/AR000087078.dly\n",
      "ghcnd_gsn/AR000087155.dly\n",
      "ghcnd_gsn/AR000087217.dly\n",
      "ghcnd_gsn/AR000087257.dly\n",
      "ghcnd_gsn/AR000087270.dly\n",
      "ghcnd_gsn/AR000087344.dly\n",
      "ghcnd_gsn/AR000087374.dly\n",
      "ghcnd_gsn/AR000087418.dly\n",
      "ghcnd_gsn/AR000087534.dly\n",
      "ghcnd_gsn/AR000087623.dly\n",
      "ghcnd_gsn/AR000087692.dly\n",
      "ghcnd_gsn/AR000087715.dly\n",
      "ghcnd_gsn/AR000087803.dly\n",
      "ghcnd_gsn/AR000087828.dly\n",
      "ghcnd_gsn/AR000087860.dly\n",
      "ghcnd_gsn/AR000087925.dly\n",
      "ghcnd_gsn/AR000870470.dly\n",
      "ghcnd_gsn/AR000873050.dly\n",
      "ghcnd_gsn/AR000875440.dly\n",
      "ghcnd_gsn/AR000877500.dly\n",
      "ghcnd_gsn/ARM00087178.dly\n",
      "ghcnd_gsn/ARM00087289.dly\n",
      "ghcnd_gsn/ARM00087497.dly\n",
      "ghcnd_gsn/ARM00087506.dly\n",
      "ghcnd_gsn/ARM00087593.dly\n",
      "ghcnd_gsn/ASM00094299.dly\n",
      "ghcnd_gsn/ASM00094995.dly\n",
      "ghcnd_gsn/ASM00094998.dly\n",
      "ghcnd_gsn/ASN00001019.dly\n",
      "ghcnd_gsn/ASN00002012.dly\n",
      "ghcnd_gsn/ASN00003003.dly\n",
      "ghcnd_gsn/ASN00004032.dly\n",
      "ghcnd_gsn/ASN00005007.dly\n",
      "ghcnd_gsn/ASN00006011.dly\n",
      "ghcnd_gsn/ASN00007045.dly\n",
      "ghcnd_gsn/ASN00007176.dly\n",
      "ghcnd_gsn/ASN00008051.dly\n",
      "ghcnd_gsn/ASN00009518.dly\n",
      "ghcnd_gsn/ASN00009741.dly\n",
      "ghcnd_gsn/ASN00009789.dly\n",
      "ghcnd_gsn/ASN00010286.dly\n",
      "ghcnd_gsn/ASN00011052.dly\n",
      "ghcnd_gsn/ASN00012038.dly\n",
      "ghcnd_gsn/ASN00013017.dly\n",
      "ghcnd_gsn/ASN00014015.dly\n",
      "ghcnd_gsn/ASN00014508.dly\n",
      "ghcnd_gsn/ASN00014932.dly\n",
      "ghcnd_gsn/ASN00015135.dly\n",
      "ghcnd_gsn/ASN00015548.dly\n",
      "ghcnd_gsn/ASN00015590.dly\n",
      "ghcnd_gsn/ASN00017031.dly\n",
      "ghcnd_gsn/ASN00017043.dly\n",
      "ghcnd_gsn/ASN00018011.dly\n",
      "ghcnd_gsn/ASN00021133.dly\n",
      "ghcnd_gsn/ASN00022823.dly\n",
      "ghcnd_gsn/ASN00026020.dly\n",
      "ghcnd_gsn/ASN00027045.dly\n",
      "ghcnd_gsn/ASN00029077.dly\n",
      "ghcnd_gsn/ASN00029126.dly\n",
      "ghcnd_gsn/ASN00030045.dly\n",
      "ghcnd_gsn/ASN00030124.dly\n",
      "ghcnd_gsn/ASN00031010.dly\n",
      "ghcnd_gsn/ASN00033119.dly\n",
      "ghcnd_gsn/ASN00036031.dly\n",
      "ghcnd_gsn/ASN00038026.dly\n",
      "ghcnd_gsn/ASN00039123.dly\n",
      "ghcnd_gsn/ASN00040908.dly\n",
      "ghcnd_gsn/ASN00043109.dly\n",
      "ghcnd_gsn/ASN00044021.dly\n",
      "ghcnd_gsn/ASN00045025.dly\n",
      "ghcnd_gsn/ASN00046037.dly\n",
      "ghcnd_gsn/ASN00047007.dly\n",
      "ghcnd_gsn/ASN00048027.dly\n",
      "ghcnd_gsn/ASN00056242.dly\n",
      "ghcnd_gsn/ASN00058012.dly\n",
      "ghcnd_gsn/ASN00060141.dly\n",
      "ghcnd_gsn/ASN00065070.dly\n",
      "ghcnd_gsn/ASN00067033.dly\n",
      "ghcnd_gsn/ASN00069018.dly\n",
      "ghcnd_gsn/ASN00072091.dly\n",
      "ghcnd_gsn/ASN00072150.dly\n",
      "ghcnd_gsn/ASN00074258.dly\n",
      "ghcnd_gsn/ASN00076031.dly\n",
      "ghcnd_gsn/ASN00085072.dly\n",
      "ghcnd_gsn/ASN00090015.dly\n",
      "ghcnd_gsn/ASN00091293.dly\n",
      "ghcnd_gsn/ASN00094010.dly\n",
      "ghcnd_gsn/AU000005010.dly\n",
      "ghcnd_gsn/AU000005901.dly\n",
      "ghcnd_gsn/AU000015410.dly\n",
      "ghcnd_gsn/AYM00088963.dly\n",
      "ghcnd_gsn/AYM00088968.dly\n",
      "ghcnd_gsn/AYM00089002.dly\n",
      "ghcnd_gsn/AYM00089004.dly\n",
      "ghcnd_gsn/AYM00089022.dly\n",
      "ghcnd_gsn/AYM00089050.dly\n",
      "ghcnd_gsn/AYM00089055.dly\n",
      "ghcnd_gsn/AYM00089056.dly\n",
      "ghcnd_gsn/AYM00089062.dly\n",
      "ghcnd_gsn/AYM00089063.dly\n",
      "ghcnd_gsn/AYM00089065.dly\n",
      "ghcnd_gsn/AYM00089262.dly\n",
      "ghcnd_gsn/AYM00089266.dly\n",
      "ghcnd_gsn/AYM00089272.dly\n",
      "ghcnd_gsn/AYM00089324.dly\n",
      "ghcnd_gsn/AYM00089327.dly\n",
      "ghcnd_gsn/AYM00089329.dly\n",
      "ghcnd_gsn/AYM00089345.dly\n",
      "ghcnd_gsn/AYM00089376.dly\n",
      "ghcnd_gsn/AYM00089377.dly\n",
      "ghcnd_gsn/AYM00089512.dly\n",
      "ghcnd_gsn/AYM00089532.dly\n",
      "ghcnd_gsn/AYM00089564.dly\n",
      "ghcnd_gsn/AYM00089571.dly\n",
      "ghcnd_gsn/AYM00089573.dly\n",
      "ghcnd_gsn/AYM00089574.dly\n",
      "ghcnd_gsn/AYM00089577.dly\n",
      "ghcnd_gsn/AYM00089592.dly\n",
      "ghcnd_gsn/AYM00089606.dly\n",
      "ghcnd_gsn/AYM00089611.dly\n",
      "ghcnd_gsn/AYM00089625.dly\n",
      "ghcnd_gsn/AYM00089642.dly\n",
      "ghcnd_gsn/AYM00089662.dly\n",
      "ghcnd_gsn/AYM00089664.dly\n",
      "ghcnd_gsn/AYM00089744.dly\n",
      "ghcnd_gsn/AYM00089828.dly\n",
      "ghcnd_gsn/AYM00089865.dly\n",
      "ghcnd_gsn/AYM00089869.dly\n",
      "ghcnd_gsn/AYM00089872.dly\n",
      "ghcnd_gsn/AYM00089879.dly\n",
      "ghcnd_gsn/AYW00087602.dly\n",
      "ghcnd_gsn/AYW00090001.dly\n",
      "ghcnd_gsn/BA000041150.dly\n",
      "ghcnd_gsn/BB000078954.dly\n",
      "ghcnd_gsn/BC000068032.dly\n",
      "ghcnd_gsn/BDM00078016.dly\n",
      "ghcnd_gsn/BE000006447.dly\n",
      "ghcnd_gsn/BF000078073.dly\n",
      "ghcnd_gsn/BKM00014652.dly\n",
      "ghcnd_gsn/BL000085041.dly\n",
      "ghcnd_gsn/BL000085043.dly\n",
      "ghcnd_gsn/BL000085114.dly\n",
      "ghcnd_gsn/BL000085141.dly\n",
      "ghcnd_gsn/BL000085223.dly\n",
      "ghcnd_gsn/BL000085230.dly\n",
      "ghcnd_gsn/BL000085364.dly\n",
      "ghcnd_gsn/BL000085365.dly\n",
      "ghcnd_gsn/BLM00085207.dly\n",
      "ghcnd_gsn/BLM00085289.dly\n",
      "ghcnd_gsn/BMM00048042.dly\n",
      "ghcnd_gsn/BMM00048062.dly\n",
      "ghcnd_gsn/BMM00048097.dly\n",
      "ghcnd_gsn/BN000065306.dly\n",
      "ghcnd_gsn/BN000065335.dly\n",
      "ghcnd_gsn/BOM00033038.dly\n",
      "ghcnd_gsn/BP000091503.dly\n",
      "ghcnd_gsn/BPW00080601.dly\n",
      "ghcnd_gsn/BR000082704.dly\n",
      "ghcnd_gsn/BR000083361.dly\n",
      "ghcnd_gsn/BR001746006.dly\n",
      "ghcnd_gsn/BR002549075.dly\n",
      "ghcnd_gsn/BR00E3-0070.dly\n",
      "ghcnd_gsn/BR036190520.dly\n",
      "ghcnd_gsn/BR038014410.dly\n",
      "ghcnd_gsn/BR047403040.dly\n",
      "ghcnd_gsn/BR048620980.dly\n",
      "ghcnd_gsn/BR058514530.dly\n",
      "ghcnd_gsn/BRM00082024.dly\n",
      "ghcnd_gsn/BRM00082106.dly\n",
      "ghcnd_gsn/BRM00082113.dly\n",
      "ghcnd_gsn/BRM00082331.dly\n",
      "ghcnd_gsn/BRM00082410.dly\n",
      "ghcnd_gsn/BRM00082425.dly\n",
      "ghcnd_gsn/BRM00083064.dly\n",
      "ghcnd_gsn/BRM00083264.dly\n",
      "ghcnd_gsn/BY000064397.dly\n",
      "ghcnd_gsn/CA001026270.dly\n",
      "ghcnd_gsn/CA001032731.dly\n",
      "ghcnd_gsn/CA001096631.dly\n",
      "ghcnd_gsn/CA001163842.dly\n",
      "ghcnd_gsn/CA001192940.dly\n",
      "ghcnd_gsn/CA00119BLM0.dly\n",
      "ghcnd_gsn/CA002100402.dly\n",
      "ghcnd_gsn/CA002100693.dly\n",
      "ghcnd_gsn/CA002101204.dly\n",
      "ghcnd_gsn/CA002101310.dly\n",
      "ghcnd_gsn/CA002201903.dly\n",
      "ghcnd_gsn/CA002202102.dly\n",
      "ghcnd_gsn/CA002202202.dly\n",
      "ghcnd_gsn/CA002202402.dly\n",
      "ghcnd_gsn/CA002202578.dly\n",
      "ghcnd_gsn/CA002202810.dly\n",
      "ghcnd_gsn/CA002203058.dly\n",
      "ghcnd_gsn/CA002300501.dly\n",
      "ghcnd_gsn/CA002300904.dly\n",
      "ghcnd_gsn/CA002301000.dly\n",
      "ghcnd_gsn/CA002301102.dly\n",
      "ghcnd_gsn/CA002301153.dly\n",
      "ghcnd_gsn/CA002302340.dly\n",
      "ghcnd_gsn/CA002303094.dly\n",
      "ghcnd_gsn/CA002303610.dly\n",
      "ghcnd_gsn/CA002400305.dly\n",
      "ghcnd_gsn/CA002400404.dly\n",
      "ghcnd_gsn/CA002400573.dly\n",
      "ghcnd_gsn/CA002400602.dly\n",
      "ghcnd_gsn/CA002400636.dly\n",
      "ghcnd_gsn/CA002400802.dly\n",
      "ghcnd_gsn/CA002401200.dly\n",
      "ghcnd_gsn/CA002402353.dly\n",
      "ghcnd_gsn/CA002402592.dly\n",
      "ghcnd_gsn/CA002402604.dly\n",
      "ghcnd_gsn/CA002403049.dly\n",
      "ghcnd_gsn/CA002403204.dly\n",
      "ghcnd_gsn/CA002403505.dly\n",
      "ghcnd_gsn/CA002403756.dly\n",
      "ghcnd_gsn/CA002403945.dly\n",
      "ghcnd_gsn/CA002502505.dly\n",
      "ghcnd_gsn/CA002503648.dly\n",
      "ghcnd_gsn/CA00250M001.dly\n",
      "ghcnd_gsn/CA003034485.dly\n",
      "ghcnd_gsn/CA003050519.dly\n",
      "ghcnd_gsn/CA003062696.dly\n",
      "ghcnd_gsn/CA003066002.dly\n",
      "ghcnd_gsn/CA003073140.dly\n",
      "ghcnd_gsn/CA003081680.dly\n",
      "ghcnd_gsn/CA004012400.dly\n",
      "ghcnd_gsn/CA004028060.dly\n",
      "ghcnd_gsn/CA004056240.dly\n",
      "ghcnd_gsn/CA004064149.dly\n",
      "ghcnd_gsn/CA005030203.dly\n",
      "ghcnd_gsn/CA005040681.dly\n",
      "ghcnd_gsn/CA005052890.dly\n",
      "ghcnd_gsn/CA005060608.dly\n",
      "ghcnd_gsn/CA005062922.dly\n",
      "ghcnd_gsn/CA006010739.dly\n",
      "ghcnd_gsn/CA006016295.dly\n",
      "ghcnd_gsn/CA006037775.dly\n",
      "ghcnd_gsn/CA006073980.dly\n",
      "ghcnd_gsn/CA006075435.dly\n",
      "ghcnd_gsn/CA006092920.dly\n",
      "ghcnd_gsn/CA007034482.dly\n",
      "ghcnd_gsn/CA007045401.dly\n",
      "ghcnd_gsn/CA007047914.dly\n",
      "ghcnd_gsn/CA007054096.dly\n",
      "ghcnd_gsn/CA007060400.dly\n",
      "ghcnd_gsn/CA007093715.dly\n",
      "ghcnd_gsn/CA007093GJ5.dly\n",
      "ghcnd_gsn/CA007103282.dly\n",
      "ghcnd_gsn/CA007113534.dly\n",
      "ghcnd_gsn/CA007116505.dly\n",
      "ghcnd_gsn/CA007117825.dly\n",
      "ghcnd_gsn/CA008204700.dly\n",
      "ghcnd_gsn/CA008206495.dly\n",
      "ghcnd_gsn/CA00830P001.dly\n",
      "ghcnd_gsn/CA008401400.dly\n",
      "ghcnd_gsn/CA008401705.dly\n",
      "ghcnd_gsn/CA008402450.dly\n",
      "ghcnd_gsn/CA008501100.dly\n",
      "ghcnd_gsn/CA008501900.dly\n",
      "ghcnd_gsn/CA008502799.dly\n",
      "ghcnd_gsn/CD000004700.dly\n",
      "ghcnd_gsn/CD000064706.dly\n",
      "ghcnd_gsn/CD000064751.dly\n",
      "ghcnd_gsn/CD000064753.dly\n",
      "ghcnd_gsn/CD000064754.dly\n",
      "ghcnd_gsn/CE000043497.dly\n",
      "ghcnd_gsn/CE000434730.dly\n",
      "ghcnd_gsn/CEM00043466.dly\n",
      "ghcnd_gsn/CF000064459.dly\n",
      "ghcnd_gsn/CHM00050527.dly\n",
      "ghcnd_gsn/CHM00050745.dly\n",
      "ghcnd_gsn/CHM00051076.dly\n",
      "ghcnd_gsn/CHM00051463.dly\n",
      "ghcnd_gsn/CHM00051709.dly\n",
      "ghcnd_gsn/CHM00051777.dly\n",
      "ghcnd_gsn/CHM00051828.dly\n",
      "ghcnd_gsn/CHM00052203.dly\n",
      "ghcnd_gsn/CHM00052533.dly\n",
      "ghcnd_gsn/CHM00052836.dly\n",
      "ghcnd_gsn/CHM00052983.dly\n",
      "ghcnd_gsn/CHM00053068.dly\n",
      "ghcnd_gsn/CHM00053614.dly\n",
      "ghcnd_gsn/CHM00054342.dly\n",
      "ghcnd_gsn/CHM00054511.dly\n",
      "ghcnd_gsn/CHM00054857.dly\n",
      "ghcnd_gsn/CHM00055591.dly\n",
      "ghcnd_gsn/CHM00056137.dly\n",
      "ghcnd_gsn/CHM00056187.dly\n",
      "ghcnd_gsn/CHM00056571.dly\n",
      "ghcnd_gsn/CHM00056739.dly\n",
      "ghcnd_gsn/CHM00056985.dly\n",
      "ghcnd_gsn/CHM00057083.dly\n",
      "ghcnd_gsn/CHM00057461.dly\n",
      "ghcnd_gsn/CHM00057745.dly\n",
      "ghcnd_gsn/CHM00057993.dly\n",
      "ghcnd_gsn/CHM00058362.dly\n",
      "ghcnd_gsn/CHM00058606.dly\n",
      "ghcnd_gsn/CHM00059287.dly\n",
      "ghcnd_gsn/CHM00059316.dly\n",
      "ghcnd_gsn/CHM00059431.dly\n"
     ]
    },
    {
     "name": "stdout",
     "output_type": "stream",
     "text": [
      "ghcnd_gsn/CHM00059758.dly\n",
      "ghcnd_gsn/CI000085406.dly\n",
      "ghcnd_gsn/CI000085442.dly\n",
      "ghcnd_gsn/CI000085469.dly\n",
      "ghcnd_gsn/CI000085488.dly\n",
      "ghcnd_gsn/CI000085543.dly\n",
      "ghcnd_gsn/CI000085585.dly\n",
      "ghcnd_gsn/CI000085629.dly\n",
      "ghcnd_gsn/CI000085743.dly\n",
      "ghcnd_gsn/CI000085799.dly\n",
      "ghcnd_gsn/CI000085874.dly\n",
      "ghcnd_gsn/CI000085934.dly\n",
      "ghcnd_gsn/CJW00011813.dly\n",
      "ghcnd_gsn/CK000096996.dly\n",
      "ghcnd_gsn/CM000064870.dly\n",
      "ghcnd_gsn/CO000080001.dly\n",
      "ghcnd_gsn/CO000080222.dly\n",
      "ghcnd_gsn/CO000080259.dly\n",
      "ghcnd_gsn/CO000080342.dly\n",
      "ghcnd_gsn/CS000081003.dly\n",
      "ghcnd_gsn/CUM00078310.dly\n",
      "ghcnd_gsn/CUM00078325.dly\n",
      "ghcnd_gsn/CUM00078355.dly\n",
      "ghcnd_gsn/CUM00078369.dly\n",
      "ghcnd_gsn/CVM00008583.dly\n",
      "ghcnd_gsn/CWM00091843.dly\n",
      "ghcnd_gsn/CY000176090.dly\n",
      "ghcnd_gsn/DA000030380.dly\n",
      "ghcnd_gsn/DAM00006011.dly\n",
      "ghcnd_gsn/EC000000006.dly\n",
      "ghcnd_gsn/ECM00084008.dly\n",
      "ghcnd_gsn/ECM00084088.dly\n",
      "ghcnd_gsn/ECM00084270.dly\n",
      "ghcnd_gsn/EG000062306.dly\n",
      "ghcnd_gsn/EG000062414.dly\n",
      "ghcnd_gsn/EG000062417.dly\n",
      "ghcnd_gsn/EG000062463.dly\n",
      "ghcnd_gsn/EG000624200.dly\n",
      "ghcnd_gsn/EGM00062378.dly\n",
      "ghcnd_gsn/EGM00062435.dly\n",
      "ghcnd_gsn/EI000003953.dly\n",
      "ghcnd_gsn/EI000003980.dly\n",
      "ghcnd_gsn/EN000026242.dly\n",
      "ghcnd_gsn/ER000063021.dly\n",
      "ghcnd_gsn/ES000078650.dly\n",
      "ghcnd_gsn/ET000063403.dly\n",
      "ghcnd_gsn/ET000063450.dly\n",
      "ghcnd_gsn/ET000063453.dly\n",
      "ghcnd_gsn/ET000063533.dly\n",
      "ghcnd_gsn/EUM00061972.dly\n",
      "ghcnd_gsn/EZ000011464.dly\n",
      "ghcnd_gsn/FG000081405.dly\n",
      "ghcnd_gsn/FI000002401.dly\n",
      "ghcnd_gsn/FI000002963.dly\n",
      "ghcnd_gsn/FI000007501.dly\n",
      "ghcnd_gsn/FJ000091650.dly\n",
      "ghcnd_gsn/FJ000091652.dly\n",
      "ghcnd_gsn/FJ000091680.dly\n",
      "ghcnd_gsn/FJM00091699.dly\n",
      "ghcnd_gsn/FKM00088889.dly\n",
      "ghcnd_gsn/FMW00040308.dly\n",
      "ghcnd_gsn/FMW00040504.dly\n",
      "ghcnd_gsn/FMW00040505.dly\n",
      "ghcnd_gsn/FP000091925.dly\n",
      "ghcnd_gsn/FP000091938.dly\n",
      "ghcnd_gsn/FP000091943.dly\n",
      "ghcnd_gsn/FP000091948.dly\n",
      "ghcnd_gsn/FP000091954.dly\n",
      "ghcnd_gsn/FP000091958.dly\n",
      "ghcnd_gsn/FPM00091945.dly\n",
      "ghcnd_gsn/FR000007130.dly\n",
      "ghcnd_gsn/FR000007190.dly\n",
      "ghcnd_gsn/FR000007255.dly\n",
      "ghcnd_gsn/FR000007560.dly\n",
      "ghcnd_gsn/FR000007630.dly\n",
      "ghcnd_gsn/FR000007650.dly\n",
      "ghcnd_gsn/FRM00061998.dly\n",
      "ghcnd_gsn/FSM00061996.dly\n",
      "ghcnd_gsn/FSM00061997.dly\n",
      "ghcnd_gsn/GL000004250.dly\n",
      "ghcnd_gsn/GL000004320.dly\n",
      "ghcnd_gsn/GL000004360.dly\n",
      "ghcnd_gsn/GLE00146908.dly\n",
      "ghcnd_gsn/GLM00004390.dly\n",
      "ghcnd_gsn/GM000010147.dly\n",
      "ghcnd_gsn/GM000010393.dly\n",
      "ghcnd_gsn/GM000010962.dly\n",
      "ghcnd_gsn/GMW00035032.dly\n",
      "ghcnd_gsn/GP000078897.dly\n",
      "ghcnd_gsn/GQW00041415.dly\n",
      "ghcnd_gsn/GR000016641.dly\n",
      "ghcnd_gsn/GR000016734.dly\n",
      "ghcnd_gsn/GR000167230.dly\n",
      "ghcnd_gsn/GR000167460.dly\n",
      "ghcnd_gsn/HR000142360.dly\n",
      "ghcnd_gsn/HU000012942.dly\n",
      "ghcnd_gsn/IC000004013.dly\n",
      "ghcnd_gsn/IC000004030.dly\n",
      "ghcnd_gsn/IC000004048.dly\n",
      "ghcnd_gsn/IC000004063.dly\n",
      "ghcnd_gsn/ID000096073.dly\n",
      "ghcnd_gsn/ID000096145.dly\n",
      "ghcnd_gsn/ID000096163.dly\n",
      "ghcnd_gsn/ID000096745.dly\n",
      "ghcnd_gsn/ID000096805.dly\n",
      "ghcnd_gsn/ID000096925.dly\n",
      "ghcnd_gsn/ID000097014.dly\n",
      "ghcnd_gsn/ID000097146.dly\n",
      "ghcnd_gsn/ID000097340.dly\n",
      "ghcnd_gsn/ID000097372.dly\n",
      "ghcnd_gsn/ID000097502.dly\n",
      "ghcnd_gsn/ID000097560.dly\n",
      "ghcnd_gsn/ID000097686.dly\n",
      "ghcnd_gsn/ID000097690.dly\n",
      "ghcnd_gsn/ID000097724.dly\n",
      "ghcnd_gsn/ID000097900.dly\n",
      "ghcnd_gsn/ID000097980.dly\n",
      "ghcnd_gsn/IDM00097240.dly\n",
      "ghcnd_gsn/IN001080500.dly\n",
      "ghcnd_gsn/IN003041800.dly\n",
      "ghcnd_gsn/IN004091000.dly\n",
      "ghcnd_gsn/IN005030100.dly\n",
      "ghcnd_gsn/IN005090100.dly\n",
      "ghcnd_gsn/IN007101600.dly\n",
      "ghcnd_gsn/IN008010200.dly\n",
      "ghcnd_gsn/IN009010100.dly\n",
      "ghcnd_gsn/IN011020300.dly\n",
      "ghcnd_gsn/IN011060800.dly\n",
      "ghcnd_gsn/IN011330900.dly\n",
      "ghcnd_gsn/IN012190100.dly\n",
      "ghcnd_gsn/IN014020800.dly\n",
      "ghcnd_gsn/IN019070100.dly\n",
      "ghcnd_gsn/IN020040900.dly\n",
      "ghcnd_gsn/IN020081000.dly\n",
      "ghcnd_gsn/IN020100400.dly\n",
      "ghcnd_gsn/IN022021900.dly\n",
      "ghcnd_gsn/IN024050100.dly\n",
      "ghcnd_gsn/IN025010100.dly\n",
      "ghcnd_gsn/IN099999901.dly\n",
      "ghcnd_gsn/IR000040706.dly\n",
      "ghcnd_gsn/IR000040745.dly\n",
      "ghcnd_gsn/IR000040841.dly\n",
      "ghcnd_gsn/IR000040848.dly\n",
      "ghcnd_gsn/IR000407540.dly\n",
      "ghcnd_gsn/IR000407660.dly\n",
      "ghcnd_gsn/IR000408560.dly\n",
      "ghcnd_gsn/IS000009972.dly\n",
      "ghcnd_gsn/IT000016134.dly\n",
      "ghcnd_gsn/IT000016550.dly\n",
      "ghcnd_gsn/IT000160220.dly\n",
      "ghcnd_gsn/IT000162240.dly\n",
      "ghcnd_gsn/IT000162580.dly\n",
      "ghcnd_gsn/IV000065585.dly\n",
      "ghcnd_gsn/IV000065599.dly\n",
      "ghcnd_gsn/IZ000040665.dly\n",
      "ghcnd_gsn/JA000047401.dly\n",
      "ghcnd_gsn/JA000047420.dly\n",
      "ghcnd_gsn/JA000047582.dly\n",
      "ghcnd_gsn/JA000047600.dly\n",
      "ghcnd_gsn/JA000047648.dly\n",
      "ghcnd_gsn/JA000047778.dly\n",
      "ghcnd_gsn/JA000047815.dly\n",
      "ghcnd_gsn/JA000047817.dly\n",
      "ghcnd_gsn/JA000047927.dly\n",
      "ghcnd_gsn/JA000047936.dly\n",
      "ghcnd_gsn/JA000047945.dly\n",
      "ghcnd_gsn/JA000047971.dly\n",
      "ghcnd_gsn/JA000047991.dly\n",
      "ghcnd_gsn/JM000078388.dly\n",
      "ghcnd_gsn/JNM00001001.dly\n",
      "ghcnd_gsn/JOM00040250.dly\n",
      "ghcnd_gsn/JOM00040310.dly\n",
      "ghcnd_gsn/KE000063612.dly\n",
      "ghcnd_gsn/KE000063624.dly\n",
      "ghcnd_gsn/KE000063661.dly\n",
      "ghcnd_gsn/KE000063723.dly\n",
      "ghcnd_gsn/KE000063740.dly\n",
      "ghcnd_gsn/KE000063820.dly\n",
      "ghcnd_gsn/KG000036974.dly\n",
      "ghcnd_gsn/KG000038353.dly\n",
      "ghcnd_gsn/KNM00047014.dly\n",
      "ghcnd_gsn/KR000091610.dly\n",
      "ghcnd_gsn/KS000047112.dly\n",
      "ghcnd_gsn/KS000047115.dly\n",
      "ghcnd_gsn/KS000047165.dly\n",
      "ghcnd_gsn/KT000096995.dly\n",
      "ghcnd_gsn/KU000405820.dly\n",
      "ghcnd_gsn/KZ000028952.dly\n",
      "ghcnd_gsn/KZ000029807.dly\n",
      "ghcnd_gsn/KZ000035078.dly\n",
      "ghcnd_gsn/KZ000035108.dly\n",
      "ghcnd_gsn/KZ000035394.dly\n",
      "ghcnd_gsn/KZ000035416.dly\n",
      "ghcnd_gsn/KZ000035796.dly\n",
      "ghcnd_gsn/KZ000035849.dly\n",
      "ghcnd_gsn/KZ000035925.dly\n",
      "ghcnd_gsn/KZ000036177.dly\n",
      "ghcnd_gsn/KZ000036535.dly\n",
      "ghcnd_gsn/KZ000036859.dly\n",
      "ghcnd_gsn/KZ000036870.dly\n",
      "ghcnd_gsn/LG000026406.dly\n",
      "ghcnd_gsn/LH000026730.dly\n",
      "ghcnd_gsn/LO000011934.dly\n",
      "ghcnd_gsn/LU000006590.dly\n",
      "ghcnd_gsn/LY000062124.dly\n",
      "ghcnd_gsn/LY000062131.dly\n",
      "ghcnd_gsn/LY000062271.dly\n",
      "ghcnd_gsn/LYE00147744.dly\n",
      "ghcnd_gsn/LYE00147747.dly\n",
      "ghcnd_gsn/MA000067009.dly\n",
      "ghcnd_gsn/MA000067019.dly\n",
      "ghcnd_gsn/MA000067083.dly\n",
      "ghcnd_gsn/MA000067095.dly\n",
      "ghcnd_gsn/MA000067143.dly\n",
      "ghcnd_gsn/MA000067161.dly\n",
      "ghcnd_gsn/MA000067197.dly\n",
      "ghcnd_gsn/MAM00067025.dly\n",
      "ghcnd_gsn/MAM00067073.dly\n",
      "ghcnd_gsn/MD000033815.dly\n",
      "ghcnd_gsn/MFM00067005.dly\n",
      "ghcnd_gsn/MG000044212.dly\n",
      "ghcnd_gsn/MG000044218.dly\n",
      "ghcnd_gsn/MG000044231.dly\n",
      "ghcnd_gsn/MG000044239.dly\n",
      "ghcnd_gsn/MG000044259.dly\n",
      "ghcnd_gsn/MG000044272.dly\n",
      "ghcnd_gsn/MG000044288.dly\n",
      "ghcnd_gsn/MG000044317.dly\n",
      "ghcnd_gsn/MG000044341.dly\n",
      "ghcnd_gsn/MG000044373.dly\n",
      "ghcnd_gsn/MI000067693.dly\n",
      "ghcnd_gsn/MK000013577.dly\n",
      "ghcnd_gsn/ML000061202.dly\n",
      "ghcnd_gsn/ML000061223.dly\n",
      "ghcnd_gsn/ML000061250.dly\n",
      "ghcnd_gsn/ML000061270.dly\n",
      "ghcnd_gsn/ML000061297.dly\n",
      "ghcnd_gsn/MO000060195.dly\n",
      "ghcnd_gsn/MO000060265.dly\n",
      "ghcnd_gsn/MOW00013017.dly\n",
      "ghcnd_gsn/MP000061974.dly\n",
      "ghcnd_gsn/MP000061986.dly\n",
      "ghcnd_gsn/MP000061988.dly\n",
      "ghcnd_gsn/MP000061990.dly\n",
      "ghcnd_gsn/MR000061401.dly\n",
      "ghcnd_gsn/MR000061415.dly\n",
      "ghcnd_gsn/MR000061421.dly\n",
      "ghcnd_gsn/MR000061450.dly\n",
      "ghcnd_gsn/MR000061497.dly\n",
      "ghcnd_gsn/MT000016597.dly\n",
      "ghcnd_gsn/MU000041254.dly\n",
      "ghcnd_gsn/MU000041288.dly\n",
      "ghcnd_gsn/MUM00041316.dly\n",
      "ghcnd_gsn/MV000043555.dly\n",
      "ghcnd_gsn/MXM00076225.dly\n",
      "ghcnd_gsn/MXM00076311.dly\n",
      "ghcnd_gsn/MXM00076393.dly\n",
      "ghcnd_gsn/MXM00076405.dly\n",
      "ghcnd_gsn/MXM00076458.dly\n",
      "ghcnd_gsn/MXM00076577.dly\n",
      "ghcnd_gsn/MXM00076644.dly\n",
      "ghcnd_gsn/MXM00076654.dly\n",
      "ghcnd_gsn/MXM00076680.dly\n",
      "ghcnd_gsn/MXM00076692.dly\n",
      "ghcnd_gsn/MXM00076833.dly\n",
      "ghcnd_gsn/MY000048620.dly\n",
      "ghcnd_gsn/MY000048657.dly\n",
      "ghcnd_gsn/MY000096413.dly\n",
      "ghcnd_gsn/MY000096441.dly\n",
      "ghcnd_gsn/MY000096465.dly\n",
      "ghcnd_gsn/MY000096491.dly\n",
      "ghcnd_gsn/MZ000067215.dly\n",
      "ghcnd_gsn/MZ000067283.dly\n",
      "ghcnd_gsn/MZ000067297.dly\n",
      "ghcnd_gsn/MZ000067323.dly\n",
      "ghcnd_gsn/NC000091577.dly\n",
      "ghcnd_gsn/NC000915920.dly\n",
      "ghcnd_gsn/NEM00091824.dly\n",
      "ghcnd_gsn/NFM00094996.dly\n",
      "ghcnd_gsn/NG000061017.dly\n",
      "ghcnd_gsn/NG000061024.dly\n",
      "ghcnd_gsn/NG000061043.dly\n",
      "ghcnd_gsn/NG000061096.dly\n",
      "ghcnd_gsn/NH000091554.dly\n",
      "ghcnd_gsn/NH000091568.dly\n",
      "ghcnd_gsn/NIM00065123.dly\n",
      "ghcnd_gsn/NIM00065167.dly\n",
      "ghcnd_gsn/NLM00006260.dly\n",
      "ghcnd_gsn/NO000001026.dly\n",
      "ghcnd_gsn/NO000001212.dly\n",
      "ghcnd_gsn/NO000001465.dly\n",
      "ghcnd_gsn/NO000011520.dly\n",
      "ghcnd_gsn/NO000014030.dly\n",
      "ghcnd_gsn/NO000098550.dly\n",
      "ghcnd_gsn/NO000099710.dly\n",
      "ghcnd_gsn/NOM00001238.dly\n",
      "ghcnd_gsn/NP000444540.dly\n",
      "ghcnd_gsn/NZ000093292.dly\n",
      "ghcnd_gsn/NZ000093417.dly\n",
      "ghcnd_gsn/NZ000093844.dly\n",
      "ghcnd_gsn/NZ000933090.dly\n",
      "ghcnd_gsn/NZ000937470.dly\n",
      "ghcnd_gsn/NZ000939450.dly\n",
      "ghcnd_gsn/PA000086086.dly\n",
      "ghcnd_gsn/PA000086297.dly\n",
      "ghcnd_gsn/PC000919640.dly\n",
      "ghcnd_gsn/PE000084377.dly\n",
      "ghcnd_gsn/PE000084455.dly\n",
      "ghcnd_gsn/PE000084752.dly\n",
      "ghcnd_gsn/PK000041560.dly\n",
      "ghcnd_gsn/PK000041620.dly\n",
      "ghcnd_gsn/PK000041640.dly\n",
      "ghcnd_gsn/PK000041712.dly\n",
      "ghcnd_gsn/PKM00041759.dly\n",
      "ghcnd_gsn/PKM00041764.dly\n",
      "ghcnd_gsn/PL000012120.dly\n"
     ]
    },
    {
     "name": "stdout",
     "output_type": "stream",
     "text": [
      "ghcnd_gsn/PL000012385.dly\n",
      "ghcnd_gsn/PO000008506.dly\n",
      "ghcnd_gsn/PO000008522.dly\n",
      "ghcnd_gsn/PO000008535.dly\n",
      "ghcnd_gsn/POM00008512.dly\n",
      "ghcnd_gsn/PP000092035.dly\n",
      "ghcnd_gsn/PPM00092044.dly\n",
      "ghcnd_gsn/PSW00040309.dly\n",
      "ghcnd_gsn/QAM00041170.dly\n",
      "ghcnd_gsn/RMW00040604.dly\n",
      "ghcnd_gsn/RMW00040710.dly\n",
      "ghcnd_gsn/ROM00015085.dly\n",
      "ghcnd_gsn/ROM00015280.dly\n",
      "ghcnd_gsn/ROM00015360.dly\n",
      "ghcnd_gsn/RP000098232.dly\n",
      "ghcnd_gsn/RP000098430.dly\n",
      "ghcnd_gsn/RP000098444.dly\n",
      "ghcnd_gsn/RP000098755.dly\n",
      "ghcnd_gsn/RP000098836.dly\n",
      "ghcnd_gsn/RP000098851.dly\n",
      "ghcnd_gsn/RQW00011641.dly\n",
      "ghcnd_gsn/RSM00020046.dly\n",
      "ghcnd_gsn/RSM00020069.dly\n",
      "ghcnd_gsn/RSM00020087.dly\n",
      "ghcnd_gsn/RSM00020292.dly\n",
      "ghcnd_gsn/RSM00020667.dly\n",
      "ghcnd_gsn/RSM00020674.dly\n",
      "ghcnd_gsn/RSM00020744.dly\n",
      "ghcnd_gsn/RSM00020891.dly\n",
      "ghcnd_gsn/RSM00020982.dly\n",
      "ghcnd_gsn/RSM00021432.dly\n",
      "ghcnd_gsn/RSM00021802.dly\n",
      "ghcnd_gsn/RSM00021921.dly\n",
      "ghcnd_gsn/RSM00021931.dly\n",
      "ghcnd_gsn/RSM00021946.dly\n",
      "ghcnd_gsn/RSM00021982.dly\n",
      "ghcnd_gsn/RSM00022113.dly\n",
      "ghcnd_gsn/RSM00022165.dly\n",
      "ghcnd_gsn/RSM00022217.dly\n",
      "ghcnd_gsn/RSM00022471.dly\n",
      "ghcnd_gsn/RSM00022520.dly\n",
      "ghcnd_gsn/RSM00022550.dly\n",
      "ghcnd_gsn/RSM00022802.dly\n",
      "ghcnd_gsn/RSM00022837.dly\n",
      "ghcnd_gsn/RSM00023074.dly\n",
      "ghcnd_gsn/RSM00023205.dly\n",
      "ghcnd_gsn/RSM00023330.dly\n",
      "ghcnd_gsn/RSM00023383.dly\n",
      "ghcnd_gsn/RSM00023405.dly\n",
      "ghcnd_gsn/RSM00023472.dly\n",
      "ghcnd_gsn/RSM00023552.dly\n",
      "ghcnd_gsn/RSM00023631.dly\n",
      "ghcnd_gsn/RSM00023678.dly\n",
      "ghcnd_gsn/RSM00023711.dly\n",
      "ghcnd_gsn/RSM00023724.dly\n",
      "ghcnd_gsn/RSM00023884.dly\n",
      "ghcnd_gsn/RSM00023891.dly\n",
      "ghcnd_gsn/RSM00023914.dly\n",
      "ghcnd_gsn/RSM00023933.dly\n",
      "ghcnd_gsn/RSM00023955.dly\n",
      "ghcnd_gsn/RSM00024125.dly\n",
      "ghcnd_gsn/RSM00024143.dly\n",
      "ghcnd_gsn/RSM00024266.dly\n",
      "ghcnd_gsn/RSM00024329.dly\n",
      "ghcnd_gsn/RSM00024343.dly\n",
      "ghcnd_gsn/RSM00024382.dly\n",
      "ghcnd_gsn/RSM00024507.dly\n",
      "ghcnd_gsn/RSM00024641.dly\n",
      "ghcnd_gsn/RSM00024671.dly\n",
      "ghcnd_gsn/RSM00024688.dly\n",
      "ghcnd_gsn/RSM00024738.dly\n",
      "ghcnd_gsn/RSM00024817.dly\n",
      "ghcnd_gsn/RSM00024908.dly\n",
      "ghcnd_gsn/RSM00024959.dly\n",
      "ghcnd_gsn/RSM00024966.dly\n",
      "ghcnd_gsn/RSM00025173.dly\n",
      "ghcnd_gsn/RSM00025248.dly\n",
      "ghcnd_gsn/RSM00025325.dly\n",
      "ghcnd_gsn/RSM00025356.dly\n",
      "ghcnd_gsn/RSM00025399.dly\n",
      "ghcnd_gsn/RSM00025400.dly\n",
      "ghcnd_gsn/RSM00025538.dly\n",
      "ghcnd_gsn/RSM00025551.dly\n",
      "ghcnd_gsn/RSM00025563.dly\n",
      "ghcnd_gsn/RSM00025594.dly\n",
      "ghcnd_gsn/RSM00025705.dly\n",
      "ghcnd_gsn/RSM00025745.dly\n",
      "ghcnd_gsn/RSM00025927.dly\n",
      "ghcnd_gsn/RSM00026063.dly\n",
      "ghcnd_gsn/RSM00026359.dly\n",
      "ghcnd_gsn/RSM00026781.dly\n",
      "ghcnd_gsn/RSM00026997.dly\n",
      "ghcnd_gsn/RSM00027037.dly\n",
      "ghcnd_gsn/RSM00027051.dly\n",
      "ghcnd_gsn/RSM00027595.dly\n",
      "ghcnd_gsn/RSM00027612.dly\n",
      "ghcnd_gsn/RSM00027648.dly\n",
      "ghcnd_gsn/RSM00027995.dly\n",
      "ghcnd_gsn/RSM00028009.dly\n",
      "ghcnd_gsn/RSM00028064.dly\n",
      "ghcnd_gsn/RSM00028138.dly\n",
      "ghcnd_gsn/RSM00028224.dly\n",
      "ghcnd_gsn/RSM00028275.dly\n",
      "ghcnd_gsn/RSM00028418.dly\n",
      "ghcnd_gsn/RSM00028493.dly\n",
      "ghcnd_gsn/RSM00028552.dly\n",
      "ghcnd_gsn/RSM00028698.dly\n",
      "ghcnd_gsn/RSM00028722.dly\n",
      "ghcnd_gsn/RSM00029231.dly\n",
      "ghcnd_gsn/RSM00029263.dly\n",
      "ghcnd_gsn/RSM00029282.dly\n",
      "ghcnd_gsn/RSM00029570.dly\n",
      "ghcnd_gsn/RSM00029612.dly\n",
      "ghcnd_gsn/RSM00029789.dly\n",
      "ghcnd_gsn/RSM00029866.dly\n",
      "ghcnd_gsn/RSM00029939.dly\n",
      "ghcnd_gsn/RSM00030054.dly\n",
      "ghcnd_gsn/RSM00030230.dly\n",
      "ghcnd_gsn/RSM00030309.dly\n",
      "ghcnd_gsn/RSM00030372.dly\n",
      "ghcnd_gsn/RSM00030433.dly\n",
      "ghcnd_gsn/RSM00030554.dly\n",
      "ghcnd_gsn/RSM00030636.dly\n",
      "ghcnd_gsn/RSM00030673.dly\n",
      "ghcnd_gsn/RSM00030710.dly\n",
      "ghcnd_gsn/RSM00030758.dly\n",
      "ghcnd_gsn/RSM00030879.dly\n",
      "ghcnd_gsn/RSM00030925.dly\n",
      "ghcnd_gsn/RSM00030949.dly\n",
      "ghcnd_gsn/RSM00030965.dly\n",
      "ghcnd_gsn/RSM00031004.dly\n",
      "ghcnd_gsn/RSM00031088.dly\n",
      "ghcnd_gsn/RSM00031168.dly\n",
      "ghcnd_gsn/RSM00031253.dly\n",
      "ghcnd_gsn/RSM00031329.dly\n",
      "ghcnd_gsn/RSM00031369.dly\n",
      "ghcnd_gsn/RSM00031416.dly\n",
      "ghcnd_gsn/RSM00031707.dly\n",
      "ghcnd_gsn/RSM00031873.dly\n",
      "ghcnd_gsn/RSM00031960.dly\n",
      "ghcnd_gsn/RSM00032061.dly\n",
      "ghcnd_gsn/RSM00032098.dly\n",
      "ghcnd_gsn/RSM00032150.dly\n",
      "ghcnd_gsn/RSM00032252.dly\n",
      "ghcnd_gsn/RSM00032389.dly\n",
      "ghcnd_gsn/RSM00032618.dly\n",
      "ghcnd_gsn/RSM00034123.dly\n",
      "ghcnd_gsn/RSM00034163.dly\n",
      "ghcnd_gsn/RSM00034186.dly\n",
      "ghcnd_gsn/RSM00034866.dly\n",
      "ghcnd_gsn/RSM00034880.dly\n",
      "ghcnd_gsn/RSM00034927.dly\n",
      "ghcnd_gsn/RSM00035011.dly\n",
      "ghcnd_gsn/RSM00036259.dly\n",
      "ghcnd_gsn/RSM00037470.dly\n",
      "ghcnd_gsn/SA000040361.dly\n",
      "ghcnd_gsn/SA000040430.dly\n",
      "ghcnd_gsn/SA000040438.dly\n",
      "ghcnd_gsn/SA000041024.dly\n",
      "ghcnd_gsn/SA000403940.dly\n",
      "ghcnd_gsn/SAM00041140.dly\n",
      "ghcnd_gsn/SE000063980.dly\n",
      "ghcnd_gsn/SF000068438.dly\n",
      "ghcnd_gsn/SF000068858.dly\n",
      "ghcnd_gsn/SF000068994.dly\n",
      "ghcnd_gsn/SF000288380.dly\n",
      "ghcnd_gsn/SF001344780.dly\n",
      "ghcnd_gsn/SF002146700.dly\n",
      "ghcnd_gsn/SF002613650.dly\n",
      "ghcnd_gsn/SF003174470.dly\n",
      "ghcnd_gsn/SFM00068174.dly\n",
      "ghcnd_gsn/SFM00068242.dly\n",
      "ghcnd_gsn/SFM00068262.dly\n",
      "ghcnd_gsn/SFM00068461.dly\n",
      "ghcnd_gsn/SFM00068538.dly\n",
      "ghcnd_gsn/SFM00068592.dly\n",
      "ghcnd_gsn/SFM00068816.dly\n",
      "ghcnd_gsn/SFM00068842.dly\n",
      "ghcnd_gsn/SG000061612.dly\n",
      "ghcnd_gsn/SG000061641.dly\n",
      "ghcnd_gsn/SG000061687.dly\n",
      "ghcnd_gsn/SHM00061901.dly\n",
      "ghcnd_gsn/SHM00061902.dly\n",
      "ghcnd_gsn/SHM00068906.dly\n",
      "ghcnd_gsn/SL000061856.dly\n",
      "ghcnd_gsn/SP000008027.dly\n",
      "ghcnd_gsn/SP000008181.dly\n",
      "ghcnd_gsn/SP000008202.dly\n",
      "ghcnd_gsn/SP000008215.dly\n",
      "ghcnd_gsn/SP000008280.dly\n",
      "ghcnd_gsn/SP000008410.dly\n",
      "ghcnd_gsn/SP000060010.dly\n",
      "ghcnd_gsn/SP000060040.dly\n",
      "ghcnd_gsn/SP000060338.dly\n",
      "ghcnd_gsn/SU000062600.dly\n",
      "ghcnd_gsn/SU000062640.dly\n",
      "ghcnd_gsn/SU000062641.dly\n",
      "ghcnd_gsn/SU000062650.dly\n",
      "ghcnd_gsn/SU000062730.dly\n",
      "ghcnd_gsn/SU000062760.dly\n",
      "ghcnd_gsn/SU000062762.dly\n",
      "ghcnd_gsn/SU000062770.dly\n",
      "ghcnd_gsn/SU000062781.dly\n",
      "ghcnd_gsn/SU000062840.dly\n",
      "ghcnd_gsn/SU000062880.dly\n",
      "ghcnd_gsn/SU000062941.dly\n",
      "ghcnd_gsn/SV000001008.dly\n",
      "ghcnd_gsn/SWE00100026.dly\n",
      "ghcnd_gsn/SWE00140178.dly\n",
      "ghcnd_gsn/SWE00140622.dly\n",
      "ghcnd_gsn/SWM00002589.dly\n",
      "ghcnd_gsn/SXM00088903.dly\n",
      "ghcnd_gsn/SY000040001.dly\n",
      "ghcnd_gsn/SY000040022.dly\n",
      "ghcnd_gsn/SY000040061.dly\n",
      "ghcnd_gsn/SZ000002220.dly\n",
      "ghcnd_gsn/SZ000006717.dly\n",
      "ghcnd_gsn/TH000048303.dly\n",
      "ghcnd_gsn/TH000048400.dly\n",
      "ghcnd_gsn/TH000048462.dly\n",
      "ghcnd_gsn/TH000048500.dly\n",
      "ghcnd_gsn/TH000048517.dly\n",
      "ghcnd_gsn/TH000048568.dly\n",
      "ghcnd_gsn/TI000038933.dly\n",
      "ghcnd_gsn/TI000038954.dly\n",
      "ghcnd_gsn/TOM00065352.dly\n",
      "ghcnd_gsn/TS000060725.dly\n",
      "ghcnd_gsn/TS000060765.dly\n",
      "ghcnd_gsn/TU000017040.dly\n",
      "ghcnd_gsn/TU000017062.dly\n",
      "ghcnd_gsn/TU000017074.dly\n",
      "ghcnd_gsn/TU000017090.dly\n",
      "ghcnd_gsn/TU000017170.dly\n",
      "ghcnd_gsn/TU000017240.dly\n",
      "ghcnd_gsn/TU000017375.dly\n",
      "ghcnd_gsn/TV000091631.dly\n",
      "ghcnd_gsn/TV000091643.dly\n",
      "ghcnd_gsn/TX000038507.dly\n",
      "ghcnd_gsn/TX000038750.dly\n",
      "ghcnd_gsn/TX000038763.dly\n",
      "ghcnd_gsn/TX000038895.dly\n",
      "ghcnd_gsn/TX000038915.dly\n",
      "ghcnd_gsn/TZ000063832.dly\n",
      "ghcnd_gsn/TZ000063862.dly\n",
      "ghcnd_gsn/TZ000063894.dly\n",
      "ghcnd_gsn/TZ000063962.dly\n",
      "ghcnd_gsn/UK000003005.dly\n",
      "ghcnd_gsn/UK000003026.dly\n",
      "ghcnd_gsn/UK000003162.dly\n",
      "ghcnd_gsn/UK000003302.dly\n",
      "ghcnd_gsn/UK000003377.dly\n",
      "ghcnd_gsn/UK000003808.dly\n",
      "ghcnd_gsn/UPM00033317.dly\n",
      "ghcnd_gsn/UPM00033377.dly\n",
      "ghcnd_gsn/UPM00033587.dly\n",
      "ghcnd_gsn/UPM00033915.dly\n",
      "ghcnd_gsn/USP00CA0003.dly\n",
      "ghcnd_gsn/USW00003870.dly\n",
      "ghcnd_gsn/USW00003945.dly\n",
      "ghcnd_gsn/USW00012836.dly\n",
      "ghcnd_gsn/USW00012842.dly\n",
      "ghcnd_gsn/USW00012916.dly\n",
      "ghcnd_gsn/USW00012921.dly\n",
      "ghcnd_gsn/USW00013722.dly\n",
      "ghcnd_gsn/USW00013743.dly\n",
      "ghcnd_gsn/USW00013865.dly\n",
      "ghcnd_gsn/USW00013880.dly\n",
      "ghcnd_gsn/USW00013882.dly\n",
      "ghcnd_gsn/USW00013957.dly\n",
      "ghcnd_gsn/USW00013962.dly\n",
      "ghcnd_gsn/USW00013964.dly\n",
      "ghcnd_gsn/USW00013967.dly\n",
      "ghcnd_gsn/USW00013984.dly\n",
      "ghcnd_gsn/USW00013985.dly\n",
      "ghcnd_gsn/USW00014607.dly\n",
      "ghcnd_gsn/USW00014742.dly\n",
      "ghcnd_gsn/USW00014753.dly\n",
      "ghcnd_gsn/USW00014755.dly\n",
      "ghcnd_gsn/USW00014771.dly\n",
      "ghcnd_gsn/USW00014838.dly\n",
      "ghcnd_gsn/USW00014842.dly\n",
      "ghcnd_gsn/USW00014922.dly\n",
      "ghcnd_gsn/USW00014933.dly\n",
      "ghcnd_gsn/USW00014936.dly\n",
      "ghcnd_gsn/USW00014941.dly\n",
      "ghcnd_gsn/USW00021504.dly\n",
      "ghcnd_gsn/USW00022536.dly\n",
      "ghcnd_gsn/USW00023044.dly\n",
      "ghcnd_gsn/USW00023050.dly\n",
      "ghcnd_gsn/USW00023051.dly\n",
      "ghcnd_gsn/USW00023066.dly\n",
      "ghcnd_gsn/USW00023154.dly\n",
      "ghcnd_gsn/USW00023169.dly\n",
      "ghcnd_gsn/USW00023183.dly\n",
      "ghcnd_gsn/USW00023188.dly\n",
      "ghcnd_gsn/USW00024011.dly\n",
      "ghcnd_gsn/USW00024021.dly\n",
      "ghcnd_gsn/USW00024023.dly\n",
      "ghcnd_gsn/USW00024029.dly\n",
      "ghcnd_gsn/USW00024128.dly\n",
      "ghcnd_gsn/USW00024131.dly\n",
      "ghcnd_gsn/USW00024144.dly\n",
      "ghcnd_gsn/USW00024155.dly\n",
      "ghcnd_gsn/USW00024156.dly\n",
      "ghcnd_gsn/USW00024213.dly\n",
      "ghcnd_gsn/USW00024227.dly\n",
      "ghcnd_gsn/USW00025308.dly\n",
      "ghcnd_gsn/USW00025339.dly\n",
      "ghcnd_gsn/USW00025503.dly\n",
      "ghcnd_gsn/USW00025507.dly\n",
      "ghcnd_gsn/USW00025624.dly\n",
      "ghcnd_gsn/USW00025713.dly\n",
      "ghcnd_gsn/USW00026411.dly\n",
      "ghcnd_gsn/USW00026510.dly\n",
      "ghcnd_gsn/USW00026528.dly\n",
      "ghcnd_gsn/USW00026615.dly\n",
      "ghcnd_gsn/USW00026616.dly\n"
     ]
    },
    {
     "name": "stdout",
     "output_type": "stream",
     "text": [
      "ghcnd_gsn/USW00026617.dly\n",
      "ghcnd_gsn/USW00027401.dly\n",
      "ghcnd_gsn/USW00027502.dly\n",
      "ghcnd_gsn/USW00093193.dly\n",
      "ghcnd_gsn/USW00093729.dly\n",
      "ghcnd_gsn/USW00093817.dly\n",
      "ghcnd_gsn/USW00093820.dly\n",
      "ghcnd_gsn/USW00094008.dly\n",
      "ghcnd_gsn/USW00094823.dly\n",
      "ghcnd_gsn/UV000065501.dly\n",
      "ghcnd_gsn/UV000065516.dly\n",
      "ghcnd_gsn/UY000001709.dly\n",
      "ghcnd_gsn/UY000086330.dly\n",
      "ghcnd_gsn/UY000086490.dly\n",
      "ghcnd_gsn/UY000086565.dly\n",
      "ghcnd_gsn/UZM00038262.dly\n",
      "ghcnd_gsn/UZM00038413.dly\n",
      "ghcnd_gsn/UZM00038457.dly\n",
      "ghcnd_gsn/VE000080405.dly\n",
      "ghcnd_gsn/VE000080423.dly\n",
      "ghcnd_gsn/VE000080425.dly\n",
      "ghcnd_gsn/VE000080438.dly\n",
      "ghcnd_gsn/VE000080450.dly\n",
      "ghcnd_gsn/VE000080453.dly\n",
      "ghcnd_gsn/VE000080462.dly\n",
      "ghcnd_gsn/VM000048900.dly\n",
      "ghcnd_gsn/VMM00048855.dly\n",
      "ghcnd_gsn/WA004191820.dly\n",
      "ghcnd_gsn/WA006490640.dly\n",
      "ghcnd_gsn/WA007401540.dly\n",
      "ghcnd_gsn/WA010101860.dly\n",
      "ghcnd_gsn/WF000917530.dly\n",
      "ghcnd_gsn/ZA000067441.dly\n",
      "ghcnd_gsn/ZA000067475.dly\n",
      "ghcnd_gsn/ZA000067581.dly\n",
      "ghcnd_gsn/ZA000067633.dly\n",
      "ghcnd_gsn/ZA000067743.dly\n",
      "ghcnd_gsn/ZI000067775.dly\n",
      "ghcnd_gsn/ZI000067964.dly\n",
      "ghcnd_gsn/ZI000067983.dly\n",
      "ghcnd-version.txt\n"
     ]
    }
   ],
   "source": [
    "!tar xzvf ghcnd_gsn.tar.gz"
   ]
  },
  {
   "cell_type": "markdown",
   "metadata": {},
   "source": [
    "stations.txt header is code, latitude, longitude, elevation, name, GSN flag, World Meteorological Organization ID "
   ]
  },
  {
   "cell_type": "code",
   "execution_count": 99,
   "metadata": {},
   "outputs": [
    {
     "data": {
      "text/plain": [
       "['ACW00011604  17.1167  -61.7833   10.1    ST JOHNS COOLIDGE FLD                       \\n',\n",
       " 'ACW00011647  17.1333  -61.7833   19.2    ST JOHNS                                    \\n',\n",
       " 'AE000041196  25.3330   55.5170   34.0    SHARJAH INTER. AIRP            GSN     41196\\n',\n",
       " 'AEM00041194  25.2550   55.3640   10.4    DUBAI INTL                             41194\\n',\n",
       " 'AEM00041217  24.4330   54.6510   26.8    ABU DHABI INTL                         41217\\n',\n",
       " 'AEM00041218  24.2620   55.6090  264.9    AL AIN INTL                            41218\\n',\n",
       " 'AF000040930  35.3170   69.0170 3366.0    NORTH-SALANG                   GSN     40930\\n',\n",
       " 'AFM00040938  34.2100   62.2280  977.2    HERAT                                  40938\\n',\n",
       " 'AFM00040948  34.5660   69.2120 1791.3    KABUL INTL                             40948\\n',\n",
       " 'AFM00040990  31.5000   65.8500 1010.0    KANDAHAR AIRPORT                       40990\\n']"
      ]
     },
     "execution_count": 99,
     "metadata": {},
     "output_type": "execute_result"
    }
   ],
   "source": [
    "open('stations.txt','r').readlines()[:10]"
   ]
  },
  {
   "cell_type": "markdown",
   "metadata": {},
   "source": [
    "### Function to make a dictionary only with metadata of stations"
   ]
  },
  {
   "cell_type": "code",
   "execution_count": 96,
   "metadata": {},
   "outputs": [],
   "source": [
    "def get_stations():\n",
    "    open('stations.txt','r').readlines()[:10]\n",
    "    stations = {}\n",
    "\n",
    "    for line in open('stations.txt','r'):  ## read every line of stations\n",
    "        if 'GSN' in line:\n",
    "            fields = line.split()\n",
    "            stations[fields[0]] = ' '.join(fields[4:])\n",
    "    return stations"
   ]
  },
  {
   "cell_type": "code",
   "execution_count": 98,
   "metadata": {},
   "outputs": [
    {
     "data": {
      "text/plain": [
       "{'AE000041196': 'SHARJAH INTER. AIRP GSN 41196',\n",
       " 'AF000040930': 'NORTH-SALANG GSN 40930',\n",
       " 'AG000060390': 'ALGER-DAR EL BEIDA GSN 60390',\n",
       " 'AG000060590': 'EL-GOLEA GSN 60590',\n",
       " 'AG000060611': 'IN-AMENAS GSN 60611',\n",
       " 'AG000060680': 'TAMANRASSET GSN 60680',\n",
       " 'AJ000037989': 'ASTARA GSN 37989',\n",
       " 'ALM00013615': 'TIRANA RINAS GSN 13615',\n",
       " 'AM000037781': 'ARAGAC VISOKOGORNAYA GSN 37781',\n",
       " 'AO000066160': 'LUANDA GSN 66160',\n",
       " 'AO000066270': 'WAKU KUNGU (CELA) GSN 66270',\n",
       " 'AO000066390': 'LUBANGO (SA DA BAND GSN 66390',\n",
       " 'AO000066410': 'MENONGUE (SERPA PIN GSN 66410',\n",
       " 'AO000066422': 'MOCAMEDES GSN 66422',\n",
       " 'AO000066447': 'MAVINGA GSN 66447',\n",
       " 'AQW00061705': 'AS PAGO PAGO WSO AP GSN 91765',\n",
       " 'AR000087007': 'LA QUIACA OBSERVATO GSN 87007',\n",
       " 'AR000087065': 'RIVADAVIA GSN 87065',\n",
       " 'AR000087078': 'LAS LOMITAS GSN 87078',\n",
       " 'AR000087155': 'RESISTENCIA AERO GSN 87155',\n",
       " 'AR000087217': 'LA RIOJA AERO. GSN 87217',\n",
       " 'AR000087257': 'CERES AERO GSN 87257',\n",
       " 'AR000087270': 'RECONQUISTA AERO GSN 87270',\n",
       " 'AR000087344': 'CORDOBA AERO GSN 87344',\n",
       " 'AR000087374': 'PARANA AERO GSN 87374',\n",
       " 'AR000087418': 'MENDOZA AERO GSN 87418',\n",
       " 'AR000087534': 'LABOULAYE AERO GSN 87534',\n",
       " 'AR000087623': 'SANTA ROSA AERO GSN 87623',\n",
       " 'AR000087692': 'MAR DEL PLATA AERO GSN 87692',\n",
       " 'AR000087715': 'NEUQUEN AERO GSN 87715',\n",
       " 'AR000087803': 'ESQUEL AERO GSN 87803',\n",
       " 'AR000087828': 'TRELEW AERO GSN 87828',\n",
       " 'AR000087860': 'COMODORO RIVADAVIA GSN 87860',\n",
       " 'AR000087925': 'RIO GALLEGOS AERO GSN 87925',\n",
       " 'AR000870470': 'SALTA AERO GSN 87047',\n",
       " 'AR000873050': 'JACHAL GSN 87305',\n",
       " 'AR000875440': 'PEHUAJO AERO GSN 87544',\n",
       " 'AR000877500': 'BAHIA BLANCA AERO GSN 87750',\n",
       " 'ARM00087178': 'POSADAS GSN 87178',\n",
       " 'ARM00087289': 'PASO DE LOS LIBRES GSN 87289',\n",
       " 'ARM00087497': 'GUALEGUAYCHU GSN 87497',\n",
       " 'ARM00087506': 'MALARGUE GSN 87506',\n",
       " 'ARM00087593': 'LA PLATA GSN 87593',\n",
       " 'ASM00094299': 'WILLIS ISLAND GSN 94299',\n",
       " 'ASM00094995': 'LORD HOWE ISLAND AERO GSN 94995',\n",
       " 'ASM00094998': 'MACQUARIE ISLAND GSN 94998',\n",
       " 'ASN00001019': 'KALUMBURU GSN 94100',\n",
       " 'ASN00002012': 'HALLS CREEK AIRPORT GSN 94212',\n",
       " 'ASN00003003': 'BROOME AIRPORT GSN 94203',\n",
       " 'ASN00004032': 'PORT HEDLAND AIRPORT GSN 94312',\n",
       " 'ASN00005007': 'LEARMONTH AIRPORT GSN 94302',\n",
       " 'ASN00006011': 'CARNARVON AIRPORT GSN 94300',\n",
       " 'ASN00007045': 'MEEKATHARRA AIRPORT GSN 94430',\n",
       " 'ASN00007176': 'NEWMAN AERO GSN 94317',\n",
       " 'ASN00008051': 'GERALDTON AIRPORT GSN 94403',\n",
       " 'ASN00009518': 'CAPE LEEUWIN GSN 94601',\n",
       " 'ASN00009741': 'ALBANY AIRPORT GSN 94802',\n",
       " 'ASN00009789': 'ESPERANCE GSN 94638',\n",
       " 'ASN00010286': 'CUNDERDIN AIRFIELD GSN 95625',\n",
       " 'ASN00011052': 'FORREST GSN 95646',\n",
       " 'ASN00012038': 'KALGOORLIE-BOULDER AIRPORT GSN 94637',\n",
       " 'ASN00013017': 'GILES METEOROLOGICAL OFFICE GSN 94461',\n",
       " 'ASN00014015': 'DARWIN AIRPORT GSN 94120',\n",
       " 'ASN00014508': 'GOVE AIRPORT GSN 94150',\n",
       " 'ASN00014932': 'TINDAL RAAF GSN 94131',\n",
       " 'ASN00015135': 'TENNANT CREEK AIRPORT GSN 94238',\n",
       " 'ASN00015548': 'RABBIT FLAT GSN 95322',\n",
       " 'ASN00015590': 'ALICE SPRINGS AIRPORT GSN 94326',\n",
       " 'ASN00017031': 'MARREE COMPARISON GSN 94480',\n",
       " 'ASN00017043': 'OODNADATTA AIRPORT GSN 94476',\n",
       " 'ASN00018011': 'CEDUNA POST OFFICE GSN 94653',\n",
       " 'ASN00021133': 'SNOWTOWN (RAYVILLE PARK) GSN 95670',\n",
       " 'ASN00022823': 'CAPE BORDA GSN 95805',\n",
       " 'ASN00026020': 'MOUNT GAMBIER POST OFFICE GSN 94821',\n",
       " 'ASN00027045': 'WEIPA AERO GSN 94170',\n",
       " 'ASN00029077': 'BURKETOWN AIRPORT GSN 94260',\n",
       " 'ASN00029126': 'MOUNT ISA MINE GSN 94332',\n",
       " 'ASN00030045': 'RICHMOND POST OFFICE GSN 94340',\n",
       " 'ASN00030124': 'GEORGETOWN AIRPORT GSN 94274',\n",
       " 'ASN00031010': 'CAIRNS POST OFFICE GSN 94287',\n",
       " 'ASN00033119': 'MACKAY M.O GSN 94367',\n",
       " 'ASN00036031': 'LONGREACH AERO GSN 94346',\n",
       " 'ASN00038026': 'BIRDSVILLE AIRPORT GSN 95482',\n",
       " 'ASN00039123': 'GLADSTONE RADAR GSN 94380',\n",
       " 'ASN00040908': 'TEWANTIN RSL PARK GSN 94570',\n",
       " 'ASN00043109': 'ST GEORGE AIRPORT GSN 94517',\n",
       " 'ASN00044021': 'CHARLEVILLE AERO GSN 94510',\n",
       " 'ASN00045025': 'THARGOMINDAH AIRPORT GSN 95492',\n",
       " 'ASN00046037': 'TIBOOBURRA POST OFFICE GSN 94485',\n",
       " 'ASN00047007': 'BROKEN HILL (PATTON STREET) GSN 94689',\n",
       " 'ASN00048027': 'COBAR MO GSN 94711',\n",
       " 'ASN00056242': 'INVERELL (RAGLAN ST) GSN 95541',\n",
       " 'ASN00058012': 'YAMBA PILOT STATION GSN 94589',\n",
       " 'ASN00060141': 'TAREE AIRPORT AWS GSN 95784',\n",
       " 'ASN00065070': 'DUBBO AIRPORT AWS GSN 95719',\n",
       " 'ASN00067033': 'RICHMOND RAAF GSN 95753',\n",
       " 'ASN00069018': 'MORUYA HEADS PILOT STATION GSN 94937',\n",
       " 'ASN00072091': 'CABRAMURRA SMHEA GSN 95916',\n",
       " 'ASN00072150': 'WAGGA WAGGA AMO GSN 94910',\n",
       " 'ASN00074258': 'DENILIQUIN AIRPORT AWS GSN 95869',\n",
       " 'ASN00076031': 'MILDURA AIRPORT GSN 94693',\n",
       " 'ASN00085072': 'EAST SALE AIRPORT GSN 94907',\n",
       " 'ASN00090015': 'CAPE OTWAY LIGHTHOUSE GSN 94842',\n",
       " 'ASN00091293': 'LOW HEAD GSN 95964',\n",
       " 'ASN00094010': 'CAPE BRUNY LIGHTHOUSE GSN 94967',\n",
       " 'AU000005010': 'KREMSMUENSTER GSN 11012',\n",
       " 'AU000005901': 'WIEN GSN 11035',\n",
       " 'AU000015410': 'SONNBLICK GSN 11146',\n",
       " 'AYM00088963': 'BASE ESPERANZA GSN 88963',\n",
       " 'AYM00088968': 'BASE ORCADAS GSN 88968',\n",
       " 'AYM00089002': 'NEUMAYER GSN 89002',\n",
       " 'AYM00089004': 'S.A.N.A.E. AWS GSN 89004',\n",
       " 'AYM00089022': 'HALLEY GSN 89022',\n",
       " 'AYM00089050': 'BELLINGSHAUSEN AWS GSN 89050',\n",
       " 'AYM00089055': 'BASE MARAMBIO GSN 89055',\n",
       " 'AYM00089056': 'CENTRO MET. ANTARTICO PDTE. E GSN 89056',\n",
       " 'AYM00089062': 'ROTHERA GSN 89062',\n",
       " 'AYM00089063': 'VERNADSKY GSN 89063',\n",
       " 'AYM00089065': 'FOSSIL BLUFF GSN 89065',\n",
       " 'AYM00089262': 'UNIV. WI ID 8926 (LARSEN ICE GSN 89262',\n",
       " 'AYM00089266': 'UNIV. WI ID 8902 (BUTLER ISLA GSN 89266',\n",
       " 'AYM00089272': 'UNIV. WI ID 8917 (SKI-BLU) GSN 89272',\n",
       " 'AYM00089324': 'BYRD STATION GSN 89324',\n",
       " 'AYM00089327': 'MOUNT SIPLE GSN 89327',\n",
       " 'AYM00089329': 'HARRY GSN 89329',\n",
       " 'AYM00089345': 'SIPLE DOME GSN 89345',\n",
       " 'AYM00089376': 'GILL GSN 89376',\n",
       " 'AYM00089377': 'LETTAU GSN 89377',\n",
       " 'AYM00089512': 'NOVOLAZAREVSKAJA GSN 89512',\n",
       " 'AYM00089532': 'SYOWA GSN 89532',\n",
       " 'AYM00089564': 'MAWSON GSN 89564',\n",
       " 'AYM00089571': 'DAVIS GSN 89571',\n",
       " 'AYM00089573': 'ZHONGSHAN GSN 89573',\n",
       " 'AYM00089574': 'PROGRESS GSN 89574',\n",
       " 'AYM00089577': 'DOME PLATEAU DOME A GSN 89577',\n",
       " 'AYM00089592': 'MIRNYJ GSN 89592',\n",
       " 'AYM00089606': 'VOSTOK GSN 89606',\n",
       " 'AYM00089611': 'CASEY GSN 89611',\n",
       " 'AYM00089625': 'CONCORDIA GSN 89625',\n",
       " 'AYM00089642': \"DUMONT D'URVILLE GSN 89642\",\n",
       " 'AYM00089662': 'BASE BAIA TERRA NOVA GSN 89662',\n",
       " 'AYM00089664': 'MCMURDO SOUND NAF GSN 89664',\n",
       " 'AYM00089744': 'RELAY STAT GSN 89744',\n",
       " 'AYM00089828': 'DOME C II GSN 89828',\n",
       " 'AYM00089865': 'WHITLOCK GSN 89865',\n",
       " 'AYM00089869': 'MARILYN GSN 89869',\n",
       " 'AYM00089872': 'FERRELL GSN 89872',\n",
       " 'AYM00089879': 'POSSESSION IS GSN 89879',\n",
       " 'AYW00087602': 'MARBLE POINT GSN 89866',\n",
       " 'AYW00090001': 'AMUNDSEN-SCOTT GSN 89009',\n",
       " 'BA000041150': 'BAHRAIN (INT. AIRPO GSN 41150',\n",
       " 'BB000078954': 'GRANTLEY ADAMS GSN 78954',\n",
       " 'BC000068032': 'MAUN GSN 68032',\n",
       " 'BDM00078016': 'L F WADE INTL AP KINDLEY FLD GSN 78016',\n",
       " 'BE000006447': 'UCCLE GSN 06447',\n",
       " 'BF000078073': 'NASSAU AIRPORT NEW GSN 78073',\n",
       " 'BKM00014652': 'BJELASNICA GSN 14652',\n",
       " 'BL000085041': 'COBIJA GSN 85041',\n",
       " 'BL000085043': 'RIBERALTA GSN 85043',\n",
       " 'BL000085114': 'MAGDALENA GSN 85114',\n",
       " 'BL000085141': 'RURRENABAQUE GSN 85141',\n",
       " 'BL000085223': 'COCHABAMBA GSN 85223',\n",
       " 'BL000085230': 'CHARANA GSN 85230',\n",
       " 'BL000085364': 'TARIJA GSN 85364',\n",
       " 'BL000085365': 'YACUIBA GSN 85365',\n",
       " 'BLM00085207': 'SAN IGNACIO VELASCO GSN 85207',\n",
       " 'BLM00085289': 'TTE DE AV SALVADOR OGAYA G GSN 85289',\n",
       " 'BMM00048042': 'MANDALAY GSN 48042',\n",
       " 'BMM00048062': 'SITTWE GSN 48062',\n",
       " 'BMM00048097': 'YANGON INTL GSN 48097',\n",
       " 'BN000065306': 'KANDI GSN 65306',\n",
       " 'BN000065335': 'SAVE GSN 65335',\n",
       " 'BOM00033038': 'VASILEVICI GSN 33038',\n",
       " 'BP000091503': 'MUNDA GSN 91503',\n",
       " 'BPW00080601': 'GUADALCANAL AAF GSN 91520',\n",
       " 'BR000082704': 'CRUZEIRO DO SUL GSN 82704',\n",
       " 'BR000083361': 'CUIABA GSN 83361',\n",
       " 'BR001746006': 'PONTE DA BR-040 - PRATA GSN 83481',\n",
       " 'BR002549075': 'CURITIBA GSN 83842',\n",
       " 'BR00E3-0070': 'SAO PAULO GSN 83781',\n",
       " 'BR036190520': 'BARRA DO CORDA GSN 82571',\n",
       " 'BR038014410': 'QUIXERAMOBIM GSN 82586',\n",
       " 'BR047403040': 'BARREIRAS GSN 83236',\n",
       " 'BR048620980': 'SALVADOR GSN 83229',\n",
       " 'BR058514530': 'CARAVELAS GSN 83498',\n",
       " 'BRM00082024': 'BOA VISTA GSN 82024',\n",
       " 'BRM00082106': 'SAO GABRIEL DA CACH GSN 82106',\n",
       " 'BRM00082113': 'BARCELOS GSN 82113',\n",
       " 'BRM00082331': 'MANAUS GSN 82331',\n",
       " 'BRM00082410': 'BENJAMIN CONSTANT GSN 82410',\n",
       " 'BRM00082425': 'COARI GSN 82425',\n",
       " 'BRM00083064': 'PORTO NACIONAL GSN 83064',\n",
       " 'BRM00083264': 'GLEBA CELESTE GSN 83264',\n",
       " 'BY000064397': 'MUYINGA GSN 64397',\n",
       " 'CA001026270': 'BC PORT HARDY A GSN 71109',\n",
       " 'CA001032731': 'BC ESTEVAN POINT CS GSN 71894',\n",
       " 'CA001096631': 'BC QUESNEL AIRPORT AUTO GSN 71779',\n",
       " 'CA001163842': 'BC KAMLOOPS AUT GSN 71741',\n",
       " 'CA001192940': 'BC FORT NELSON A GSN 71945',\n",
       " 'CA00119BLM0': 'BC DEASE LAKE (AUT) GSN 71222',\n",
       " 'CA002100402': 'YT DAWSON A GSN 71966',\n",
       " 'CA002100693': 'YT MACMILLAN PASS GSN 71990',\n",
       " 'CA002101204': 'YT WATSON LAKE (AUT) GSN 71199',\n",
       " 'CA002101310': 'YT WHITEHORSE AUTO GSN 71773',\n",
       " 'CA002201903': 'NT FORT RELIANCE (AUT) GSN 71160',\n",
       " 'CA002202102': 'NT FORT SIMPSON CLIMATE GSN 71365',\n",
       " 'CA002202202': 'NT FORT SMITH CLIMATE GSN 71362',\n",
       " 'CA002202402': 'NT HAY RIVER CLIMATE GSN 71361',\n",
       " 'CA002202578': 'NT INUVIK CLIMATE GSN 71364',\n",
       " 'CA002202810': 'NT NORMAN WELLS CLIMATE GSN 71480',\n",
       " 'CA002203058': 'NT PAULATUK GSN 71984',\n",
       " 'CA002300501': 'NU BAKER LAKE CLIMATE GSN 71356',\n",
       " 'CA002300904': 'NU KUGLUKTUK CLIMATE GSN 71332',\n",
       " 'CA002301000': 'NU CORAL HARBOUR A GSN 71915',\n",
       " 'CA002301102': 'NU ENNADAI LAKE (AUT) GSN 71923',\n",
       " 'CA002301153': 'NU ARVIAT CLIMATE GSN 71322',\n",
       " 'CA002302340': 'NU GJOA HAVEN CLIMATE GSN 71363',\n",
       " 'CA002303094': 'NU KUGAARUK CLIMATE GSN 71407',\n",
       " 'CA002303610': 'NU ROBERTSON LAKE (AUT) GSN 71490',\n",
       " 'CA002400305': 'NU ALERT CLIMATE GSN 71355',\n",
       " 'CA002400404': 'NU ARCTIC BAY CS GSN 71592',\n",
       " 'CA002400573': 'NU QIKIQTARJUAQ CLIMATE GSN 71357',\n",
       " 'CA002400602': 'NU CAMBRIDGE BAY GSN GSN 71288',\n",
       " 'CA002400636': 'NU CAPE DORSET CLIMATE GSN 71575',\n",
       " 'CA002400802': 'NU CLYDE RIVER CLIMATE GSN 71358',\n",
       " 'CA002401200': 'NU EUREKA GSN 71917',\n",
       " 'CA002402353': 'NU HALL BEACH CLIMATE GSN 71320',\n",
       " 'CA002402592': 'NU IQALUIT CLIMATE GSN 71321',\n",
       " 'CA002402604': 'NU ISACHSEN (AUT) GSN 71074',\n",
       " 'CA002403049': 'NU PANGNIRTUNG GSN 71826',\n",
       " 'CA002403204': 'NU POND INLET CLIMATE GSN 71576',\n",
       " 'CA002403505': 'NU RESOLUTE CS GSN 71018',\n",
       " 'CA002403756': 'NU STEFANSSON ISLAND GSN 71017',\n",
       " 'CA002403945': 'NU WAGER BAY (AUT) GSN 71049',\n",
       " 'CA002502505': 'NT HOLMAN CS GSN 71029',\n",
       " 'CA002503648': 'NT SACHS HARBOUR CLIMATE GSN 71467',\n",
       " 'CA00250M001': 'NT MOULD BAY CS GSN 71989',\n",
       " 'CA003034485': 'AB MEDICINE HAT RCS GSN 71026',\n",
       " 'CA003050519': 'AB BANFF CS GSN 71122',\n",
       " 'CA003062696': 'AB FORT MCMURRAY CS GSN 71585',\n",
       " 'CA003066002': 'AB SLAVE LAKE AWOS A GSN 71069',\n",
       " 'CA003073140': 'AB HIGH LEVEL GSN 71066',\n",
       " 'CA003081680': 'AB COLD LAKE A GSN 71120',\n",
       " 'CA004012400': 'SK ESTEVAN A GSN 71862',\n",
       " 'CA004028060': 'SK SWIFT CURRENT CDA GSN 71446',\n",
       " 'CA004056240': 'SK PRINCE ALBERT A GSN 71869',\n",
       " 'CA004064149': 'SK LA RONGE RCS GSN 71586',\n",
       " 'CA005030203': 'MB BERENS RIVER CS GSN 71158',\n",
       " 'CA005040681': 'MB DAUPHIN CS GSN 71550',\n",
       " 'CA005052890': 'MB THE PAS CLIMATE GSN 71695',\n",
       " 'CA005060608': 'MB CHURCHILL CLIMATE GSN 71696',\n",
       " 'CA005062922': 'MB THOMPSON A GSN 71079',\n",
       " 'CA006010739': 'ON BIG TROUT LAKE READAC GSN 71844',\n",
       " 'CA006016295': 'ON PEAWANUCK (AUT) GSN 71434',\n",
       " 'CA006037775': 'ON SIOUX LOOKOUT A GSN 71842',\n",
       " 'CA006073980': 'ON KAPUSKASING CDA ON GSN 71299',\n",
       " 'CA006075435': 'ON MOOSONEE RCS GSN 71309',\n",
       " 'CA006092920': 'ON GORE BAY CLIMATE GSN 71956',\n",
       " 'CA007034482': 'QC MANIWAKI AIRPORT GSN 71721',\n",
       " 'CA007045401': 'QC NATASHQUAN A GSN 71813',\n",
       " 'CA007047914': 'QC SEPT-ILES GSN 71279',\n",
       " 'CA007054096': 'QC LA POCATIERE GSN 71713',\n",
       " 'CA007060400': 'QC BAGOTVILLE A GSN 71727',\n",
       " 'CA007093715': 'QC LA GRANDE RIVIERE A GSN 71827',\n",
       " 'CA007093GJ5': 'QC LA GRANDE IV GSN 71823',\n",
       " 'CA007103282': 'QC INUKJUAK UA GSN 71907',\n",
       " 'CA007113534': 'QC KUUJJUAQ A GSN 71906',\n",
       " 'CA007116505': 'QC RIVIERE AUX FEUILLES GSN 71743',\n",
       " 'CA007117825': 'QC SCHEFFERVILLE A GSN 71828',\n",
       " 'CA008204700': 'NS SABLE ISLAND GSN 71600',\n",
       " 'CA008206495': 'NS YARMOUTH A GSN 71603',\n",
       " 'CA00830P001': 'PE HARRINGTON CDA CS GSN 71350',\n",
       " 'CA008401400': 'NL DANIELS HARBOUR GSN 71185',\n",
       " 'CA008401705': 'NL GANDER AIRPORT CS GSN 71742',\n",
       " 'CA008402450': 'NL ISLE AUX MORTS GSN 71197',\n",
       " 'CA008501100': 'NL CARTWRIGHT GSN 71818',\n",
       " 'CA008501900': 'NL GOOSE A GSN 71816',\n",
       " 'CA008502799': 'NL NAIN GSN 71665',\n",
       " 'CD000004700': 'NDJAMENA GSN 64700',\n",
       " 'CD000064706': 'MOUNDOU GSN 64706',\n",
       " 'CD000064751': 'ATI GSN 64751',\n",
       " 'CD000064753': 'FAYA GSN 64753',\n",
       " 'CD000064754': 'AM-TIMAN GSN 64754',\n",
       " 'CE000043497': 'HAMBANTOTA GSN 43497',\n",
       " 'CE000434730': 'NUWARA ELIYA GSN 43473',\n",
       " 'CEM00043466': 'COLOMBO GSN 43466',\n",
       " 'CF000064459': 'IMPFONDO GSN 64459',\n",
       " 'CHM00050527': 'HAILAR GSN 50527',\n",
       " 'CHM00050745': 'QIQIHAR GSN 50745',\n",
       " 'CHM00051076': 'ALTAY GSN 51076',\n",
       " 'CHM00051463': 'WU LU MU QI GSN 51463',\n",
       " 'CHM00051709': 'KASHI GSN 51709',\n",
       " 'CHM00051777': 'RUOQIANG GSN 51777',\n",
       " 'CHM00051828': 'HOTAN GSN 51828',\n",
       " 'CHM00052203': 'HAMI GSN 52203',\n",
       " 'CHM00052533': 'JIUQUAN GSN 52533',\n",
       " 'CHM00052836': 'DULAN GSN 52836',\n",
       " 'CHM00052983': 'YU ZHONG GSN 52983',\n",
       " 'CHM00053068': 'ERENHOT GSN 53068',\n",
       " 'CHM00053614': 'YINCHUAN GSN 53614',\n",
       " 'CHM00054342': 'SHENYANG GSN 54342',\n",
       " 'CHM00054511': 'BEIJING GSN 54511',\n",
       " 'CHM00054857': 'QINGDAO GSN 54857',\n",
       " 'CHM00055591': 'LHASA GSN 55591',\n",
       " 'CHM00056137': 'QAMDO GSN 56137',\n",
       " 'CHM00056187': 'WENJIANG GSN 56187',\n",
       " 'CHM00056571': 'XICHANG GSN 56571',\n",
       " 'CHM00056739': 'TENGCHONG GSN 56739',\n",
       " 'CHM00056985': 'MENGZI GSN 56985',\n",
       " 'CHM00057083': 'ZHENGZHOU GSN 57083',\n",
       " 'CHM00057461': 'YICHANG GSN 57461',\n",
       " 'CHM00057745': 'ZHIJIANG GSN 57745',\n",
       " 'CHM00057993': 'GANZHOU GSN 57993',\n",
       " 'CHM00058362': 'SHANGHAI GSN 58362',\n",
       " 'CHM00058606': 'NANCHANG GSN 58606',\n",
       " 'CHM00059287': 'GUANGZHOU GSN 59287',\n",
       " 'CHM00059316': 'SHANTOU GSN 59316',\n",
       " 'CHM00059431': 'NANNING GSN 59431',\n",
       " 'CHM00059758': 'HAIKOU GSN 59758',\n",
       " 'CI000085406': 'ARICA GSN 85406',\n",
       " 'CI000085442': 'ANTOFAGASTA GSN 85442',\n",
       " 'CI000085469': 'ISLA DE PASCUA GSN 85469',\n",
       " 'CI000085488': 'LA SERENA GSN 85488',\n",
       " 'CI000085543': 'QUINTERO GSN 85577',\n",
       " 'CI000085585': 'JUAN FERNANDEZ GSN 85585',\n",
       " 'CI000085629': 'CURICO GSN 85629',\n",
       " 'CI000085743': 'TEMUCO GSN 85743',\n",
       " 'CI000085799': 'PUERTO MONTT GSN 85799',\n",
       " 'CI000085874': 'BALMACEDA GSN 85874',\n",
       " 'CI000085934': 'PUNTA ARENAS GSN 85934',\n",
       " 'CJW00011813': 'ROBERTS GSN 78384',\n",
       " 'CK000096996': 'COCOS ISLAND AERO GSN 96996',\n",
       " 'CM000064870': 'NGAOUNDERE GSN 64870',\n",
       " 'CO000080001': 'SAN ANDRES (ISLA)/S GSN 80001',\n",
       " 'CO000080222': 'BOGOTA/ELDORADO GSN 80222',\n",
       " 'CO000080259': 'CALI/ALFONSO BONILL GSN 80259',\n",
       " 'CO000080342': 'PASTO/ANTONIO NARIN GSN 80342',\n",
       " 'CS000081003': 'PUERTO LIMON GSN 78767',\n",
       " 'CUM00078310': 'CABO SAN ANTONIO PINAR DEL GSN 78310',\n",
       " 'CUM00078325': 'CASA BLANCA LA HABANA GSN 78325',\n",
       " 'CUM00078355': 'CAMAGUEY CAMAGUEY GSN 78355',\n",
       " 'CUM00078369': 'PUNTA DE MAISI GUANTANAMO GSN 78369',\n",
       " 'CVM00008583': 'MINDELO GSN 08583',\n",
       " 'CWM00091843': 'RAROTONGA INTL GSN 91843',\n",
       " 'CY000176090': 'LARNACA GSN 17609',\n",
       " 'DA000030380': 'KOEBENHAVN: LANDBOHOJSKOLEN-1 GSN 06186',\n",
       " 'DAM00006011': 'TORSHAVN GSN 06011',\n",
       " 'EC000000006': 'PICHILINGUE GSN 84140',\n",
       " 'ECM00084008': 'SAN CRISTOBAL GSN 84008',\n",
       " 'ECM00084088': 'IZOBAMBA GSN 84088',\n",
       " 'ECM00084270': 'LOJA/LA ARGELIA GSN 84270',\n",
       " 'EG000062306': 'MERSA MATRUH GSN 62306',\n",
       " 'EG000062414': 'ASSWAN GSN 62414',\n",
       " 'EG000062417': 'SIWA GSN 62417',\n",
       " 'EG000062463': 'HURGUADA GSN 62463',\n",
       " 'EG000624200': 'BAHARIA GSN 62420',\n",
       " 'EGM00062378': 'HELWAN GSN 62378',\n",
       " 'EGM00062435': 'KHARGA GSN 62435',\n",
       " 'EI000003953': 'VALENTIA OBSERVATORY GSN 03953',\n",
       " 'EI000003980': 'MALIN HEAD GSN 03980',\n",
       " 'EN000026242': 'TARTU-TORAVERE GSN 26242',\n",
       " 'ER000063021': 'ASMARA GSN 63021',\n",
       " 'ES000078650': 'ACAJUTLA GSN 78650',\n",
       " 'ET000063403': 'GORE GSN 63403',\n",
       " 'ET000063450': 'ADDIS ABABA-BOLE GSN 63450',\n",
       " 'ET000063453': 'METEHARA GSN 63453',\n",
       " 'ET000063533': 'NEGHELLE GSN 63533',\n",
       " 'EUM00061972': 'ILE EUROPA GSN 61972',\n",
       " 'EZ000011464': 'MILESOVKA GSN 11464',\n",
       " 'FG000081405': 'ROCHAMBEAU GSN 81405',\n",
       " 'FI000002401': 'JYVASKYLA LENTOASEMA GSN 02935',\n",
       " 'FI000002963': 'JOKIOINEN JOKIOISTEN OBSERVATO GSN 02963',\n",
       " 'FI000007501': 'SODANKYLA AWS GSN 02836',\n",
       " 'FJ000091650': 'ROTUMA GSN 91650',\n",
       " 'FJ000091652': 'UDU POINT AWS GSN 91652',\n",
       " 'FJ000091680': 'NADI AIRPORT GSN 91680',\n",
       " 'FJM00091699': 'ONO-I-LAU AWS GSN 91699',\n",
       " 'FKM00088889': 'MOUNT PLEASANT GSN 88889',\n",
       " 'FMW00040308': 'FM YAP ISLAND WSO AP GSN 91490',\n",
       " 'FMW00040504': 'FM POHNPEI WSO GSN 91348',\n",
       " 'FMW00040505': 'FM CHUUK WSO AP GSN 91334',\n",
       " 'FP000091925': 'HIVA-OA GSN 91925',\n",
       " 'FP000091938': 'TAHITI-FAAA GSN 91938',\n",
       " 'FP000091943': 'TAKAROA GSN 91943',\n",
       " 'FP000091948': 'MANGAREVA GSN 91948',\n",
       " 'FP000091954': 'TUBUAI GSN 91954',\n",
       " 'FP000091958': 'RAPA GSN 91958',\n",
       " 'FPM00091945': 'HEREHERETUE GSN 91945',\n",
       " 'FR000007130': 'RENNES-ST JACQUES GSN 07130',\n",
       " 'FR000007190': 'STRASBOURG-ENTZHEIM GSN 07190',\n",
       " 'FR000007255': 'BOURGES GSN 07255',\n",
       " 'FR000007560': 'MONT-AIGOUAL GSN 07560',\n",
       " 'FR000007630': 'TOULOUSE-BLAGNAC GSN 07630',\n",
       " 'FR000007650': 'MARSEILLES-MARIGNANE GSN 07650',\n",
       " 'FRM00061998': 'PORT-AUX-FRANCAIS (ILES KERGU GSN 61998',\n",
       " 'FSM00061996': 'MARTIN DE VIVIES (I GSN 61996',\n",
       " 'FSM00061997': 'ALFRED FAURE (ILES CROZET) GSN 61997',\n",
       " 'GL000004250': 'NUUK GSN 04250',\n",
       " 'GL000004320': 'DANMARKSHAVN GSN 04320',\n",
       " 'GL000004360': 'TASIILAQ GSN 04360',\n",
       " 'GLE00146908': 'MITT. UPERNAVIK GSN 04211',\n",
       " 'GLM00004390': 'IKERASASSUAQ GSN 04390',\n",
       " 'GM000010147': 'HAMBURG FUHLSBUETTEL GSN 10147',\n",
       " 'GM000010393': 'LINDENBERG GSN 10393',\n",
       " 'GM000010962': 'HOHENPEISSENBERG GSN 10962',\n",
       " 'GMW00035032': 'RHEIN MAIN GSN 10637',\n",
       " 'GP000078897': 'LE RAIZET, GUADELOUPE GSN 78897',\n",
       " 'GQW00041415': 'GU GUAM INTL AP GSN 91212',\n",
       " 'GR000016641': 'CORFU GSN 16641',\n",
       " 'GR000016734': 'METHONI GSN 16734',\n",
       " 'GR000167230': 'SAMOS AIRPORT GSN 16723',\n",
       " 'GR000167460': 'SOUDA AIRPORT GSN 16746',\n",
       " 'HR000142360': 'ZAGREB-GRIC GSN 14236',\n",
       " 'HU000012942': 'PECS POGANY GSN 12942',\n",
       " 'IC000004013': 'STYKKISHOLMUR GSN 04013',\n",
       " 'IC000004030': 'REYKJAVIK GSN 04030',\n",
       " 'IC000004048': 'VESTMANNAEYJAR GSN 04048',\n",
       " 'IC000004063': 'AKUREYRI GSN 04063',\n",
       " 'ID000096073': 'SIBOLGA/PINANGSORI GSN 96073',\n",
       " 'ID000096145': 'TAREMPA GSN 96145',\n",
       " 'ID000096163': 'PADANG/TABING GSN 96163',\n",
       " 'ID000096745': 'JAKARTA/OBSERVATORY GSN 96745',\n",
       " 'ID000096805': 'CILACAP GSN 96805',\n",
       " 'ID000096925': 'SANGKAPURA (BAWEAN GSN 96925',\n",
       " 'ID000097014': 'MENADO/ SAM RATULAN GSN 97014',\n",
       " 'ID000097146': 'KENDARI/WOLTER MONG GSN 97146',\n",
       " 'ID000097340': 'WAINGAPU/MAU HAU GSN 97340',\n",
       " 'ID000097372': 'KUPANG/ELTARI GSN 97372',\n",
       " 'ID000097502': 'SORONG/JEFMAN GSN 97502',\n",
       " 'ID000097560': 'BIAK/FRANS KAISIEPO GSN 97560',\n",
       " 'ID000097686': 'WAMENA GSN 97686',\n",
       " 'ID000097690': 'JAYAPURA/SENTANI GSN 97690',\n",
       " 'ID000097724': 'AMBON/PATTIMURA GSN 97724',\n",
       " 'ID000097900': 'SAUMLAKI/OLILIT GSN 97900',\n",
       " 'ID000097980': 'MERAUKE/MOPAH GSN 97980',\n",
       " 'IDM00097240': 'MATARAM-LOMBOK INTL AIRPORT GSN 97240',\n",
       " 'IN001080500': 'BEGUMPET OBSY GSN 43128',\n",
       " 'IN003041800': 'GAUHATI GSN 42410',\n",
       " 'IN004091000': 'DALTONGANJ GSN 42587',\n",
       " 'IN005030100': 'DEESA GSN 42539',\n",
       " 'IN005090100': 'DWARKA GSN 42731',\n",
       " 'IN007101600': 'SHIMLA GSN 42083',\n",
       " 'IN008010200': 'SRINAGAR GSN 42027',\n",
       " 'IN009010100': 'BANGALORE GSN 43295',\n",
       " 'IN011020300': 'JAGDALPUR GSN 43041',\n",
       " 'IN011060800': 'PENDRA ROAD GSN 42779',\n",
       " 'IN011330900': 'SAGAR GSN 42671',\n",
       " 'IN012190100': 'POONA GSN 43063',\n",
       " 'IN014020800': 'CHERRAPUNJI GSN 42515',\n",
       " 'IN019070100': 'BIKANER GSN 42165',\n",
       " 'IN020040900': 'MADRAS/MINAMBAKKAM GSN 43279',\n",
       " 'IN020081000': 'KODAIKANAL GSN 43339',\n",
       " 'IN020100400': 'PAMBAN GSN 43363',\n",
       " 'IN022021900': 'NEW DELHI/SAFDARJUN GSN 42182',\n",
       " 'IN024050100': 'DARJEELING GSN 42295',\n",
       " 'IN025010100': 'MINICOY OBSY GSN 43369',\n",
       " 'IN099999901': 'PORT BLAIR GSN 43333',\n",
       " 'IR000040706': 'TABRIZ GSN 40706',\n",
       " 'IR000040745': 'MASHHAD GSN 40745',\n",
       " 'IR000040841': 'KERMAN GSN 40841',\n",
       " 'IR000040848': 'SHIRAZ GSN 40848',\n",
       " 'IR000407540': 'TEHRAN-MEHRABAD GSN 40754',\n",
       " 'IR000407660': 'KERMANSHAH GSN 40766',\n",
       " 'IR000408560': 'ZAHEDAN GSN 40856',\n",
       " 'IS000009972': 'ELAT GSN 40199',\n",
       " 'IT000016134': 'MONTE CIMONE GSN 16134',\n",
       " 'IT000016550': 'CAPO BELLAVISTA GSN 16550',\n",
       " 'IT000160220': 'PAGANELLA GSN 16022',\n",
       " 'IT000162240': 'VIGNA DI VALLE GSN 16224',\n",
       " 'IT000162580': 'MONTE S. ANGELO GSN 16258',\n",
       " 'IV000065585': 'ADIAKE GSN 65585',\n",
       " 'IV000065599': 'SASSANDRA GSN 65599',\n",
       " 'IZ000040665': 'KUT-AL-HAI GSN 40665',\n",
       " 'JA000047401': 'WAKKANAI GSN 47401',\n",
       " 'JA000047420': 'NEMURO GSN 47420',\n",
       " 'JA000047582': 'AKITA GSN 47582',\n",
       " 'JA000047600': 'WAJIMA GSN 47600',\n",
       " 'JA000047648': 'CHOSHI GSN 47648',\n",
       " 'JA000047778': 'SHIONOMISAKI GSN 47778',\n",
       " 'JA000047815': 'OITA GSN 47815',\n",
       " 'JA000047817': 'NAGASAKI GSN 47817',\n",
       " 'JA000047927': 'SHIMOJISHIMA GSN 47927',\n",
       " 'JA000047936': 'NAHA GSN 47936',\n",
       " 'JA000047945': 'KITADAITO GSN 47945',\n",
       " 'JA000047971': 'CHICHIJIMA GSN 47971',\n",
       " 'JA000047991': 'MINAMI TORI SHIMA MA GSN 47991',\n",
       " 'JM000078388': 'MONTEGO BAY/SANGSTE GSN 78388',\n",
       " 'JNM00001001': 'JAN MAYEN GSN 01001',\n",
       " 'JOM00040250': 'H4 GSN 40250',\n",
       " 'JOM00040310': \"MA'AN GSN 40310\",\n",
       " 'KE000063612': 'LODWAR GSN 63612',\n",
       " 'KE000063624': 'MANDERA GSN 63624',\n",
       " 'KE000063661': 'KITALE GSN 63661',\n",
       " 'KE000063723': 'GARISSA GSN 63723',\n",
       " 'KE000063740': 'JOMO KENYATTA INTL GSN 63740',\n",
       " 'KE000063820': 'MOMBASA GSN 63820',\n",
       " 'KG000036974': 'NARYN GSN 36974',\n",
       " 'KG000038353': 'BISHKEK GSN 38353',\n",
       " 'KNM00047014': 'CHUNGGANG GSN 47014',\n",
       " 'KR000091610': 'TARAWA GSN 91610',\n",
       " 'KS000047112': 'INCHEON GSN 47112',\n",
       " 'KS000047115': 'ULLEUNGDO GSN 47115',\n",
       " 'KS000047165': 'MOKPO GSN 47165',\n",
       " 'KT000096995': 'CHRISTMAS ISLAND AE GSN 96995',\n",
       " 'KU000405820': 'KUWAIT INTERNATIONA GSN 40582',\n",
       " 'KZ000028952': 'KUSTANAI GSN 28952',\n",
       " 'KZ000029807': 'IRTYSHSK GSN 29807',\n",
       " 'KZ000035078': 'ATBASAR GSN 35078',\n",
       " 'KZ000035108': 'URALSK GSN 35108',\n",
       " 'KZ000035394': 'KARAGANDA GSN 35394',\n",
       " 'KZ000035416': 'UIL GSN 35416',\n",
       " 'KZ000035796': 'BALHASH GSN 35796',\n",
       " 'KZ000035849': 'KAZALINSK GSN 35849',\n",
       " 'KZ000035925': 'SAM GSN 35925',\n",
       " 'KZ000036177': 'SEMEJ GSN 36177',\n",
       " 'KZ000036535': 'KOKPEKTY GSN 36535',\n",
       " 'KZ000036859': 'ZHARKENT GSN 36859',\n",
       " 'KZ000036870': 'ALMATY GSN 36870',\n",
       " 'LG000026406': 'LIEPAJA GSN 26406',\n",
       " 'LH000026730': 'VILNIUS GSN 26730',\n",
       " 'LO000011934': 'POPRAD/TATRY GSN 11934',\n",
       " 'LU000006590': 'LUXEMBOURG AIRPORT GSN 06590',\n",
       " 'LY000062124': 'SEBHA GSN 62124',\n",
       " 'LY000062131': 'HON GSN 62131',\n",
       " 'LY000062271': 'KUFRA GSN 62271',\n",
       " 'LYE00147744': 'TRIPOLI AIRPORT GSN 62010',\n",
       " 'LYE00147747': 'BENGHAZI BENINA GSN 62053',\n",
       " 'MA000067009': 'ANTSIRANANA GSN 67009',\n",
       " 'MA000067019': 'ANALALAVA GSN 67019',\n",
       " 'MA000067083': 'ANTANANARIVO/IVATO GSN 67083',\n",
       " 'MA000067095': 'TOAMASINA GSN 67095',\n",
       " 'MA000067143': 'MANANJARY GSN 67143',\n",
       " 'MA000067161': 'TOLIARA GSN 67161',\n",
       " 'MA000067197': 'TAOLAGNARO GSN 67197',\n",
       " 'MAM00067025': 'ANTSIRABATO GSN 67025',\n",
       " 'MAM00067073': 'MAINTIRANO GSN 67073',\n",
       " 'MD000033815': 'KISINEV GSN 33815',\n",
       " 'MFM00067005': 'DZAOUDZI PAMANDZI GSN 67005',\n",
       " 'MG000044212': 'ULAAN-GOM GSN 44212',\n",
       " 'MG000044218': 'HOVD GSN 44218',\n",
       " 'MG000044231': 'MUREN GSN 44231',\n",
       " 'MG000044239': 'BULGAN GSN 44239',\n",
       " 'MG000044259': 'CHOIBALSAN GSN 44259',\n",
       " 'MG000044272': 'ULIASTAI GSN 44272',\n",
       " 'MG000044288': 'ARVAIHEER GSN 44288',\n",
       " 'MG000044317': 'ERDENETSAGAAN GSN 44317',\n",
       " 'MG000044341': 'MANDALGOBI GSN 44341',\n",
       " 'MG000044373': 'DALANZADGAD GSN 44373',\n",
       " 'MI000067693': 'CHILEKA GSN 67693',\n",
       " 'MK000013577': 'LAZAROPOLE GSN 13577',\n",
       " 'ML000061202': 'TESSALIT GSN 61202',\n",
       " 'ML000061223': 'TOMBOUCTOU GSN 61223',\n",
       " 'ML000061250': 'MENAKA GSN 61250',\n",
       " 'ML000061270': 'KITA GSN 61270',\n",
       " 'ML000061297': 'SIKASSO GSN 61297',\n",
       " 'MO000060195': 'MIDELT GSN 60195',\n",
       " 'MO000060265': 'OUARZAZATE GSN 60265',\n",
       " 'MOW00013017': 'KENITRA PORT LYAUTEY GSN 60120',\n",
       " 'MP000061974': 'AGALEGA GSN 61974',\n",
       " 'MP000061986': 'ST. BRANDON (ST. RA GSN 61986',\n",
       " 'MP000061988': 'RODRIGUES GSN 61988',\n",
       " 'MP000061990': 'PLAISANCE (MAURITIU GSN 61990',\n",
       " 'MR000061401': 'BIR MOGHREIN GSN 61401',\n",
       " 'MR000061415': 'NOUADHIBOU GSN 61415',\n",
       " 'MR000061421': 'ATAR GSN 61421',\n",
       " 'MR000061450': 'TIDJIKJA GSN 61450',\n",
       " 'MR000061497': 'NEMA GSN 61497',\n",
       " 'MT000016597': 'LUQA GSN 16597',\n",
       " 'MU000041254': 'SAIQ GSN 41254',\n",
       " 'MU000041288': 'MASIRAH GSN 41288',\n",
       " 'MUM00041316': 'SALALAH GSN 41316',\n",
       " 'MV000043555': 'MALE GSN 43555',\n",
       " 'MXM00076225': 'CHIHUAHUA GSN 76225',\n",
       " 'MXM00076311': 'CHOIX GSN 76311',\n",
       " 'MXM00076393': 'MONTERREY (CITY) GSN 76393',\n",
       " 'MXM00076405': 'LA PAZ (CITY) GSN 76405',\n",
       " 'MXM00076458': 'COLONIA JUAN CARRAS GSN 76458',\n",
       " 'MXM00076577': 'GUANAJUATO GSN 76577',\n",
       " 'MXM00076644': 'AEROP.INTERNACIONAL GSN 76644',\n",
       " 'MXM00076654': 'MANZANILLO GSN 76654',\n",
       " 'MXM00076680': 'MEXICO CITY GSN 76680',\n",
       " 'MXM00076692': 'HACIENDA YLANG YLANG VERACRUZ GSN 76692',\n",
       " 'MXM00076833': 'SALINA CRUZ GSN 76833',\n",
       " 'MY000048620': 'SITIAWAN GSN 48620',\n",
       " 'MY000048657': 'KUANTAN GSN 48657',\n",
       " 'MY000096413': 'KUCHING GSN 96413',\n",
       " 'MY000096441': 'BINTULU GSN 96441',\n",
       " 'MY000096465': 'LABUAN GSN 96465',\n",
       " 'MY000096491': 'SANDAKAN GSN 96491',\n",
       " 'MZ000067215': 'PEMBA GSN 67215',\n",
       " 'MZ000067283': 'QUELIMANE GSN 67283',\n",
       " 'MZ000067297': 'BEIRA GSN 67297',\n",
       " 'MZ000067323': 'INHAMBANE GSN 67323',\n",
       " 'NC000091577': 'KOUMAC (NLLE-CALEDO GSN 91577',\n",
       " 'NC000915920': 'NOUMEA (NLLE-CALEDO GSN 91592',\n",
       " 'NEM00091824': 'HANAN AIRPORT GSN 91824',\n",
       " 'NFM00094996': 'NORFOLK ISLAND INTL GSN 94996',\n",
       " 'NG000061017': 'BILMA GSN 61017',\n",
       " 'NG000061024': 'AGADEZ GSN 61024',\n",
       " 'NG000061043': 'TAHOUA GSN 61043',\n",
       " 'NG000061096': 'MAINE-SOROA GSN 61096',\n",
       " 'NH000091554': 'PEKOA AIRPORT (SANT GSN 91554',\n",
       " 'NH000091568': 'ANEITYUM GSN 91568',\n",
       " 'NIM00065123': 'MINNA GSN 65123',\n",
       " 'NIM00065167': 'YOLA GSN 65167',\n",
       " 'NLM00006260': 'DE BILT GSN 06260',\n",
       " 'NO000001026': 'TROMSO GSN 01026',\n",
       " 'NO000001212': 'ONA HUSOY GSN 01212',\n",
       " 'NO000001465': 'TORUNGEN FYR GSN 01465',\n",
       " 'NO000011520': 'BODO VI GSN 01152',\n",
       " 'NO000014030': 'UTSIRA FYR GSN 01403',\n",
       " 'NO000098550': 'VARDO GSN 01098',\n",
       " 'NO000099710': 'BJOERNOEYA GSN 01028',\n",
       " 'NOM00001238': 'FOKSTUA GSN 01238',\n",
       " 'NP000444540': 'KATHMANDU AIRPORT GSN 44454',\n",
       " 'NZ000093292': 'GISBORNE AERODROME GSN 93292',\n",
       " 'NZ000093417': 'PARAPARAUMU AWS GSN 93420',\n",
       " 'NZ000093844': 'INVERCARGILL AIRPOR GSN 93845',\n",
       " 'NZ000933090': 'NEW PLYMOUTH AWS GSN 93309',\n",
       " 'NZ000937470': 'TARA HILLS GSN 93747',\n",
       " 'NZ000939450': 'CAMPBELL ISLAND AWS GSN 93947',\n",
       " 'PA000086086': 'PUERTO CASADO GSN 86086',\n",
       " 'PA000086297': 'ENCARNACION GSN 86297',\n",
       " 'PC000919640': 'PITCAIRN ISLAND C GSN 91964',\n",
       " 'PE000084377': 'IQUITOS GSN 84377',\n",
       " 'PE000084455': 'TARAPOTO GSN 84455',\n",
       " 'PE000084752': 'AREQUIPA GSN 84752',\n",
       " 'PK000041560': 'PARACHINAR GSN 41560',\n",
       " 'PK000041620': 'ZHOB GSN 41620',\n",
       " 'PK000041640': 'LAHORE CITY GSN 41640',\n",
       " 'PK000041712': 'DAL BANDIN GSN 41712',\n",
       " 'PKM00041759': 'PASNI GSN 41759',\n",
       " 'PKM00041764': 'HYDERABAD AIRPORT GSN 41764',\n",
       " 'PL000012120': 'LEBA GSN 12120',\n",
       " 'PL000012385': 'SIEDLCE GSN 12385',\n",
       " 'PO000008506': 'HORTA (AZORES) GSN 08506',\n",
       " 'PO000008522': 'FUNCHAL GSN 08522',\n",
       " 'PO000008535': 'LISBOA GEOFISICA GSN 08535',\n",
       " 'POM00008512': 'PONTA DELGADA GSN 08512',\n",
       " 'PP000092035': 'PORT MORESBY W.O. GSN 92035',\n",
       " 'PPM00092044': 'MOMOTE W.O. GSN 92044',\n",
       " 'PSW00040309': 'PW KOROR WSO GSN 91408',\n",
       " 'QAM00041170': 'DOHA INTL GSN 41170',\n",
       " 'RMW00040604': 'MH KWAJALEIN GSN 91366',\n",
       " 'RMW00040710': 'MH MAJURO WBAS AP GSN 91376',\n",
       " 'ROM00015085': 'BISTRITA GSN 15085',\n",
       " 'ROM00015280': 'VARFU OMUL GSN 15280',\n",
       " 'ROM00015360': 'SULINA GSN 15360',\n",
       " 'RP000098232': 'APARRI GSN 98232',\n",
       " 'RP000098430': 'SCIENCE GARDEN GSN 98430',\n",
       " 'RP000098444': 'LEGASPI GSN 98444',\n",
       " 'RP000098755': 'HINATUAN GSN 98755',\n",
       " 'RP000098836': 'ZAMBOANGA GSN 98836',\n",
       " 'RP000098851': 'GEN. SANTOS GSN 98851',\n",
       " 'RQW00011641': 'PR SAN JUAN L M MARIN AP GSN 78526',\n",
       " 'RSM00020046': 'POLAR GMO IM.E.T.KRENKELJ GSN 20046',\n",
       " 'RSM00020069': 'OSTROV VIZE GSN 20069',\n",
       " 'RSM00020087': 'OSTROV GOLOMJANNYJ GSN 20087',\n",
       " 'RSM00020292': 'GMO IM.E.K.FEDOROVA GSN 20292',\n",
       " 'RSM00020667': 'BELY ISLAND GSN 20667',\n",
       " 'RSM00020674': 'DIKSON GSN 20674',\n",
       " 'RSM00020744': 'MALIYE_KARMAKULY GSN 20744',\n",
       " 'RSM00020891': 'HATANGA GSN 20891',\n",
       " 'RSM00020982': 'VOLOCHANKA GSN 20982',\n",
       " 'RSM00021432': 'OSTROV KOTELNYJ GSN 21432',\n",
       " 'RSM00021802': 'SASKYLAH GSN 21802',\n",
       " 'RSM00021921': 'KJUSJUR GSN 21921',\n",
       " 'RSM00021931': 'JUBILEJNAJA GSN 21931',\n",
       " 'RSM00021946': 'CHOKURDAH GSN 21946',\n",
       " 'RSM00021982': 'OSTROV VRANGELJA GSN 21982',\n",
       " 'RSM00022113': 'MURMANSK GSN 22113',\n",
       " 'RSM00022165': 'KANIN NOS GSN 22165',\n",
       " 'RSM00022217': 'KANDALAKSA GSN 22217',\n",
       " 'RSM00022471': 'MEZEN GSN 22471',\n",
       " 'RSM00022520': 'KEM-PORT GSN 22520',\n",
       " 'RSM00022550': 'ARHANGELSK GSN 22550',\n",
       " 'RSM00022802': 'SORTAVALA GSN 22802',\n",
       " 'RSM00022837': 'VYTEGRA GSN 22837',\n",
       " 'RSM00023074': 'DUDINKA GSN 23074',\n",
       " 'RSM00023205': 'NARJAN MAR GSN 23205',\n",
       " 'RSM00023330': 'SALEKHARD GSN 23330',\n",
       " 'RSM00023383': 'AGATA GSN 23383',\n",
       " 'RSM00023405': 'UST TZILMA GSN 23405',\n",
       " 'RSM00023472': 'TURUHANSK GSN 23472',\n",
       " 'RSM00023552': 'TARKO-SALE GSN 23552',\n",
       " 'RSM00023631': 'BEREZOVO GSN 23631',\n",
       " 'RSM00023678': 'VERHNEIMBATSK GSN 23678',\n",
       " 'RSM00023711': 'TROICKO-PECHERSKOE GSN 23711',\n",
       " 'RSM00023724': 'NJAKSIMVOL GSN 23724',\n",
       " 'RSM00023884': 'BOR GSN 23884',\n",
       " 'RSM00023891': 'BAJKIT GSN 23891',\n",
       " 'RSM00023914': \"CHERDYN' GSN 23914\",\n",
       " 'RSM00023933': 'HANTY-MANSIJSK GSN 23933',\n",
       " 'RSM00023955': 'ALEKSANDROVSKOE GSN 23955',\n",
       " 'RSM00024125': 'OLENEK GSN 24125',\n",
       " 'RSM00024143': 'DZARDZAN GSN 24143',\n",
       " 'RSM00024266': 'VERHOJANSK GSN 24266',\n",
       " 'RSM00024329': 'SELAGONCY GSN 24329',\n",
       " 'RSM00024343': 'ZHIGANSK GSN 24343',\n",
       " 'RSM00024382': 'UST-MOMA GSN 24382',\n",
       " 'RSM00024507': 'TURA GSN 24507',\n",
       " 'RSM00024641': 'VILJUJSK GSN 24641',\n",
       " 'RSM00024671': 'TOMPO GSN 24671',\n",
       " 'RSM00024688': 'OJMJAKON GSN 24688',\n",
       " 'RSM00024738': 'SUNTAR GSN 24738',\n",
       " 'RSM00024817': 'ERBOGACEN GSN 24817',\n",
       " 'RSM00024908': 'VANAVARA GSN 24908',\n",
       " 'RSM00024959': 'JAKUTSK GSN 24959',\n",
       " 'RSM00024966': 'UST-MAJA GSN 24966',\n",
       " 'RSM00025173': 'MYS SHMIDTA GSN 25173',\n",
       " 'RSM00025248': 'ILIRNEJ GSN 25248',\n",
       " 'RSM00025325': 'UST-OLOJ GSN 25325',\n",
       " 'RSM00025356': 'ENMUVEEM GSN 25356',\n",
       " 'RSM00025399': 'MYS UELEN GSN 25399',\n",
       " 'RSM00025400': 'ZYRJANKA GSN 25400',\n",
       " 'RSM00025538': 'VERHNEE PENZINO GSN 25538',\n",
       " 'RSM00025551': 'MARKOVO GSN 25551',\n",
       " 'RSM00025563': 'ANADYR GSN 25563',\n",
       " 'RSM00025594': 'BUHTA PROVIDENJA GSN 25594',\n",
       " 'RSM00025705': 'SREDNEKAN GSN 25705',\n",
       " 'RSM00025745': 'KAMENSKOE GSN 25745',\n",
       " 'RSM00025927': 'BROHOVO GSN 25927',\n",
       " 'RSM00026063': 'ST. PETERSBURG GSN 26063',\n",
       " 'RSM00026359': 'PUSKINSKIE_GORY GSN 26359',\n",
       " 'RSM00026781': 'SMOLENSK GSN 26781',\n",
       " 'RSM00026997': 'TRUBCEVSK GSN 26997',\n",
       " 'RSM00027037': 'VOLOGDA GSN 27037',\n",
       " 'RSM00027051': 'TOT-MA GSN 27051',\n",
       " 'RSM00027595': 'KAZAN GSN 27595',\n",
       " 'RSM00027612': 'MOSCOW GSN 27612',\n",
       " 'RSM00027648': 'ELATMA GSN 27648',\n",
       " 'RSM00027995': 'BEZENCHUK GSN 27995',\n",
       " 'RSM00028009': 'KIRS GSN 28009',\n",
       " 'RSM00028064': 'LEUSI GSN 28064',\n",
       " 'RSM00028138': 'BISER GSN 28138',\n",
       " 'RSM00028224': 'PERM GSN 28224',\n",
       " 'RSM00028275': 'TOBOLSK GSN 28275',\n",
       " 'RSM00028418': 'SARAPUL GSN 28418',\n",
       " 'RSM00028493': 'TARA GSN 28493',\n",
       " 'RSM00028552': 'SHADRINSK GSN 28552',\n",
       " 'RSM00028698': 'OMSK GSN 28698',\n",
       " 'RSM00028722': 'UFA GSN 28722',\n",
       " 'RSM00029231': 'KOLPASEVO GSN 29231',\n",
       " 'RSM00029263': 'ENISEJSK GSN 29263',\n",
       " 'RSM00029282': 'BOGUCANY GSN 29282',\n",
       " 'RSM00029570': 'KRASNOJARSK GSN 29570',\n",
       " 'RSM00029612': 'BARABINSK GSN 29612',\n",
       " 'RSM00029789': 'VERHNJAJA GUTARA GSN 29789',\n",
       " 'RSM00029866': 'MINUSINSK GSN 29866',\n",
       " 'RSM00029939': 'BIJSK ZONALNAJA GSN 29939',\n",
       " 'RSM00030054': 'VITIM GSN 30054',\n",
       " 'RSM00030230': 'KIRENSK GSN 30230',\n",
       " 'RSM00030309': 'BRATSK GSN 30309',\n",
       " 'RSM00030372': 'CHARA GSN 30372',\n",
       " 'RSM00030433': 'NIZHNEANGARSK GSN 30433',\n",
       " 'RSM00030554': 'BAGDARIN GSN 30554',\n",
       " 'RSM00030636': 'BARGUZIN GSN 30636',\n",
       " 'RSM00030673': 'MOGOCA GSN 30673',\n",
       " 'RSM00030710': 'IRKUTSK GSN 30710',\n",
       " 'RSM00030758': 'CHITA GSN 30758',\n",
       " 'RSM00030879': 'NERCHINSKIJ ZAVOD GSN 30879',\n",
       " 'RSM00030925': 'KJAHTA GSN 30925',\n",
       " 'RSM00030949': 'KYRA GSN 30949',\n",
       " 'RSM00030965': 'BORZJA GSN 30965',\n",
       " 'RSM00031004': 'ALDAN GSN 31004',\n",
       " 'RSM00031088': 'OHOTSK GSN 31088',\n",
       " 'RSM00031168': 'AJAN GSN 31168',\n",
       " 'RSM00031253': 'BOMNAK GSN 31253',\n",
       " 'RSM00031329': 'EKIMCHAN GSN 31329',\n",
       " 'RSM00031369': 'NIKOLAEVSK-NA-AMURE GSN 31369',\n",
       " 'RSM00031416': 'IM. POLINY OSIPENKO GSN 31416',\n",
       " 'RSM00031707': 'EKATERINO-NIKOLSKOE GSN 31707',\n",
       " 'RSM00031873': 'DALNERECHENSK GSN 31873',\n",
       " 'RSM00031960': 'VLADIVOSTOK GSN 31960',\n",
       " 'RSM00032061': 'ALEKSANDROVSK-SAHALINSKIJ GSN 32061',\n",
       " 'RSM00032098': 'PORONAJSK GSN 32098',\n",
       " 'RSM00032150': 'JUZHNO-SAHALINSK GSN 32150',\n",
       " 'RSM00032252': 'UST-VOJAMPOLKA GSN 32252',\n",
       " 'RSM00032389': 'KLJUCHI GSN 32389',\n",
       " 'RSM00032618': 'NIKOLSKOYE/BERINGA OSTROV GSN 32618',\n",
       " 'RSM00034123': 'VORONEZ GSN 34123',\n",
       " 'RSM00034163': 'OKTJABRSKIJ-GORODOK GSN 34163',\n",
       " 'RSM00034186': 'ERSOV GSN 34186',\n",
       " 'RSM00034866': 'JASKUL GSN 34866',\n",
       " 'RSM00034880': 'ASTRAKAN GSN 34880',\n",
       " 'RSM00034927': 'KRASNODAR GSN 34927',\n",
       " 'RSM00035011': 'SOROCINSK GSN 35011',\n",
       " 'RSM00036259': 'KOSCH-AGACH GSN 36259',\n",
       " 'RSM00037470': 'DERBENT GSN 37470',\n",
       " 'SA000040361': 'AL-JOUF GSN 40361',\n",
       " 'SA000040430': 'AL-MADINAH GSN 40430',\n",
       " 'SA000040438': 'RIYADH OBS. (O.A.P. GSN 40438',\n",
       " 'SA000041024': 'JEDDAH (KING ABDUL GSN 41024',\n",
       " 'SA000403940': 'HAIL GSN 40394',\n",
       " 'SAM00041140': 'KING ABDULLAH BIN ABDULAZIZ GSN 41140',\n",
       " 'SE000063980': 'SEYCHELLES INTERNAT GSN 63980',\n",
       " 'SF000068438': 'KIMBERLEY GSN 68438',\n",
       " 'SF000068858': 'EAST LONDON GSN 68858',\n",
       " 'SF000068994': 'MARION ISLAND GSN 68994',\n",
       " 'SF000288380': 'GEORGE AIRPORT GSN 68828',\n",
       " 'SF001344780': 'CALVINIA GSN 68618',\n",
       " 'SF002146700': 'SPRINGBOK GSN 68512',\n",
       " 'SF002613650': 'BLOEMFONTEIN AIRPOR GSN 68442',\n",
       " 'SF002955390': 'MEQUATLINGSNEK',\n",
       " 'SF003174470': 'UPINGTON AGR. GSN 68424',\n",
       " 'SF004066580': 'LAINGSNEK',\n",
       " 'SFM00068174': 'POLOKWANE GSN 68174',\n",
       " 'SFM00068242': 'MAFIKENG GSN 68242',\n",
       " 'SFM00068262': 'PRETORIA(MET) GSN 68262',\n",
       " 'SFM00068461': 'BETHLEHEM GSN 68461',\n",
       " 'SFM00068538': 'DEAAR(UA) GSN 68538',\n",
       " 'SFM00068592': 'KING SHAKA INTL AIRPORT GSN 68592',\n",
       " 'SFM00068816': 'CAPE TOWN INTL GSN 68816',\n",
       " 'SFM00068842': 'PORT ELIZABETH INTL GSN 68842',\n",
       " 'SG000061612': 'PODOR GSN 61612',\n",
       " 'SG000061641': 'DAKAR/YOFF GSN 61641',\n",
       " 'SG000061687': 'TAMBACOUNDA GSN 61687',\n",
       " 'SHM00061901': 'ST. HELENA IS. GSN 61901',\n",
       " 'SHM00061902': 'WIDE AWAKE FIELD (A GSN 61902',\n",
       " 'SHM00068906': 'GOUGH ISLAND GSN 68906',\n",
       " 'SL000061856': 'LUNGI GSN 61856',\n",
       " 'SP000008027': 'SAN SEBASTIAN - IGUELDO GSN 08027',\n",
       " 'SP000008181': 'BARCELONA/AEROPUERTO GSN 08181',\n",
       " 'SP000008202': 'SALAMANCA AEROPUERTO GSN 08202',\n",
       " 'SP000008215': 'NAVACERRADA GSN 08215',\n",
       " 'SP000008280': 'ALBACETE LOS LLANOS GSN 08280',\n",
       " 'SP000008410': 'CORDOBA AEROPUERTO GSN 08410',\n",
       " 'SP000060010': 'IZANA GSN 60010',\n",
       " 'SP000060040': 'LANZAROTE/AEROPUERTO GSN 60040',\n",
       " 'SP000060338': 'MELILLA GSN 60338',\n",
       " 'SU000062600': 'WADI HALFA GSN 62600',\n",
       " 'SU000062640': 'ABU HAMED GSN 62640',\n",
       " 'SU000062641': 'PORT SUDAN GSN 62641',\n",
       " 'SU000062650': 'DONGOLA GSN 62650',\n",
       " 'SU000062730': 'KASSALA GSN 62730',\n",
       " 'SU000062760': 'EL FASHER GSN 62760',\n",
       " 'SU000062762': 'SENNAR GSN 62762',\n",
       " 'SU000062770': 'GENINA GSN 62770',\n",
       " 'SU000062781': 'EN NAHUD GSN 62781',\n",
       " 'SU000062840': 'MALKAL GSN 62840',\n",
       " 'SU000062880': 'WAU GSN 62880',\n",
       " 'SU000062941': 'JUBA GSN 62941',\n",
       " 'SV000001008': 'SVALBARD AIRPORT GSN 01008',\n",
       " 'SWE00100026': 'OESTERSUND-FROESOEN GSN 02226',\n",
       " 'SWE00138026': 'RYNINGSNAS',\n",
       " 'SWE00140178': 'HOLMON A GSN 02287',\n",
       " 'SWE00140622': 'HAPARANDA_A GSN 02197',\n",
       " 'SWM00002589': 'GOTSKA SANDON A GSN 02589',\n",
       " 'SXM00088903': 'GRYTVIKEN GSN 88903',\n",
       " 'SY000040001': 'KAMISHLI GSN 40001',\n",
       " 'SY000040022': 'LATTAKIA GSN 40022',\n",
       " 'SY000040061': 'PALMYRA GSN 40061',\n",
       " 'SZ000002220': 'SAENTIS GSN 06680',\n",
       " 'SZ000006717': 'COL DU GRAND ST-BERNARD GSN 06717',\n",
       " 'TH000048303': 'CHIANG RAI GSN 48303',\n",
       " 'TH000048400': 'NAKHON SAWAN GSN 48400',\n",
       " 'TH000048462': 'ARANYAPRATHET GSN 48462',\n",
       " 'TH000048500': 'PRACHUAP KHIRI KHAN GSN 48500',\n",
       " 'TH000048517': 'CHUMPHON GSN 48517',\n",
       " 'TH000048568': 'SONGKHLA GSN 48568',\n",
       " 'TI000038933': 'KURGAN-TYUBE GSN 38933',\n",
       " 'TI000038954': 'KHOROG GSN 38954',\n",
       " 'TOM00065352': 'MANGO/SANSANNE GSN 65352',\n",
       " 'TS000060725': 'JENDOUBA GSN 60725',\n",
       " 'TS000060765': 'GABES GSN 60765',\n",
       " 'TU000017040': 'RIZE GSN 17040',\n",
       " 'TU000017062': 'ISTANBUL GSN 17062',\n",
       " 'TU000017074': 'KASTAMONU GSN 17074',\n",
       " 'TU000017090': 'SIVAS GSN 17090',\n",
       " 'TU000017170': 'VAN GSN 17170',\n",
       " 'TU000017240': 'ISPARTA GSN 17240',\n",
       " 'TU000017375': 'FINIKE GSN 17375',\n",
       " 'TV000091631': 'NANUMEA GSN 91631',\n",
       " 'TV000091643': 'FUNAFUTI INTL ARPT GSN 91643',\n",
       " 'TX000038507': 'TURKMEN-BASHI GSN 38507',\n",
       " 'TX000038750': 'ESENGYLY GSN 38750',\n",
       " 'TX000038763': 'GYZYLARBAT GSN 38763',\n",
       " 'TX000038895': 'BAJRAMALY GSN 38895',\n",
       " 'TX000038915': 'CARSANGA GSN 38915',\n",
       " 'TZ000063832': 'TABORA AIRPORT GSN 63832',\n",
       " 'TZ000063862': 'DODOMA GSN 63862',\n",
       " 'TZ000063894': 'DAR ES SALAAM AIRPO GSN 63894',\n",
       " 'TZ000063962': 'SONGEA GSN 63962',\n",
       " 'UK000003005': 'LERWICK GSN 03005',\n",
       " 'UK000003026': 'STORNOWAY AIRPORT GSN 03026',\n",
       " 'UK000003162': 'ESKDALEMUIR GSN 03162',\n",
       " 'UK000003302': 'VALLEY GSN 03302',\n",
       " 'UK000003377': 'WADDINGTON GSN 03377',\n",
       " 'UK000003808': 'CAMBORNE GSN 03808',\n",
       " 'UPM00033317': 'SHEPETIVKA GSN 33317',\n",
       " 'UPM00033377': 'LUBNY GSN 33377',\n",
       " 'UPM00033587': 'UMAN GSN 33587',\n",
       " 'UPM00033915': 'ASKANIIA NOVA GSN 33915',\n",
       " 'USP00CA0003': 'CA SACRAMENTO AP ASOS GSN 72483',\n",
       " 'USW00003870': 'SC GREER GSN HCN 72312',\n",
       " 'USW00003945': 'MO COLUMBIA RGNL AP GSN 72445',\n",
       " 'USW00012836': 'FL KEY WEST INTL AP GSN HCN 72201',\n",
       " 'USW00012842': 'FL TAMPA INTL AP GSN 72211',\n",
       " 'USW00012916': 'LA NEW ORLEANS INTL AP GSN 72231',\n",
       " 'USW00012921': 'TX SAN ANTONIO INTL AP GSN HCN 72253',\n",
       " 'USW00013722': 'NC RALEIGH DURHAM INTL AP GSN 72306',\n",
       " 'USW00013743': 'VA WASHINGTON REAGAN AP GSN 72405',\n",
       " 'USW00013865': 'MS MERIDIAN KEY FLD GSN 72234',\n",
       " 'USW00013880': 'SC CHARLESTON INTL AP GSN 72208',\n",
       " 'USW00013882': 'TN CHATTANOOGA LOVELL AP GSN 72324',\n",
       " 'USW00013957': 'LA SHREVEPORT GSN 72248',\n",
       " 'USW00013962': 'TX ABILENE RGNL AP GSN 72266',\n",
       " 'USW00013964': 'AR FT SMITH RGNL AP GSN 72344',\n",
       " 'USW00013967': 'OK OKLAHOMA CITY WILL ROGERS AP GSN 72353',\n",
       " 'USW00013984': 'KS CONCORDIA MUNI AP GSN 72458',\n",
       " 'USW00013985': 'KS DODGE CITY GSN 72451',\n",
       " 'USW00014607': 'ME CARIBOU MUNI AP GSN 72712',\n",
       " 'USW00014742': 'VT BURLINGTON INTL AP GSN HCN 72617',\n",
       " 'USW00014753': 'MA BLUE HILL GSN 74492',\n",
       " 'USW00014755': 'NH MT WASHINGTON GSN 72613',\n",
       " 'USW00014771': 'NY SYRACUSE HANCOCK INTL AP GSN HCN 72519',\n",
       " 'USW00014838': 'MI MARQUETTE GSN 72743',\n",
       " 'USW00014842': 'IL PEORIA GTR PEORIA AP GSN 72532',\n",
       " 'USW00014922': 'MN MINNEAPOLIS/ST PAUL AP GSN HCN 72658',\n",
       " 'USW00014933': 'IA DES MOINES INTL AP GSN 72546',\n",
       " 'USW00014936': 'SD HURON RGNL AP GSN 72654',\n",
       " 'USW00014941': 'NE NORFOLK KARL STEFAN AP GSN 72556',\n",
       " 'USW00021504': 'HI HILO INTL AP GSN 91285',\n",
       " 'USW00022536': 'HI LIHUE WSO AP 1020.1 GSN 91165',\n",
       " 'USW00023044': 'TX EL PASO INTL AP GSN HCN 72270',\n",
       " 'USW00023050': 'NM ALBUQUERQUE INTL AP GSN 72365',\n",
       " 'USW00023051': 'NM CLAYTON MUNI AIR PK GSN HCN 72360',\n",
       " 'USW00023066': 'CO GRAND JUNCTION WALKER FLD GSN 72476',\n",
       " 'USW00023154': 'NV ELY YELLAND FLD AP GSN 72486',\n",
       " 'USW00023169': 'NV LAS VEGAS MCCARRAN AP GSN 72386',\n",
       " 'USW00023183': 'AZ PHOENIX SKY HARBOR INTL AP GSN 72278',\n",
       " 'USW00023188': 'CA SAN DIEGO LINDBERGH FLD GSN 72290',\n",
       " 'USW00024011': 'ND BISMARCK GSN 72764',\n",
       " 'USW00024021': 'WY LANDER HUNT FLD AP GSN 72576',\n",
       " 'USW00024023': 'NE NORTH PLATTE RGNL AP GSN 72562',\n",
       " 'USW00024029': 'WY SHERIDAN CO AP GSN 72666',\n",
       " 'USW00024128': 'NV WINNEMUCCA MUNI AP GSN HCN 72583',\n",
       " 'USW00024131': 'ID BOISE AIR TERMINAL GSN 72681',\n",
       " 'USW00024144': 'MT HELENA RGNL AP GSN HCN 72772',\n",
       " 'USW00024155': 'OR PENDLETON GSN 72688',\n",
       " 'USW00024156': 'ID POCATELLO RGNL AP GSN 72578',\n",
       " 'USW00024213': 'CA EUREKA WFO WOODLEY ISLAND GSN HCN 72594',\n",
       " 'USW00024227': 'WA OLYMPIA AP GSN 72792',\n",
       " 'USW00025308': 'AK ANNETTE ISLAND AP GSN 70398',\n",
       " 'USW00025339': 'AK YAKUTAT STATE AP GSN 70361',\n",
       " 'USW00025503': 'AK KING SALMON GSN 70326',\n",
       " 'USW00025507': 'AK HOMER AP GSN 70341',\n",
       " 'USW00025624': 'AK COLD BAY AP GSN 70316',\n",
       " 'USW00025713': 'AK ST PAUL ISLAND AP GSN 70308',\n",
       " 'USW00026411': 'AK FAIRBANKS INTL AP GSN 70261',\n",
       " 'USW00026510': 'AK MCGRATH AP GSN 70231',\n",
       " 'USW00026528': 'AK TALKEETNA AP GSN 70251',\n",
       " 'USW00026615': 'AK BETHEL AP GSN 70219',\n",
       " 'USW00026616': 'AK KOTZEBUE RALPH WEIN AP GSN 70133',\n",
       " 'USW00026617': 'AK NOME MUNI AP GSN 70200',\n",
       " 'USW00027401': 'AK BARTER ISLAND WSO AP GSN 70086',\n",
       " 'USW00027502': 'AK BARROW POST ROGERS AP GSN 70026',\n",
       " 'USW00093193': 'CA FRESNO YOSEMITE INTL AP GSN HCN 72389',\n",
       " 'USW00093729': 'NC CAPE HATTERAS AP GSN HCN 72304',\n",
       " 'USW00093817': 'IN EVANSVILLE REGIONAL AP GSN 72432',\n",
       " 'USW00093820': 'KY LEXINGTON BLUEGRASS AP GSN 72422',\n",
       " 'USW00094008': 'MT GLASGOW INTL AP GSN HCN 72768',\n",
       " 'USW00094823': 'PA PITTSBURGH INTL AP GSN 72520',\n",
       " 'UV000065501': 'DORI GSN 65501',\n",
       " 'UV000065516': 'BOROMO GSN 65516',\n",
       " 'UY000001709': 'MELO GSN 86440',\n",
       " 'UY000086330': 'EST.MET.ARTIGAS GSN 86330',\n",
       " 'UY000086490': 'MERCEDES GSN 86490',\n",
       " 'UY000086565': 'ROCHA GSN 86565',\n",
       " 'UZM00038262': 'CIMBAJ GSN 38262',\n",
       " 'UZM00038413': 'TAMDY GSN 38413',\n",
       " 'UZM00038457': 'TASHKENT GSN 38457',\n",
       " 'VE000080405': 'LA ORCHILA GSN 80405',\n",
       " 'VE000080423': 'GUIRIA GSN 80423',\n",
       " 'VE000080425': 'MENE GRANDE GSN 80425',\n",
       " 'VE000080438': 'MERIDA GSN 80438',\n",
       " 'VE000080450': 'SAN FERNANDO GSN 80450',\n",
       " 'VE000080453': 'TUMEREMO GSN 80453',\n",
       " 'VE000080462': 'SANTA ELENA DE UAIR GSN 80462',\n",
       " 'VM000048900': 'TAN SON HOA GSN 48900',\n",
       " 'VMM00048855': 'DANANG INTL GSN 48855',\n",
       " 'WA004191820': 'J.G.H. VAN DER WATH AIRP GSN 68312',\n",
       " 'WA006490640': 'GOBABEB GSN 68106',\n",
       " 'WA007401540': 'WINDHOEK GSN 68110',\n",
       " 'WA010101860': 'GROOTFONTEIN GSN 68014',\n",
       " 'WF000917530': 'HIHIFO (ILE WALLIS) GSN 91753',\n",
       " 'ZA000067441': 'MWINILUNGA GSN 67441',\n",
       " 'ZA000067475': 'KASAMA GSN 67475',\n",
       " 'ZA000067581': 'CHIPATA GSN 67581',\n",
       " 'ZA000067633': 'MONGU GSN 67633',\n",
       " 'ZA000067743': 'LIVINGSTONE GSN 67743',\n",
       " 'ZI000067775': 'HARARE (KUTSAGA) GSN 67775',\n",
       " 'ZI000067964': 'BULAWAYO (GOETZ OBS GSN 67964',\n",
       " 'ZI000067983': 'CHIPINGE GSN 67983'}"
      ]
     },
     "execution_count": 98,
     "metadata": {},
     "output_type": "execute_result"
    }
   ],
   "source": [
    "get_stations()"
   ]
  },
  {
   "cell_type": "markdown",
   "metadata": {},
   "source": [
    "### Function to find station knowing the name"
   ]
  },
  {
   "cell_type": "code",
   "execution_count": 43,
   "metadata": {},
   "outputs": [],
   "source": [
    "def findstation(s):\n",
    "    found = {code: name for code,name in stations.items() if s in name}\n",
    "    print(found)"
   ]
  },
  {
   "cell_type": "code",
   "execution_count": 367,
   "metadata": {},
   "outputs": [
    {
     "name": "stdout",
     "output_type": "stream",
     "text": [
      "{'NO000001026': 'TROMSO GSN 01026'}\n"
     ]
    }
   ],
   "source": [
    "findstation('TROMSO')"
   ]
  },
  {
   "cell_type": "markdown",
   "metadata": {},
   "source": [
    "### Function to find stations knowing the country code"
   ]
  },
  {
   "cell_type": "markdown",
   "metadata": {},
   "source": [
    "Opening the ghcnd-countries.txt to find the norwegian code"
   ]
  },
  {
   "cell_type": "code",
   "execution_count": 322,
   "metadata": {},
   "outputs": [
    {
     "data": {
      "text/plain": [
       "['AC Antigua and Barbuda \\n',\n",
       " 'AE United Arab Emirates \\n',\n",
       " 'AF Afghanistan\\n',\n",
       " 'AG Algeria \\n',\n",
       " 'AJ Azerbaijan \\n',\n",
       " 'AL Albania\\n',\n",
       " 'AM Armenia \\n',\n",
       " 'AO Angola \\n',\n",
       " 'AQ American Samoa [United States] \\n',\n",
       " 'AR Argentina \\n']"
      ]
     },
     "execution_count": 322,
     "metadata": {},
     "output_type": "execute_result"
    }
   ],
   "source": [
    "open('ghcnd-countries.txt','r').readlines()[:10]"
   ]
  },
  {
   "cell_type": "code",
   "execution_count": 83,
   "metadata": {},
   "outputs": [],
   "source": [
    "def findstation_country(s):\n",
    "    found_country = {code: name for code,name in stations.items() if code.startswith(s)}\n",
    "    print(found_country)"
   ]
  },
  {
   "cell_type": "code",
   "execution_count": 321,
   "metadata": {},
   "outputs": [
    {
     "name": "stdout",
     "output_type": "stream",
     "text": [
      "{'NO000001026': 'TROMSO GSN 01026', 'NO000001212': 'ONA HUSOY GSN 01212', 'NO000001465': 'TORUNGEN FYR GSN 01465', 'NO000011520': 'BODO VI GSN 01152', 'NO000014030': 'UTSIRA FYR GSN 01403', 'NO000098550': 'VARDO GSN 01098', 'NO000099710': 'BJOERNOEYA GSN 01028', 'NOM00001238': 'FOKSTUA GSN 01238'}\n"
     ]
    }
   ],
   "source": [
    "findstation_country('NO')"
   ]
  },
  {
   "cell_type": "markdown",
   "metadata": {},
   "source": [
    "Making a list of all stations in Norway"
   ]
  },
  {
   "cell_type": "code",
   "execution_count": 259,
   "metadata": {},
   "outputs": [],
   "source": [
    "datastations = ['NO000001026','NO000001212','NO000001465','NO000011520', 'NO000014030', 'NO000098550', 'NO000099710', 'NOM00001238']"
   ]
  },
  {
   "cell_type": "markdown",
   "metadata": {},
   "source": [
    "Opening the first 10 lines of the dly file"
   ]
  },
  {
   "cell_type": "code",
   "execution_count": 106,
   "metadata": {
    "scrolled": true
   },
   "outputs": [
    {
     "data": {
      "text/plain": [
       "['NO000001026192007TMIN  104  E   82  E   90  E   72  E   57  E   81  E  140  E  130  E  141  E   87  E   91  E   77  E   84  E  106  E  101  E   99  E  113  E  105  E   93  E   69  E   61  E   62  E   80  E   82  E   93  E   85  E   81  E   72  E   66  E   73  E  111  E\\n',\n",
       " 'NO000001026192007PRCP   48  E    0  E   72  E    0  E    0  E    0  E    0  E    0  E    0  E    0  E    0  E    0  E    0  E    0  E   32  E  182  E   12  E   22  E   80  E   73  E   19  E   47  E    5  E   93  E    0  E   36  E   68  E    0  E    0  E    0  E   35  E\\n',\n",
       " 'NO000001026192007SNWD    0  E    0  E    0  E    0  E    0  E    0  E    0  E    0  E    0  E    0  E    0  E    0  E    0  E    0  E    0  E    0  E    0  E    0  E    0  E    0  E    0  E    0  E    0  E    0  E    0  E    0  E    0  E    0  E    0  E    0  E    0  E\\n',\n",
       " 'NO000001026192008TMIN  100  E  107  E  107  E  103  E  114  E   86  E  114  E  117  E  102  E   92  E   86  E   89  E   78  E   82  E   69  E   63  E   69  E   76  E   63  E   48  E   53  E   54  E   82  E   97  E  103  E   92  E   73  E   77  E   47  E   52  E   57  E\\n',\n",
       " 'NO000001026192008PRCP    0  E   15  E   21  E    0  E   42  E    0  E    1  E    0  E   10  E    0  E    0  E   33  E   61  E   17  E    2  E    0  E   13  E  109  E   15  E    0  E    0  E    0  E    0  E    0  E    0  E   60  E   22  E   66  E   35  E    0  E    0  E\\n',\n",
       " 'NO000001026192008SNWD    0  E    0  E    0  E    0  E    0  E    0  E    0  E    0  E    0  E    0  E    0  E    0  E    0  E    0  E    0  E    0  E    0  E    0  E    0  E    0  E    0  E    0  E    0  E    0  E    0  E    0  E    0  E    0  E    0  E    0  E    0  E\\n',\n",
       " 'NO000001026192009TMIN   35  E   57  E   71  E   53  E   76  E   90  E   79  E   94  E   78  E   72  E   83  E   76  E   62  E   52  E   53  E   63  E   61  E   53  E   68  E   81  E   42  E   23  E   58  E   66  E   66  E   96  E   56  E   71  E   51  E   21  E-9999   \\n',\n",
       " 'NO000001026192009PRCP    0  E    0  E    0  E   23  E    0  E    5  E    0  E   70  E   42  E    0  E    2  E    5  E    0  E    0  E    5  E    0  E    2  E   63  E   12  E  149  E   67  E    5  E   31  E   52  E   29  E  171  E   75  E  116  E  128  E    0  E-9999   \\n',\n",
       " 'NO000001026192009SNWD    0  E    0  E    0  E    0  E    0  E    0  E    0  E    0  E    0  E    0  E    0  E    0  E    0  E    0  E    0  E    0  E    0  E    0  E    0  E    0  E    0  E    0  E    0  E    0  E    0  E    0  E    0  E    0  E    0  E    0  E-9999   \\n',\n",
       " 'NO000001026192010TMIN   10  E   11  E   16  E    5  E   19  E   41  E   43  E   50  E   66  E   61  E   46  E   61  E    0  E  -17  E  -29  E  -44  E  -54  E  -29  E   -9  E    6  E   17  E   16  E   21  E   17  E   -7  E    3  E   36  E   41  E   59  E   59  E   37  E\\n']"
      ]
     },
     "execution_count": 106,
     "metadata": {},
     "output_type": "execute_result"
    }
   ],
   "source": [
    "open('NO000001026.dly','r').readlines()[:10]"
   ]
  },
  {
   "cell_type": "markdown",
   "metadata": {},
   "source": [
    "Opening the readme to read the format of the .dly data file"
   ]
  },
  {
   "cell_type": "code",
   "execution_count": 107,
   "metadata": {},
   "outputs": [
    {
     "data": {
      "text/plain": [
       "['\\n',\n",
       " 'III. FORMAT OF DATA FILES (\".dly\" FILES)\\n',\n",
       " '\\n',\n",
       " 'Each \".dly\" file contains data for one station.  The name of the file\\n',\n",
       " 'corresponds to a station\\'s identification code.  For example, \"USC00026481.dly\"\\n',\n",
       " 'contains the data for the station with the identification code USC00026481).\\n',\n",
       " '\\n',\n",
       " 'Each record in a file contains one month of daily data.  The variables on each\\n',\n",
       " 'line include the following:\\n',\n",
       " '\\n',\n",
       " '------------------------------\\n',\n",
       " 'Variable   Columns   Type\\n',\n",
       " '------------------------------\\n',\n",
       " 'ID            1-11   Character\\n',\n",
       " 'YEAR         12-15   Integer\\n',\n",
       " 'MONTH        16-17   Integer\\n',\n",
       " 'ELEMENT      18-21   Character\\n',\n",
       " 'VALUE1       22-26   Integer\\n',\n",
       " 'MFLAG1       27-27   Character\\n',\n",
       " 'QFLAG1       28-28   Character\\n',\n",
       " 'SFLAG1       29-29   Character\\n',\n",
       " 'VALUE2       30-34   Integer\\n',\n",
       " 'MFLAG2       35-35   Character\\n']"
      ]
     },
     "execution_count": 107,
     "metadata": {},
     "output_type": "execute_result"
    }
   ],
   "source": [
    "open('readme.txt','r').readlines()[98:121]"
   ]
  },
  {
   "cell_type": "markdown",
   "metadata": {},
   "source": [
    "### Function to parse the dly file"
   ]
  },
  {
   "cell_type": "code",
   "execution_count": 326,
   "metadata": {},
   "outputs": [],
   "source": [
    "def parse_dly(filename):\n",
    "    return np.genfromtxt(filename,\n",
    "                         delimiter = dly_delimiter,\n",
    "                         usecols = dly_usecols,\n",
    "                         dtype = dly_dtype,\n",
    "                         names = dly_names)"
   ]
  },
  {
   "cell_type": "code",
   "execution_count": 327,
   "metadata": {},
   "outputs": [],
   "source": [
    "dly_delimiter=[11,4,2,4]+[5,1,1,1]*31 #ID, year,month,element + value and flags\n",
    "dly_usecols=[1,2,3]+[4*i for i in range(1,32)] #columns for year, month, element and value\n",
    "dly_dtype=[np.int32,np.int32,(np.str_,4)]+[np.int32]*31 #data types for year, month, element, value\n",
    "dly_names=['year','month','obs']+[str(day) for day in range(1,31+1)]"
   ]
  },
  {
   "cell_type": "code",
   "execution_count": 329,
   "metadata": {},
   "outputs": [],
   "source": [
    "tromso = parse_dly('NO000001026.dly')"
   ]
  },
  {
   "cell_type": "code",
   "execution_count": 330,
   "metadata": {},
   "outputs": [
    {
     "data": {
      "text/plain": [
       "array([(1920, 7, 'TMIN',   104, 82,    90,  72,    57,  81,   140, 130, 141,    87,    91,    77,    84,   106,   101,    99,   113,   105,    93,    69,    61,    62,    80,    82,    93,    85,    81,    72,    66,    73,   111),\n",
       "       (1920, 7, 'PRCP',    48,  0,    72,   0,     0,   0,     0,   0,   0,     0,     0,     0,     0,     0,    32,   182,    12,    22,    80,    73,    19,    47,     5,    93,     0,    36,    68,     0,     0,     0,    35),\n",
       "       (1920, 7, 'SNWD',     0,  0,     0,   0,     0,   0,     0,   0,   0,     0,     0,     0,     0,     0,     0,     0,     0,     0,     0,     0,     0,     0,     0,     0,     0,     0,     0,     0,     0,     0,     0),\n",
       "       ...,\n",
       "       (2022, 3, 'PRCP',    13, 84,   132,  53,    38,  18,     0,  56,   0, -9999,    51, -9999, -9999, -9999, -9999, -9999, -9999, -9999, -9999, -9999, -9999, -9999, -9999, -9999, -9999, -9999, -9999, -9999, -9999, -9999, -9999),\n",
       "       (2022, 3, 'SNWD', -9999, 10, -9999, 930, -9999, 930, -9999, 960, 940, -9999, -9999, -9999, -9999, -9999, -9999, -9999, -9999, -9999, -9999, -9999, -9999, -9999, -9999, -9999, -9999, -9999, -9999, -9999, -9999, -9999, -9999),\n",
       "       (2022, 3, 'TAVG',    32,  9,   -22, -18,     6,   6,    -1,  -1,  12,    34,    33, -9999, -9999, -9999, -9999, -9999, -9999, -9999, -9999, -9999, -9999, -9999, -9999, -9999, -9999, -9999, -9999, -9999, -9999, -9999, -9999)],\n",
       "      dtype=[('year', '<i4'), ('month', '<i4'), ('obs', '<U4'), ('1', '<i4'), ('2', '<i4'), ('3', '<i4'), ('4', '<i4'), ('5', '<i4'), ('6', '<i4'), ('7', '<i4'), ('8', '<i4'), ('9', '<i4'), ('10', '<i4'), ('11', '<i4'), ('12', '<i4'), ('13', '<i4'), ('14', '<i4'), ('15', '<i4'), ('16', '<i4'), ('17', '<i4'), ('18', '<i4'), ('19', '<i4'), ('20', '<i4'), ('21', '<i4'), ('22', '<i4'), ('23', '<i4'), ('24', '<i4'), ('25', '<i4'), ('26', '<i4'), ('27', '<i4'), ('28', '<i4'), ('29', '<i4'), ('30', '<i4'), ('31', '<i4')])"
      ]
     },
     "execution_count": 330,
     "metadata": {},
     "output_type": "execute_result"
    }
   ],
   "source": [
    "tromso"
   ]
  },
  {
   "cell_type": "code",
   "execution_count": 331,
   "metadata": {},
   "outputs": [],
   "source": [
    "def date_format(record):\n",
    "    startdate = np.datetime64('{}-{:02}'.format(record['year'],record['month']))\n",
    "    dates = np.arange(startdate,startdate + np.timedelta64(1,'M'),np.timedelta64(1,'D'))\n",
    "    \n",
    "    rows = [(date,record[str(i+1)]/10) for i,date in enumerate(dates)]\n",
    "    return np.array(rows,dtype=[('date','M8[D]'),('value','d')])\n",
    "   "
   ]
  },
  {
   "cell_type": "code",
   "execution_count": 332,
   "metadata": {},
   "outputs": [
    {
     "data": {
      "text/plain": [
       "array([('1920-07-01', 10.4), ('1920-07-02',  8.2), ('1920-07-03',  9. ),\n",
       "       ('1920-07-04',  7.2), ('1920-07-05',  5.7), ('1920-07-06',  8.1),\n",
       "       ('1920-07-07', 14. ), ('1920-07-08', 13. ), ('1920-07-09', 14.1),\n",
       "       ('1920-07-10',  8.7), ('1920-07-11',  9.1), ('1920-07-12',  7.7),\n",
       "       ('1920-07-13',  8.4), ('1920-07-14', 10.6), ('1920-07-15', 10.1),\n",
       "       ('1920-07-16',  9.9), ('1920-07-17', 11.3), ('1920-07-18', 10.5),\n",
       "       ('1920-07-19',  9.3), ('1920-07-20',  6.9), ('1920-07-21',  6.1),\n",
       "       ('1920-07-22',  6.2), ('1920-07-23',  8. ), ('1920-07-24',  8.2),\n",
       "       ('1920-07-25',  9.3), ('1920-07-26',  8.5), ('1920-07-27',  8.1),\n",
       "       ('1920-07-28',  7.2), ('1920-07-29',  6.6), ('1920-07-30',  7.3),\n",
       "       ('1920-07-31', 11.1)], dtype=[('date', '<M8[D]'), ('value', '<f8')])"
      ]
     },
     "execution_count": 332,
     "metadata": {},
     "output_type": "execute_result"
    }
   ],
   "source": [
    "date_format(tromso[0])"
   ]
  },
  {
   "cell_type": "code",
   "execution_count": 333,
   "metadata": {},
   "outputs": [],
   "source": [
    "def getobs(filename,obs):\n",
    "    data = np.concatenate([date_format(row) for row in parse_dly(filename) if row[2] == obs])\n",
    "    \n",
    "    data['value'][data['value'] == -999.9] = np.nan\n",
    "    \n",
    "    return data "
   ]
  },
  {
   "cell_type": "code",
   "execution_count": 334,
   "metadata": {},
   "outputs": [
    {
     "data": {
      "text/plain": [
       "array([('1920-07-01', 10.4), ('1920-07-02',  8.2), ('1920-07-03',  9. ),\n",
       "       ..., ('2022-03-29',  nan), ('2022-03-30',  nan),\n",
       "       ('2022-03-31',  nan)], dtype=[('date', '<M8[D]'), ('value', '<f8')])"
      ]
     },
     "execution_count": 334,
     "metadata": {},
     "output_type": "execute_result"
    }
   ],
   "source": [
    "getobs('NO000001026.dly','TMIN')"
   ]
  },
  {
   "cell_type": "code",
   "execution_count": 335,
   "metadata": {},
   "outputs": [],
   "source": [
    "tromso_tmax = getobs('NO000001026.dly','TMAX')\n",
    "tromso_tmin = getobs('NO000001026.dly','TMIN')"
   ]
  },
  {
   "cell_type": "code",
   "execution_count": 146,
   "metadata": {},
   "outputs": [
    {
     "data": {
      "text/plain": [
       "[<matplotlib.lines.Line2D at 0x7fd7f4037100>]"
      ]
     },
     "execution_count": 146,
     "metadata": {},
     "output_type": "execute_result"
    },
    {
     "data": {
      "image/png": "[encoded data removed]",
      "text/plain": [
       "<Figure size 432x288 with 1 Axes>"
      ]
     },
     "metadata": {
      "needs_background": "light"
     },
     "output_type": "display_data"
    }
   ],
   "source": [
    "pp.plot(tromso_tmax['date'],tromso_tmax['value'])\n",
    "pp.plot(tromso_tmin['date'],tromso_tmin['value'])"
   ]
  },
  {
   "cell_type": "code",
   "execution_count": 336,
   "metadata": {},
   "outputs": [
    {
     "data": {
      "text/plain": [
       "nan"
      ]
     },
     "execution_count": 336,
     "metadata": {},
     "output_type": "execute_result"
    }
   ],
   "source": [
    "tromso_tmin['value'].mean()"
   ]
  },
  {
   "cell_type": "code",
   "execution_count": 337,
   "metadata": {},
   "outputs": [
    {
     "data": {
      "text/plain": [
       "(nan, nan)"
      ]
     },
     "execution_count": 337,
     "metadata": {},
     "output_type": "execute_result"
    }
   ],
   "source": [
    "np.mean(tromso_tmin['value']), np.mean(tromso_tmax['value'])"
   ]
  },
  {
   "cell_type": "code",
   "execution_count": 163,
   "metadata": {},
   "outputs": [],
   "source": [
    "def fillnans(data):\n",
    "    dates_float = data['date'].astype(np.float64)   #converting to float\n",
    "    nan = np.isnan(data['value'])\n",
    "    data['value'][nan] = np.interp(dates_float[nan],dates_float[~nan],data['value'][~nan]) #interpolate missing data with neighbor values"
   ]
  },
  {
   "cell_type": "code",
   "execution_count": 338,
   "metadata": {},
   "outputs": [],
   "source": [
    "fillnans(tromso_tmax)\n",
    "fillnans(tromso_tmin)"
   ]
  },
  {
   "cell_type": "code",
   "execution_count": 339,
   "metadata": {},
   "outputs": [
    {
     "data": {
      "text/plain": [
       "(0.4580292756430955, 5.560723604837126)"
      ]
     },
     "execution_count": 339,
     "metadata": {},
     "output_type": "execute_result"
    }
   ],
   "source": [
    "np.mean(tromso_tmin['value']), np.mean(tromso_tmax['value'])"
   ]
  },
  {
   "cell_type": "code",
   "execution_count": 340,
   "metadata": {
    "scrolled": true
   },
   "outputs": [
    {
     "data": {
      "text/plain": [
       "[<matplotlib.lines.Line2D at 0x7fd7f1cb2f70>]"
      ]
     },
     "execution_count": 340,
     "metadata": {},
     "output_type": "execute_result"
    },
    {
     "data": {
      "image/png": "[encoded data removed]",
      "text/plain": [
       "<Figure size 432x288 with 1 Axes>"
      ]
     },
     "metadata": {
      "needs_background": "light"
     },
     "output_type": "display_data"
    }
   ],
   "source": [
    "pp.plot(tromso_tmin['date'],tromso_tmin['value'])"
   ]
  },
  {
   "cell_type": "code",
   "execution_count": 341,
   "metadata": {},
   "outputs": [],
   "source": [
    "def plot_smoothed(t,win=10): #average smooth function\n",
    "    smoothed = np.correlate(t['value'],np.ones(win)/win,'same')\n",
    "    \n",
    "    pp.plot(t['date'],smoothed)"
   ]
  },
  {
   "cell_type": "code",
   "execution_count": 362,
   "metadata": {},
   "outputs": [
    {
     "data": {
      "text/plain": [
       "Text(0.5, 0, 'Years')"
      ]
     },
     "execution_count": 362,
     "metadata": {},
     "output_type": "execute_result"
    },
    {
     "data": {
      "image/png": "[encoded data removed]",
      "text/plain": [
       "<Figure size 864x432 with 1 Axes>"
      ]
     },
     "metadata": {
      "needs_background": "light"
     },
     "output_type": "display_data"
    }
   ],
   "source": [
    "pp.figure(figsize=(12,6))\n",
    "pp.plot(tromso_tmin[27000:37000]['date'],tromso_tmin[27000:37000]['value'])\n",
    "\n",
    "plot_smoothed(tromso_tmin[27000:37000])\n",
    "plot_smoothed(tromso_tmin[27000:37000],30)\n",
    "pp.title('Average minimum temperature in Tromso from 1993-2020')\n",
    "pp.ylabel('Temperature (degrees C)')\n",
    "pp.xlabel('Years')"
   ]
  },
  {
   "cell_type": "code",
   "execution_count": 260,
   "metadata": {},
   "outputs": [
    {
     "data": {
      "image/png": "[encoded data removed]",
      "text/plain": [
       "<Figure size 720x432 with 8 Axes>"
      ]
     },
     "metadata": {
      "needs_background": "light"
     },
     "output_type": "display_data"
    }
   ],
   "source": [
    "pp.figure(figsize=(10,6))\n",
    "\n",
    "for i,code in enumerate(datastations):\n",
    "    pp.subplot(3,3,i+1)\n",
    "    \n",
    "    plot_smoothed(getobs('{}.dly'.format(code),'TMIN'),365)\n",
    "    plot_smoothed(getobs('{}.dly'.format(code),'TMAX'),365)\n",
    "    \n",
    "    pp.title(stations[code])\n",
    "    pp.axis(xmin=np.datetime64('1952'),xmax=np.datetime64('2020'),ymin=-10,ymax=30)\n",
    "\n",
    "pp.tight_layout()"
   ]
  },
  {
   "cell_type": "code",
   "execution_count": 363,
   "metadata": {},
   "outputs": [],
   "source": [
    "def selectyear(data,year):\n",
    "    start = np.datetime64('{}'.format(year))\n",
    "    end = start + np.timedelta64(1,'Y')\n",
    "    \n",
    "    return data[(data['date'] >= start) & (data['date'] < end)]['value']"
   ]
  },
  {
   "cell_type": "code",
   "execution_count": 364,
   "metadata": {},
   "outputs": [
    {
     "data": {
      "text/plain": [
       "array([ -8.6,  -0.3,  -2.8,  -2.6,  -8.5, -10.1,  -9.1,  -6.4,  -6.4,\n",
       "        -5.7,  -4.7,  -6.9,  -8.6,  -6.5,  -3.5,  -0.2,   0.6,  -1.2,\n",
       "        -2.1,  -4.6,  -6.4,  -7.5,  -9.1,  -8.4,  -4.2,  -4.8,  -3.4,\n",
       "        -6.2,  -7.4,  -8.2,  -7.2,  -3.7,  -7.2,  -7.2,  -9. , -16.4,\n",
       "       -18.3, -15.2,  -1.4,   2.6,   1.4,   0.1,  -3.4,  -4.3,  -4.7,\n",
       "        -6.2,  -4.8,  -3.7,  -2.3,  -3.2,  -4.2,  -3. ,  -4. ,  -6.7,\n",
       "        -7.3,  -7. ,  -5. ,  -3.5,  -2. ,  -1.5,   0.1,  -1.5,  -4.1,\n",
       "        -6.5,  -4.1,  -5.2,  -6.1,  -1.4,  -0.3,  -0.2,  -1. ,  -0.7,\n",
       "        -4. ,  -2.7,  -1.7,   0.4,  -4.1,  -3.9,  -2.1,  -4.9,  -6.8,\n",
       "        -5. ,   0.4,   0. ,  -1.9,  -0.5,   0.4,   0.9,  -2.5,  -6. ,\n",
       "        -4.8,  -6. ,  -8.7,  -8.8,  -4.6,  -5.8,  -6.2,  -5.4,  -3.7,\n",
       "        -6.2,  -6.8,  -3.1,  -0.5,  -1. ,  -2.8,  -6.2,  -4.5,  -1.6,\n",
       "        -5.3,  -4.8,  -6.1,  -4.1,   0. ,  -1.9,  -1.7,   1.1,   2.7,\n",
       "         4.3,   1.5,   0.1,  -0.8,  -2.9,   1.1,  -0.7,  -4.1,  -2.6,\n",
       "         0.3,   0. ,   1.4,   1.8,   3.1,   1. ,  -1.4,  -1.3,   1.8,\n",
       "         5.2,   3.9,   3.7,   5.1,   3. ,   2.6,   1.1,   1.8,   1.1,\n",
       "         3.8,   6.6,   5.8,   5.9,   0.2,   0.1,  -0.1,   0.6,   0.6,\n",
       "         4.6,   4.9,   7.7,   7.9,   6.7,   3.5,   2.2,   3. ,   4.9,\n",
       "         6.7,   5.8,   5.7,   3.9,   5.5,   4.6,   6.7,  12.4,   8.2,\n",
       "         6.9,   5.6,   5. ,   6.6,   6. ,   6.7,   6.3,   4.5,   2.3,\n",
       "         2.2,   5.9,  10.8,   9.5,   6.5,   5.3,   4.9,   8. ,   6.9,\n",
       "         6.8,   6. ,   3.2,   5. ,   8.7,  13.1,  11.5,  10.6,   9.7,\n",
       "         9.9,   9.5,   9.1,   7.5,   6.5,   6.5,   6.9,  10.6,   9.1,\n",
       "         7.8,   7.5,   6.1,   8.4,  10.6,  10.1,  10.1,  10.6,   8.6,\n",
       "         7.1,   6.7,   5.7,   3.4,   4.7,   6.7,   5.4,   9.6,   9.8,\n",
       "        10.5,   8. ,   7.8,   8.1,   7.8,   8.3,   6.3,   3.4,   6.7,\n",
       "         5.8,   1.4,   2.5,   8. ,   5.9,   5.2,   1.9,  12.7,   8.4,\n",
       "        11.2,   7.5,   8.7,   8.7,   8.5,   5.8,   5.7,   3.6,   1.1,\n",
       "         3.8,   0.9,   5.8,   5.9,   3.4,   5.9,   6.3,   4.4,   7.2,\n",
       "         7.3,   6.7,   2.1,   4.8,   3.3,   4.9,   4.5,   1.3,   4.3,\n",
       "         0.1,   1.2,   3.3,   2.3,   2.5,   1.8,   3.1,   2.8,   5.7,\n",
       "         5.3,   5.1,   4.7,   3. ,   3. ,   3. ,   2.7,   3.2,   1.4,\n",
       "        -1.5,  -2. ,  -1.8,  -1.8,   0.4,  -0.3,   0.1,   2.4,   0.2,\n",
       "        -1.7,  -4.7,  -3.2,  -0.7,  -1.9,  -5.6,  -7.9,  -2.8,  -5.7,\n",
       "        -5.8,   1.4,   0.7,   1.5,   2.6,  -1.3,  -1.8,  -4.6,  -4.3,\n",
       "        -1.5,  -1.8,  -2.5,  -3.8,   2.2,   2.5,   0.7,   0.2,   0.2,\n",
       "        -2.8,  -3.5,   4.8,   0.4,   1.2,  -0.9,  -3.5,  -2.7,  -2.7,\n",
       "        -3.9,  -4.5,  -9.1, -10.5,  -7.8,  -5.9,  -9. ,  -9.6,  -7.2,\n",
       "        -5.3,  -4.5,  -6.8,  -7.2,  -4.3,  -4.8,  -3.8,  -2.4,  -4.5,\n",
       "        -3.2,  -5.3,  -3.9,  -5.4,  -6.2,  -3.7,  -5.3,  -6.4,  -7.4,\n",
       "        -6.7,  -7.5,  -8.1,  -5.6,  -3. ,  -2.9])"
      ]
     },
     "execution_count": 364,
     "metadata": {},
     "output_type": "execute_result"
    }
   ],
   "source": [
    "selectyear(tromso_tmin,1951)"
   ]
  },
  {
   "cell_type": "code",
   "execution_count": 174,
   "metadata": {},
   "outputs": [],
   "source": [
    "tromso_tmin_all = np.vstack([selectyear(tromso_tmin,year)[:365] for year in range(1951,2014+1)])"
   ]
  },
  {
   "cell_type": "code",
   "execution_count": 175,
   "metadata": {},
   "outputs": [
    {
     "data": {
      "text/plain": [
       "array([[ -8.1,  -9.7, -10.3, ...,  -5.9,  -1. ,  -1.4],\n",
       "       [ -3.2,  -4.8,  -2.5, ...,  -1.4,  -2. ,  -3.2],\n",
       "       [ -7.4,  -6.4,  -5.9, ...,  -5.6,  -2.8,  -1.8],\n",
       "       ...,\n",
       "       [ -8.6,  -0.3,  -2.8, ...,  -8.1,  -5.6,  -3. ],\n",
       "       [ -4.8,  -6.2,  -5.6, ...,  -0.1,   0. ,  -2.5],\n",
       "       [ -3.8,  -3. ,  -1.4, ...,  -5. ,  -0.6,   1.9]])"
      ]
     },
     "execution_count": 175,
     "metadata": {},
     "output_type": "execute_result"
    }
   ],
   "source": [
    "tromso_tmin_all"
   ]
  },
  {
   "cell_type": "code",
   "execution_count": 176,
   "metadata": {
    "scrolled": true
   },
   "outputs": [
    {
     "data": {
      "text/plain": [
       "(64, 365)"
      ]
     },
     "execution_count": 176,
     "metadata": {},
     "output_type": "execute_result"
    }
   ],
   "source": [
    "tromso_tmin_all.shape"
   ]
  },
  {
   "cell_type": "code",
   "execution_count": 177,
   "metadata": {},
   "outputs": [],
   "source": [
    "tromso_tmin_recordmin = np.min(tromso_tmin_all,axis=0)\n",
    "tromso_tmin_recordmax = np.max(tromso_tmin_all,axis=0)"
   ]
  },
  {
   "cell_type": "code",
   "execution_count": 221,
   "metadata": {},
   "outputs": [
    {
     "data": {
      "text/plain": [
       "(365,)"
      ]
     },
     "execution_count": 221,
     "metadata": {},
     "output_type": "execute_result"
    }
   ],
   "source": [
    "tromso_tmin_recordmax.shape"
   ]
  },
  {
   "cell_type": "code",
   "execution_count": 217,
   "metadata": {},
   "outputs": [
    {
     "data": {
      "text/plain": [
       "array([-14.5, -15.3, -14.8, -14.4, -15. , -16. , -14.3, -16.7, -17.2,\n",
       "       -15.7, -13.6, -12.4, -13.2, -14. , -14.8, -14. , -13.3, -14. ,\n",
       "       -14.8, -14.6, -14.1, -15.2, -17.1, -14. , -13.6, -17.5, -18.3,\n",
       "       -14. , -15.6, -15. , -15.2, -16.2, -18.3, -18.4, -16. , -16.4,\n",
       "       -18.3, -15.3, -15.5, -14.7, -15.3, -15.2, -13.5, -16. , -16. ,\n",
       "       -15. , -15.5, -15.3, -14. , -13.6, -14.8, -14.5, -14.4, -15.6,\n",
       "       -16.7, -14.7, -13.6, -14.5, -12.8, -13.2, -12.7, -12.8, -13.8,\n",
       "       -15.7, -13.8, -11.1, -12.6, -13.4, -14.3, -12.4, -12.2, -12.8,\n",
       "       -16.2, -17. , -12. , -12.6, -12.9, -13.1, -13.5, -13.4, -12.5,\n",
       "       -12.2, -13.3, -14. , -11.8, -12.5, -12.8, -12. , -11. , -11.2,\n",
       "       -10.3, -11.1,  -9.7, -11.3, -12.2, -11.8, -11. , -11.3, -11.4,\n",
       "       -11.2, -10.8, -12.1, -10.4, -10. ,  -9.5, -11.6, -10.3, -10.1,\n",
       "        -8.7, -10.7,  -9. ,  -8.2,  -7.5, -10.2, -10.1,  -8.2,  -7. ,\n",
       "        -6.8,  -7.5,  -7.5,  -6.6,  -6.4,  -5.5,  -4. ,  -4.5,  -4.3,\n",
       "        -4. ,  -3.5,  -4.4,  -5. ,  -6.3,  -4.2,  -4.4,  -3.4,  -3.5,\n",
       "        -3.5,  -2.2,  -2.3,  -2.2,  -2.6,  -5.3,  -4.3,  -3.2,  -2. ,\n",
       "        -2. ,  -0.6,  -0.7,  -3. ,  -2. ,  -0.5,  -0.1,  -0.7,  -1.5,\n",
       "        -1.4,  -2.5,  -1. ,  -0.8,  -0.5,  -0.9,  -1.2,  -0.4,   0.3,\n",
       "         0.7,   0.6,   1.1,   1. ,   0.7,   1. ,   1.9,   1.6,   0.7,\n",
       "         1. ,   1. ,   1.2,   2.4,   3.4,   2. ,   2.7,   1.9,   2.3,\n",
       "         2.2,   3. ,   3.5,   0.7,   3.5,   4.2,   3.5,   4. ,   2.6,\n",
       "         3.5,   4.2,   3.2,   3.9,   3.8,   3.6,   3.5,   3.6,   4.1,\n",
       "         4.5,   4.6,   4.8,   3. ,   5. ,   4.1,   3.7,   4.7,   4.4,\n",
       "         5. ,   5.3,   4.2,   4.9,   4.5,   4.8,   4.2,   4.6,   4.9,\n",
       "         3. ,   4.2,   2.5,   3.4,   3.5,   3.9,   2.4,   2.1,   3.6,\n",
       "         2.3,   2.5,   2.5,   1.8,   4. ,   3.8,   3. ,   2.6,   1.7,\n",
       "         1.7,   1.4,   2.5,   1.5,   2.3,   1.6,   1.9,   1.8,   1.1,\n",
       "         0.7,   0.5,   0.3,   1.3,   0. ,   0.3,  -0.8,   1. ,  -0.2,\n",
       "         1. ,  -0.8,  -2.8,   0.5,  -1. ,   0.2,   0. ,   0.5,  -0.2,\n",
       "        -1.2,  -1.2,  -2.8,  -0.4,  -2. ,  -1.4,  -2.2,  -2.6,  -4.3,\n",
       "        -3.6,  -2. ,  -2.9,  -2.8,  -1.6,  -2.9,  -4.2,  -3.8,  -5. ,\n",
       "        -5.2,  -4. ,  -5.8,  -3.8,  -5.3,  -5.2,  -6.5,  -6.1,  -5.5,\n",
       "        -6.5,  -6.6,  -5.9,  -7.2,  -6.4,  -7.8,  -7. ,  -7.5,  -9.5,\n",
       "        -8.2,  -8.3,  -8.6,  -9.5,  -7.5,  -9.1,  -9.6,  -9.6, -10.5,\n",
       "       -10.4, -11.4, -10.6,  -7.6,  -9.3,  -9.5, -10.8, -10.8, -10.2,\n",
       "        -8.8, -10. , -10.5, -12. , -11.6, -11.4,  -9.2, -11.3, -11.5,\n",
       "       -10.4,  -9.5, -12.1, -11.9, -10.2, -11.9, -12.5, -12.1, -11.3,\n",
       "       -12.2, -12. , -11.4, -10.5, -11. , -11. , -11.9, -11.4, -12.1,\n",
       "       -12.7, -12.1, -13.3, -13.8, -14.3, -15.2, -14.4, -13.8, -14.3,\n",
       "       -12.6, -12.8, -12.3, -12.2, -14.8, -15.6, -13.5, -13.5, -13. ,\n",
       "       -13. , -15. , -16.8, -16.6, -13.5])"
      ]
     },
     "execution_count": 217,
     "metadata": {},
     "output_type": "execute_result"
    }
   ],
   "source": [
    "tromso_tmin_recordmin "
   ]
  },
  {
   "cell_type": "code",
   "execution_count": 218,
   "metadata": {},
   "outputs": [
    {
     "data": {
      "text/plain": [
       "array([ 1.7,  0.6,  1.2,  1.5,  2.8,  2.9,  5. ,  4.5,  2.5,  3. ,  2.1,\n",
       "        3. ,  3.3,  4.1,  2.9,  3.9,  3.2,  2.4,  4.5,  1.8,  2.7,  2.8,\n",
       "        1.2,  3.4,  3.7,  0.9,  1.6,  0.6,  1.1,  1.8,  2.7,  3. ,  1.3,\n",
       "        3. ,  2.6,  0.5,  1.7,  1.5,  1.6,  2.6,  3.3,  3.1,  2.8,  3.8,\n",
       "        3.2,  1.5,  2.6,  1.9,  2.9,  3.4,  2.5,  3. ,  3.4,  3.6,  2.9,\n",
       "        3.1,  3.9,  3.2,  3.2,  2. ,  2.8,  1.9,  3.6,  2. ,  4.5,  5.5,\n",
       "        2.5,  3.7,  2.8,  3.1,  3. ,  2.9,  3. ,  2.7,  4. ,  2.6,  1.2,\n",
       "        1.6,  3. ,  3.1,  2.8,  3.2,  2.8,  4.1,  4.4,  5.1,  5.4,  1. ,\n",
       "        2.5,  3.2,  4. ,  5. ,  4.1,  4. ,  3.4,  2.4,  4.9,  3.8,  4. ,\n",
       "        3.3,  4. ,  5.7,  5.8,  4.6,  4.3,  5.3,  4.6,  5.8,  5. ,  5.5,\n",
       "        3.2,  5. ,  5.1,  4.8,  4.8,  5.5,  5.7,  7.5,  6.9,  6.8,  6.4,\n",
       "        7. ,  5.6, 10.2,  6.7,  7.9,  7.8,  7.8,  9.7,  6.8,  7. ,  7.4,\n",
       "        8.7,  8. ,  7.5,  9.7, 10.5,  7.4,  7.8, 10.6,  7.5, 11.5, 11.1,\n",
       "        9.9,  8.2,  9. , 11.4, 11.3, 12.1, 10.2, 11.4, 12.6, 15.1, 11.8,\n",
       "       15.4, 12.8, 12.9, 10.1,  9.9, 11. , 10.4,  9.9, 12.4, 14.1, 17.1,\n",
       "       14. , 13.6, 14.9, 13.8, 16. , 16. , 18.5, 15.8, 12.7, 16.3, 13.9,\n",
       "       16.1, 15. , 18. , 15.6, 17. , 18. , 19.4, 17.2, 16.8, 18.5, 17.6,\n",
       "       15.9, 18.2, 20.5, 17.5, 15.2, 15.3, 17.1, 17. , 16.4, 17.8, 16. ,\n",
       "       15.5, 14.9, 14.8, 17.6, 15.4, 14.1, 13.9, 15.3, 17.6, 16.9, 17.8,\n",
       "       17.2, 17.1, 16.6, 15.3, 14.9, 13.9, 14.3, 16.9, 15.2, 15.9, 14.5,\n",
       "       14.7, 12.9, 13.8, 15. , 14.6, 13.4, 14. , 12.4, 15.4, 15.8, 13.6,\n",
       "       12.4, 13. , 14.3, 12.6, 14.5, 13. , 14.7, 12.4, 11.1, 10.5, 13.2,\n",
       "       14.2, 15. , 13.2, 11.3, 11. , 13.7, 12.7, 11.4, 12. , 13. , 12.3,\n",
       "       10.2, 11.1, 10.8, 11. , 10.9,  9.6, 10.6, 10.3, 11.5, 10.8,  9.6,\n",
       "       10.6,  9.7, 11.7, 11. ,  9.4,  9.4,  8.5,  8.5,  8.4,  9.1,  8.7,\n",
       "        9.1,  8.8, 10.8,  9.1,  9. , 12.2,  7.9, 10. ,  8.9,  7.9, 10.3,\n",
       "        8.9,  8.3,  7.8,  8.5,  6.6,  8.5,  7.8,  8.6,  9. ,  8. ,  6.9,\n",
       "        8.4,  8.1,  6.6,  6.4,  9.7,  7.6,  8.1,  6.7,  7.4,  5.9,  5.8,\n",
       "        5.4,  6.2,  6. ,  5.8,  4.6,  4.6,  7.6,  5.2,  4. ,  3. ,  2. ,\n",
       "        3.4,  5.1,  5.5,  6. ,  5.5,  5.1,  3.8,  5.1,  2.9,  6. ,  3.7,\n",
       "        4.7,  5.2,  3.1,  3.9,  4. ,  5.4,  5. ,  3.3,  3.2,  3.2,  3.4,\n",
       "        2.7,  4.6,  3.8,  4.8,  3.7,  3. ,  4.7,  4. ,  5.4,  4.6,  3.6,\n",
       "        3.2,  1.7,  5.2,  3.8,  2.3,  2.9,  1.7,  2. ,  2.2,  2.2,  3.2,\n",
       "        3.1,  1.9])"
      ]
     },
     "execution_count": 218,
     "metadata": {},
     "output_type": "execute_result"
    }
   ],
   "source": [
    "tromso_tmin_recordmax"
   ]
  },
  {
   "cell_type": "code",
   "execution_count": 178,
   "metadata": {},
   "outputs": [
    {
     "data": {
      "text/plain": [
       "[<matplotlib.lines.Line2D at 0x7fd7f36decd0>]"
      ]
     },
     "execution_count": 178,
     "metadata": {},
     "output_type": "execute_result"
    },
    {
     "data": {
      "image/png": "[encoded data removed]",
      "text/plain": [
       "<Figure size 432x288 with 1 Axes>"
      ]
     },
     "metadata": {
      "needs_background": "light"
     },
     "output_type": "display_data"
    }
   ],
   "source": [
    "pp.plot(tromso_tmin_recordmax,'.')"
   ]
  },
  {
   "cell_type": "code",
   "execution_count": null,
   "metadata": {},
   "outputs": [],
   "source": []
  },
  {
   "cell_type": "code",
   "execution_count": 179,
   "metadata": {},
   "outputs": [],
   "source": [
    "tromso_tmax_all = np.vstack([selectyear(tromso_tmax,year)[:365] for year in range(1951,2014+1)])"
   ]
  },
  {
   "cell_type": "code",
   "execution_count": 180,
   "metadata": {},
   "outputs": [
    {
     "data": {
      "text/plain": [
       "(-18.25, 365.0, -20.83, 32.629999999999995)"
      ]
     },
     "execution_count": 180,
     "metadata": {},
     "output_type": "execute_result"
    },
    {
     "data": {
      "image/png": "[encoded data removed]",
      "text/plain": [
       "<Figure size 864x288 with 1 Axes>"
      ]
     },
     "metadata": {
      "needs_background": "light"
     },
     "output_type": "display_data"
    }
   ],
   "source": [
    "pp.figure(figsize=(12,4))\n",
    "\n",
    "days = np.arange(1,365+1)\n",
    "\n",
    "pp.fill_between(days,np.min(tromso_tmin_all,axis=0),np.max(tromso_tmin_all,axis=0),alpha=0.4)\n",
    "pp.plot(selectyear(tromso_tmin,2009))\n",
    "\n",
    "pp.fill_between(days,np.min(tromso_tmax_all,axis=0),np.max(tromso_tmax_all,axis=0),alpha=0.4)\n",
    "pp.plot(selectyear(tromso_tmax,2009))\n",
    "\n",
    "pp.axis(xmax=365)"
   ]
  },
  {
   "cell_type": "code",
   "execution_count": 181,
   "metadata": {},
   "outputs": [
    {
     "name": "stdout",
     "output_type": "stream",
     "text": [
      "{'NO000001212': 'ONA HUSOY GSN 01212'}\n"
     ]
    }
   ],
   "source": [
    "findstation('ONA HUSOY')"
   ]
  },
  {
   "cell_type": "code",
   "execution_count": 182,
   "metadata": {},
   "outputs": [
    {
     "name": "stdout",
     "output_type": "stream",
     "text": [
      "{'NO000001465': 'TORUNGEN FYR GSN 01465'}\n"
     ]
    }
   ],
   "source": [
    "findstation('TORUNGEN FYR')"
   ]
  },
  {
   "cell_type": "code",
   "execution_count": 183,
   "metadata": {},
   "outputs": [
    {
     "name": "stdout",
     "output_type": "stream",
     "text": [
      "{'NO000011520': 'BODO VI GSN 01152'}\n"
     ]
    }
   ],
   "source": [
    "findstation('BODO VI ')"
   ]
  },
  {
   "cell_type": "code",
   "execution_count": 262,
   "metadata": {},
   "outputs": [
    {
     "name": "stdout",
     "output_type": "stream",
     "text": [
      "{'NO000099710': 'BJOERNOEYA GSN 01028'}\n"
     ]
    }
   ],
   "source": [
    "findstation('BJOERNOEYA')"
   ]
  },
  {
   "cell_type": "code",
   "execution_count": 263,
   "metadata": {},
   "outputs": [],
   "source": [
    "bjoernoeya_tmax = getobs('NO000099710.dly','TMAX')\n",
    "bjoernoeya_tmin = getobs('NO000099710.dly','TMIN')"
   ]
  },
  {
   "cell_type": "code",
   "execution_count": 223,
   "metadata": {},
   "outputs": [
    {
     "data": {
      "text/plain": [
       "(5.676749216823646, 9.122197866573014)"
      ]
     },
     "execution_count": 223,
     "metadata": {},
     "output_type": "execute_result"
    }
   ],
   "source": [
    "np.mean(ona_tmin['value']), np.mean(ona_tmax['value'])"
   ]
  },
  {
   "cell_type": "code",
   "execution_count": 224,
   "metadata": {},
   "outputs": [
    {
     "data": {
      "text/plain": [
       "(5.329151117793497, 10.2651180029651)"
      ]
     },
     "execution_count": 224,
     "metadata": {},
     "output_type": "execute_result"
    }
   ],
   "source": [
    "np.mean(torungen_tmin['value']), np.mean(torungen_tmax['value'])"
   ]
  },
  {
   "cell_type": "code",
   "execution_count": 265,
   "metadata": {},
   "outputs": [
    {
     "data": {
      "text/plain": [
       "[<matplotlib.lines.Line2D at 0x7fd7f35b5ee0>]"
      ]
     },
     "execution_count": 265,
     "metadata": {},
     "output_type": "execute_result"
    },
    {
     "data": {
      "image/png": "[encoded data removed]",
      "text/plain": [
       "<Figure size 432x288 with 1 Axes>"
      ]
     },
     "metadata": {
      "needs_background": "light"
     },
     "output_type": "display_data"
    }
   ],
   "source": [
    "pp.plot(bjoernoeya_tmin['date'],bjoernoeya_tmin['value'])"
   ]
  },
  {
   "cell_type": "code",
   "execution_count": 240,
   "metadata": {},
   "outputs": [
    {
     "data": {
      "text/plain": [
       "[<matplotlib.lines.Line2D at 0x7fd7f4704df0>]"
      ]
     },
     "execution_count": 240,
     "metadata": {},
     "output_type": "execute_result"
    },
    {
     "data": {
      "image/png": "[encoded data removed]",
      "text/plain": [
       "<Figure size 432x288 with 1 Axes>"
      ]
     },
     "metadata": {
      "needs_background": "light"
     },
     "output_type": "display_data"
    }
   ],
   "source": [
    "pp.plot(torungen_tmin['date'],torungen_tmin['value'])"
   ]
  },
  {
   "cell_type": "code",
   "execution_count": 231,
   "metadata": {},
   "outputs": [
    {
     "data": {
      "text/plain": [
       "array([ 5.7,  2. ,  5.5,  3.7,  0.9,  5.7,  4.6,  6.3,  8. ,  8.1, 10.3,\n",
       "       10.5,  9.9,  7.1,  2.2,  5.6,  7.4,  7.5,  7.1,  5.5,  5.5,  7. ,\n",
       "        6.6,  6.4,  6.8,  5.6,  5.6,  6. ,  6. ,  6.7,  7.5,  7.6,  3.9,\n",
       "        2.9,  2.6,  1.7,  1.6,  0.4,  0.4,  1.1,  2.2,  0.7,  2.8,  2.9,\n",
       "        3.3,  2.3,  3.4,  3.9,  5.3,  5.6,  6. ,  6.2,  7.5,  6.3,  4.7,\n",
       "        5.8,  4.7,  4.4,  2.2])"
      ]
     },
     "execution_count": 231,
     "metadata": {},
     "output_type": "execute_result"
    }
   ],
   "source": [
    "selectyear(ona_tmax,2009)[:365]"
   ]
  },
  {
   "cell_type": "code",
   "execution_count": 293,
   "metadata": {},
   "outputs": [],
   "source": [
    "torungen_tmax = getobs('NO000001465.dly','TMAX')\n",
    "torungen_tmin = getobs('NO000001465.dly','TMIN')"
   ]
  },
  {
   "cell_type": "code",
   "execution_count": 294,
   "metadata": {},
   "outputs": [],
   "source": [
    "fillnans(bjoernoeya_tmax)\n",
    "fillnans(bjoernoeya_tmin)\n",
    "fillnans(torungen_tmax)\n",
    "fillnans(torungen_tmin)"
   ]
  },
  {
   "cell_type": "code",
   "execution_count": 267,
   "metadata": {},
   "outputs": [],
   "source": [
    "years = np.arange(1964,2008+1)"
   ]
  },
  {
   "cell_type": "code",
   "execution_count": 268,
   "metadata": {},
   "outputs": [
    {
     "data": {
      "text/plain": [
       "45"
      ]
     },
     "execution_count": 268,
     "metadata": {},
     "output_type": "execute_result"
    }
   ],
   "source": [
    "len(years)"
   ]
  },
  {
   "cell_type": "code",
   "execution_count": 269,
   "metadata": {},
   "outputs": [],
   "source": [
    "torungen_tmax_all = np.vstack([selectyear(torungen_tmax,year)[:365] for year in years])"
   ]
  },
  {
   "cell_type": "code",
   "execution_count": 271,
   "metadata": {},
   "outputs": [],
   "source": [
    "bjoernoeya_tmax_all = np.vstack([selectyear(bjoernoeya_tmax,year)[:365] for year in years])"
   ]
  },
  {
   "cell_type": "code",
   "execution_count": 272,
   "metadata": {},
   "outputs": [],
   "source": [
    "bjoernoeya_mean = np.mean(bjoernoeya_tmax_all,axis=1)"
   ]
  },
  {
   "cell_type": "code",
   "execution_count": 275,
   "metadata": {},
   "outputs": [],
   "source": [
    "torungen_mean = np.mean(torungen_tmax_all,axis=1)"
   ]
  },
  {
   "cell_type": "code",
   "execution_count": 276,
   "metadata": {},
   "outputs": [
    {
     "data": {
      "text/plain": [
       "[<matplotlib.lines.Line2D at 0x7fd7f3519460>]"
      ]
     },
     "execution_count": 276,
     "metadata": {},
     "output_type": "execute_result"
    },
    {
     "data": {
      "image/png": "[encoded data removed]",
      "text/plain": [
       "<Figure size 432x288 with 1 Axes>"
      ]
     },
     "metadata": {
      "needs_background": "light"
     },
     "output_type": "display_data"
    }
   ],
   "source": [
    "pp.plot(years,bjoernoeya_mean)\n",
    "pp.plot(years,torungen_mean)"
   ]
  },
  {
   "cell_type": "code",
   "execution_count": 274,
   "metadata": {},
   "outputs": [
    {
     "data": {
      "text/plain": [
       "2006"
      ]
     },
     "execution_count": 274,
     "metadata": {},
     "output_type": "execute_result"
    }
   ],
   "source": [
    "bjoernoeya_warmest = years[np.argmax(bjoernoeya_mean)]\n",
    "bjoernoeya_warmest"
   ]
  },
  {
   "cell_type": "code",
   "execution_count": 277,
   "metadata": {},
   "outputs": [
    {
     "data": {
      "text/plain": [
       "1990"
      ]
     },
     "execution_count": 277,
     "metadata": {},
     "output_type": "execute_result"
    }
   ],
   "source": [
    "torungen_warmest = years[np.argmax(torungen_mean)]\n",
    "torungen_warmest"
   ]
  },
  {
   "cell_type": "code",
   "execution_count": 278,
   "metadata": {},
   "outputs": [
    {
     "data": {
      "text/plain": [
       "1968"
      ]
     },
     "execution_count": 278,
     "metadata": {},
     "output_type": "execute_result"
    }
   ],
   "source": [
    "bjoernoeya_tmin_all = np.vstack([selectyear(bjoernoeya_tmin,year)[:365] for year in years])\n",
    "bjoernoeya_mean = np.mean(bjoernoeya_tmin_all,axis=1)\n",
    "bjoernoeya_coldest = years[np.argmin(bjoernoeya_mean)]\n",
    "bjoernoeya_coldest"
   ]
  },
  {
   "cell_type": "code",
   "execution_count": 307,
   "metadata": {},
   "outputs": [
    {
     "data": {
      "text/plain": [
       "array([  0,   1,   2,   3,   4,   5,   6,   7,   8,   9,  10,  11,  12,\n",
       "        13,  14,  15,  16,  17,  18,  19,  20,  21,  22,  23,  24,  25,\n",
       "        26,  27,  28,  29,  30,  31,  32,  33,  34,  35,  36,  37,  38,\n",
       "        39,  40,  41,  42,  43,  44,  45,  46,  47,  48,  49,  50,  51,\n",
       "        52,  53,  54,  55,  56,  57,  58,  59,  60,  61,  62,  63,  64,\n",
       "        65,  66,  67,  68,  69,  70,  71,  72,  73,  74,  75,  76,  77,\n",
       "        78,  79,  80,  81,  82,  83,  84,  85,  86,  87,  88,  89,  90,\n",
       "        91,  92,  93,  94,  95,  96,  97,  98,  99, 100, 101, 102, 103,\n",
       "       104, 105, 106, 107, 108, 109, 110, 111, 112, 113, 114, 115, 116,\n",
       "       117, 118, 119, 120, 121, 122, 123, 124, 125, 126, 127, 128, 129,\n",
       "       130, 131, 132, 133, 134, 135, 136, 137, 138, 139, 140, 141, 142,\n",
       "       143, 144, 145, 146, 147, 148, 149, 150, 151, 152, 153, 154, 155,\n",
       "       156, 157, 158, 159, 160, 161, 162, 163, 164, 165, 166, 167, 168,\n",
       "       169, 170, 171, 172, 173, 174, 175, 176, 177, 178, 179, 180, 181,\n",
       "       182, 183, 184, 185, 186, 187, 188, 189, 190, 191, 192, 193, 194,\n",
       "       195, 196, 197, 198, 199, 200, 201, 202, 203, 204, 205, 206, 207,\n",
       "       208, 209, 210, 211, 212, 213, 214, 215, 216, 217, 218, 219, 220,\n",
       "       221, 222, 223, 224, 225, 226, 227, 228, 229, 230, 231, 232, 233,\n",
       "       234, 235, 236, 237, 238, 239, 240, 241, 242, 243, 244, 245, 246,\n",
       "       247, 248, 249, 250, 251, 252, 253, 254, 255, 256, 257, 258, 259,\n",
       "       260, 261, 262, 263, 264, 265, 266, 267, 268, 269, 270, 271, 272,\n",
       "       273, 274, 275, 276, 277, 278, 279, 280, 281, 282, 283, 284, 285,\n",
       "       286, 287, 288, 289, 290, 291, 292, 293, 294, 295, 296, 297, 298,\n",
       "       299, 300, 301, 302, 303, 304, 305, 306, 307, 308, 309, 310, 311,\n",
       "       312, 313, 314, 315, 316, 317, 318, 319, 320, 321, 322, 323, 324,\n",
       "       325, 326, 327, 328, 329, 330, 331, 332, 333, 334, 335, 336, 337,\n",
       "       338, 339, 340, 341, 342, 343, 344, 345, 346, 347, 348, 349, 350,\n",
       "       351, 352, 353, 354, 355, 356, 357, 358, 359, 360, 361, 362, 363,\n",
       "       364, 365])"
      ]
     },
     "execution_count": 307,
     "metadata": {},
     "output_type": "execute_result"
    }
   ],
   "source": [
    "days-1"
   ]
  },
  {
   "cell_type": "code",
   "execution_count": 298,
   "metadata": {},
   "outputs": [
    {
     "data": {
      "text/plain": [
       "1990"
      ]
     },
     "execution_count": 298,
     "metadata": {},
     "output_type": "execute_result"
    }
   ],
   "source": [
    "torungen_warmest"
   ]
  },
  {
   "cell_type": "code",
   "execution_count": 302,
   "metadata": {},
   "outputs": [
    {
     "data": {
      "text/plain": [
       "1968"
      ]
     },
     "execution_count": 302,
     "metadata": {},
     "output_type": "execute_result"
    }
   ],
   "source": [
    "bjoernoeya_coldest"
   ]
  },
  {
   "cell_type": "code",
   "execution_count": 301,
   "metadata": {},
   "outputs": [
    {
     "data": {
      "text/plain": [
       "366"
      ]
     },
     "execution_count": 301,
     "metadata": {},
     "output_type": "execute_result"
    }
   ],
   "source": [
    "len(selectyear(bjoernoeya_tmin,bjoernoeya_coldest))"
   ]
  },
  {
   "cell_type": "code",
   "execution_count": 310,
   "metadata": {},
   "outputs": [
    {
     "data": {
      "text/plain": [
       "<matplotlib.collections.PolyCollection at 0x7fd7f301a850>"
      ]
     },
     "execution_count": 310,
     "metadata": {},
     "output_type": "execute_result"
    },
    {
     "data": {
      "image/png": "[encoded data removed]",
      "text/plain": [
       "<Figure size 432x288 with 1 Axes>"
      ]
     },
     "metadata": {
      "needs_background": "light"
     },
     "output_type": "display_data"
    }
   ],
   "source": [
    "pp.fill_between(days,\n",
    "                selectyear(bjoernoeya_tmin,bjoernoeya_coldest),\n",
    "                selectyear(bjoernoeya_tmax,bjoernoeya_coldest),\n",
    "                color='r',alpha=0.4)"
   ]
  },
  {
   "cell_type": "code",
   "execution_count": 314,
   "metadata": {},
   "outputs": [
    {
     "data": {
      "text/plain": [
       "<matplotlib.collections.PolyCollection at 0x7fd7f2ea1dc0>"
      ]
     },
     "execution_count": 314,
     "metadata": {},
     "output_type": "execute_result"
    },
    {
     "data": {
      "image/png": "[encoded data removed]",
      "text/plain": [
       "<Figure size 432x288 with 1 Axes>"
      ]
     },
     "metadata": {
      "needs_background": "light"
     },
     "output_type": "display_data"
    }
   ],
   "source": [
    "pp.fill_between(days_2,\n",
    "                selectyear(torungen_tmin,torungen_warmest),\n",
    "                selectyear(torungen_tmax,torungen_warmest),\n",
    "                color='b',alpha=0.4)"
   ]
  },
  {
   "cell_type": "code",
   "execution_count": 316,
   "metadata": {},
   "outputs": [
    {
     "data": {
      "text/plain": [
       "Text(0.5, 1.0, '1990 in Torungen vs. 1968 in Bjoernoeya')"
      ]
     },
     "execution_count": 316,
     "metadata": {},
     "output_type": "execute_result"
    },
    {
     "data": {
      "image/png": "[encoded data removed]",
      "text/plain": [
       "<Figure size 864x288 with 1 Axes>"
      ]
     },
     "metadata": {
      "needs_background": "light"
     },
     "output_type": "display_data"
    }
   ],
   "source": [
    "pp.figure(figsize=(12,4))\n",
    "\n",
    "days = np.arange(1,366+1)\n",
    "days_2 = np.arange(1,366)\n",
    "#fill_between generates a shaded region between min and max temperature\n",
    "pp.fill_between(days_2,\n",
    "                selectyear(torungen_tmin,torungen_warmest),\n",
    "                selectyear(torungen_tmax,torungen_warmest),\n",
    "                color='r',alpha=0.4)\n",
    "\n",
    "pp.fill_between(days,\n",
    "                selectyear(bjoernoeya_tmin,bjoernoeya_coldest),\n",
    "                selectyear(bjoernoeya_tmax,bjoernoeya_coldest),\n",
    "                color='b',alpha=0.4)\n",
    "\n",
    "pp.axis(xmax=366)\n",
    "\n",
    "pp.title('{} in Torungen vs. {} in Bjoernoeya'.format(torungen_warmest,bjoernoeya_coldest))"
   ]
  },
  {
   "cell_type": "code",
   "execution_count": null,
   "metadata": {},
   "outputs": [],
   "source": []
  }
 ],
 "metadata": {
  "kernelspec": {
   "display_name": "Python 3 (ipykernel)",
   "language": "python",
   "name": "python3"
  },
  "language_info": {
   "codemirror_mode": {
    "name": "ipython",
    "version": 3
   },
   "file_extension": ".py",
   "mimetype": "text/x-python",
   "name": "python",
   "nbconvert_exporter": "python",
   "pygments_lexer": "ipython3",
   "version": "3.8.10"
  }
 },
 "nbformat": 4,
 "nbformat_minor": 1
}
